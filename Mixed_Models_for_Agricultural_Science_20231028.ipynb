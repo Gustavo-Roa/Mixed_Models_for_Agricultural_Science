{
  "nbformat": 4,
  "nbformat_minor": 0,
  "metadata": {
    "colab": {
      "provenance": [],
      "include_colab_link": true
    },
    "kernelspec": {
      "name": "python3",
      "display_name": "Python 3"
    },
    "language_info": {
      "name": "python"
    }
  },
  "cells": [
    {
      "cell_type": "markdown",
      "metadata": {
        "id": "view-in-github",
        "colab_type": "text"
      },
      "source": [
        "<a href=\"https://colab.research.google.com/github/Gustavo-Roa/Mixed_Models_for_Agricultural_Science/blob/main/Mixed_Models_for_Agricultural_Science_20231028.ipynb\" target=\"_parent\"><img src=\"https://colab.research.google.com/assets/colab-badge.svg\" alt=\"Open In Colab\"/></a>"
      ]
    },
    {
      "cell_type": "markdown",
      "source": [
        "# 1. Matrix Algebra"
      ],
      "metadata": {
        "id": "Fdcz_1r27IF0"
      }
    },
    {
      "cell_type": "markdown",
      "source": [
        "## 1.1 Notation for Scalars, Vectors, and Matrices\n"
      ],
      "metadata": {
        "id": "-WEk9m8M7PxR"
      }
    },
    {
      "cell_type": "markdown",
      "source": [
        "\n",
        "- Lowercase letters represent scalars, for example: $x$, $b$\n",
        "\n",
        "- Boldface, lowercase letters represent vectors, for example: $\\mathbf{x}$, $ \\mathbf{y}$\n",
        "\n",
        "- Boldface, uppercase letters represent matrices, for example: $ \\mathbf{X} $, $ \\mathbf{A}$"
      ],
      "metadata": {
        "id": "LAq8ZTfIBg0s"
      }
    },
    {
      "cell_type": "markdown",
      "source": [
        "## 1.2 Notation for Dimensions and Elements of a Matrix"
      ],
      "metadata": {
        "id": "yJCWw2Ra_qf_"
      }
    },
    {
      "cell_type": "markdown",
      "source": [
        "* Suppose $ \\mathbf{A} $ is a matrix with $ m $ rows and $ n $ columns. Then we say that $\\mathbf{A} $ has dimensions $ m \\times n $.\n",
        "\n",
        "* Let $ a_{ij} \\in \\mathbb{R} $ be the element or entry in the $ i $th row and $ j $th column of $ \\mathbf{A} $.\n",
        "\n",
        "* We convey all this information with the notation $ \\mathbf{A} = [a_{ij}] $."
      ],
      "metadata": {
        "id": "m1Cee6bdBkOH"
      }
    },
    {
      "cell_type": "markdown",
      "source": [
        "## 1.3 The Product of a Scalar and a Matrix\n"
      ],
      "metadata": {
        "id": "H3D9qJDO-nIj"
      }
    },
    {
      "cell_type": "markdown",
      "source": [
        "Suppose $ \\mathbf{A} = [a_{ij}] $ is a matrix of dimension $ m \\times n $. For any scalar $ c \\in \\mathbb{R} $, $$ c\\mathbf{A} = \\mathbf{A}c = [ca_{ij}] $$\n",
        "\n",
        "i.e., the product of the scalar $ c $ and the matrix $ \\mathbf{A} = [a_{ij}] $ is the matrix whose entry in the $ i $th row and $ j $th column is $ c $ times $a_{ij} $ for each $ i = 1, ..., m $ and $ j = 1, ..., n $."
      ],
      "metadata": {
        "id": "mqkSWeWR_cAE"
      }
    },
    {
      "cell_type": "code",
      "execution_count": 1,
      "metadata": {
        "id": "d3398b45",
        "colab": {
          "base_uri": "https://localhost:8080/"
        },
        "outputId": "8a324af1-dcfc-4ab8-d711-a3a9b6ba0e45"
      },
      "outputs": [
        {
          "output_type": "execute_result",
          "data": {
            "text/plain": [
              "array([[2, 4],\n",
              "       [6, 8]])"
            ]
          },
          "metadata": {},
          "execution_count": 1
        }
      ],
      "source": [
        "import numpy as np\n",
        "A = np.array([[1, 2], [3, 4]]) # Define a matrix A\n",
        "c = 2                          # Define a scalar c\n",
        "A2 = c * A                     # Compute the product of the scalar and the matrix\n",
        "A2                             # This will display the resulting matrix"
      ]
    },
    {
      "cell_type": "code",
      "source": [
        "A"
      ],
      "metadata": {
        "id": "bJ5IES4yhPf2",
        "outputId": "c0e914e9-4d64-4bbd-e3a3-d21de8c277c4",
        "colab": {
          "base_uri": "https://localhost:8080/"
        }
      },
      "execution_count": 3,
      "outputs": [
        {
          "output_type": "execute_result",
          "data": {
            "text/plain": [
              "array([[1, 2],\n",
              "       [3, 4]])"
            ]
          },
          "metadata": {},
          "execution_count": 3
        }
      ]
    },
    {
      "cell_type": "markdown",
      "source": [
        "Question:\n",
        "\n",
        "Create a 2x2 matrix $\\mathbf{B}$:\n",
        "\n",
        "$\n",
        "\\mathbf{B} = \\begin{bmatrix}\n",
        "1 & 3 \\\\\n",
        "5 & 7 \\\\\n",
        "\\end{bmatrix}\n",
        "$\n",
        "\n",
        "and a scalar $b = 3$.\n",
        "\n",
        "Write code to compute the product of the scalar $b$ and the matrix $\\mathbf{B}$.\n"
      ],
      "metadata": {
        "id": "tKwYL_yU_rdO"
      }
    },
    {
      "cell_type": "code",
      "source": [
        "B = np.array([[1, 3], [5, 7]])\n",
        "B\n"
      ],
      "metadata": {
        "id": "tmCIRsQviE_q",
        "outputId": "f30cdc7f-5f41-4661-8ac8-1e227cd20af6",
        "colab": {
          "base_uri": "https://localhost:8080/"
        }
      },
      "execution_count": 7,
      "outputs": [
        {
          "output_type": "execute_result",
          "data": {
            "text/plain": [
              "array([[1, 3],\n",
              "       [5, 7]])"
            ]
          },
          "metadata": {},
          "execution_count": 7
        }
      ]
    },
    {
      "cell_type": "markdown",
      "source": [
        "## 1.4 The Sum of Two Matrices"
      ],
      "metadata": {
        "id": "jxhS9mo8BoRb"
      }
    },
    {
      "cell_type": "markdown",
      "source": [
        "Suppose $\\mathbf{A} = [a_{ij}]$ and $\\mathbf{B} = [b_{ij}] $ are matrices of dimension $m \\times n $. Then the sum of $\\mathbf{A} $ and $ \\mathbf{B} $ is another matrix $\\mathbf{C} = [c_{ij}] $ of the same dimension, where:\n",
        "\n",
        "$$ \\mathbf{C} = \\mathbf{A} + \\mathbf{B} = [a_{ij} + b_{ij}] $$\n",
        "\n",
        "i.e., the entry in the $i$th row and $j$th column of $\\mathbf{C} $ is the sum of the entry in the $i$th row and $j$th column of $\\mathbf{A}$ and the entry in the $i$th row and $j$th column of $\\mathbf{B}$."
      ],
      "metadata": {
        "id": "71MfnvRE_cDp"
      }
    },
    {
      "cell_type": "code",
      "source": [
        "A = np.array([[1, 2], [3, 4]]) # Define a matrix A\n",
        "B = np.array([[5, 6], [7, 8]]) # Define a matrix B\n",
        "C = A + B # Compute the sum of the two matrices\n",
        "C # This will display the resulting matrix"
      ],
      "metadata": {
        "colab": {
          "base_uri": "https://localhost:8080/"
        },
        "id": "u_mmIQe-CSN2",
        "outputId": "869d6f0c-d64a-435a-c6b4-8da5e357f286"
      },
      "execution_count": 9,
      "outputs": [
        {
          "output_type": "execute_result",
          "data": {
            "text/plain": [
              "array([[ 6,  8],\n",
              "       [10, 12]])"
            ]
          },
          "metadata": {},
          "execution_count": 9
        }
      ]
    },
    {
      "cell_type": "markdown",
      "source": [
        "Question:\n",
        "\n",
        "Create two 2x3 matrices $\\mathbf{A}$ and $\\mathbf{B}$:\n",
        "\n",
        "$\n",
        "\\mathbf{A} = \\begin{bmatrix}\n",
        "1 & 2 & 3\\\\\n",
        "4 & 5 & 6 \\\\\n",
        "\\end{bmatrix}\n",
        "$\n",
        "\n",
        "$\n",
        "\\mathbf{B} = \\begin{bmatrix}\n",
        "1 & 1 & 1 \\\\\n",
        "2 & 2 & 2 \\\\\n",
        "\\end{bmatrix}\n",
        "$\n",
        "\n",
        "Write code to compute the sum of the matrices $\\mathbf{A}$ and $\\mathbf{B}$."
      ],
      "metadata": {
        "id": "SrW7OH6gATP-"
      }
    },
    {
      "cell_type": "code",
      "source": [
        "A = np.array([[1, 2, 3], [4, 5, 6]]) # Define a matrix A\n",
        "B = np.array([[1, 1, 1], [2, 2, 2]]) # Define a matrix B\n",
        "C = A + B # Compute the sum of the two matrices\n",
        "C # This will display the resulting matrix"
      ],
      "metadata": {
        "id": "kwJNUTF6jGf0",
        "outputId": "8fdd16ed-c1c5-496e-fbe1-3672e708d168",
        "colab": {
          "base_uri": "https://localhost:8080/"
        }
      },
      "execution_count": 10,
      "outputs": [
        {
          "output_type": "execute_result",
          "data": {
            "text/plain": [
              "array([[2, 3, 4],\n",
              "       [6, 7, 8]])"
            ]
          },
          "metadata": {},
          "execution_count": 10
        }
      ]
    },
    {
      "cell_type": "markdown",
      "metadata": {
        "id": "14eb46f8"
      },
      "source": [
        "## 1.5 Vector and Vector Transpose"
      ]
    },
    {
      "cell_type": "markdown",
      "metadata": {
        "id": "505bef8e"
      },
      "source": [
        "A vector is a matrix with one column, denoted as:\n",
        "\n",
        "$$ \\mathbf{x} = \\begin{bmatrix} x_1 \\\\ x_2 \\\\ \\vdots \\\\ x_n \\end{bmatrix} $$\n",
        "\n",
        "The transpose of a vector $ \\mathbf{x} $ is a matrix with one row, denoted as:\n",
        "\n",
        "$$ \\mathbf{x}^T = [x_1, x_2, \\dots, x_n] $$\n",
        "\n",
        "i.e., $\\mathbf{x}$ is a matrix with one column and $\\mathbf{x}^T$ is the matrix with the same entries as $\\mathbf{x}$ but written as a row rather than a column."
      ]
    },
    {
      "cell_type": "code",
      "execution_count": 11,
      "metadata": {
        "id": "ae0f28d7",
        "colab": {
          "base_uri": "https://localhost:8080/"
        },
        "outputId": "c9d683e3-4fa0-48b6-813a-24722be97545"
      },
      "outputs": [
        {
          "output_type": "execute_result",
          "data": {
            "text/plain": [
              "(array([[1],\n",
              "        [2],\n",
              "        [3]]),\n",
              " array([[1, 2, 3]]))"
            ]
          },
          "metadata": {},
          "execution_count": 11
        }
      ],
      "source": [
        "x = np.array([[1], [2], [3]]) # Define a column vector x\n",
        "x_T = x.T  # Compute the transpose of the vector x\n",
        "x, x_T  # This will display the vector and its transpose"
      ]
    },
    {
      "cell_type": "code",
      "source": [
        "x.shape"
      ],
      "metadata": {
        "colab": {
          "base_uri": "https://localhost:8080/"
        },
        "id": "Y3bSZEWNBt8g",
        "outputId": "dac19622-79f4-4bae-8390-cd1744987db6"
      },
      "execution_count": 13,
      "outputs": [
        {
          "output_type": "execute_result",
          "data": {
            "text/plain": [
              "(3, 1)"
            ]
          },
          "metadata": {},
          "execution_count": 13
        }
      ]
    },
    {
      "cell_type": "markdown",
      "source": [
        " Question:\n",
        "\n",
        "Given a 1x3 row vector **y**:\n",
        "\n",
        "$\n",
        "\\mathbf{y} = \\begin{bmatrix}\n",
        "1 & 2 & 3\n",
        "\\end{bmatrix}\n",
        "$\n",
        "\n",
        "Write code to compute the transpose of the vector **y**.\n"
      ],
      "metadata": {
        "id": "To_tuv4HBJ3_"
      }
    },
    {
      "cell_type": "code",
      "source": [
        "y = np.array([[1, 2, 3]])  # Define a row vector y\n",
        "y"
      ],
      "metadata": {
        "colab": {
          "base_uri": "https://localhost:8080/"
        },
        "id": "OP883mstBlmB",
        "outputId": "8b86deac-c297-42f0-df2b-1dea90650d13"
      },
      "execution_count": 14,
      "outputs": [
        {
          "output_type": "execute_result",
          "data": {
            "text/plain": [
              "array([[1, 2, 3]])"
            ]
          },
          "metadata": {},
          "execution_count": 14
        }
      ]
    },
    {
      "cell_type": "code",
      "source": [
        "y.shape"
      ],
      "metadata": {
        "colab": {
          "base_uri": "https://localhost:8080/"
        },
        "id": "5xgZ98ZHBz7N",
        "outputId": "41d8d60b-f1cc-4401-c270-bb59518edea2"
      },
      "execution_count": 15,
      "outputs": [
        {
          "output_type": "execute_result",
          "data": {
            "text/plain": [
              "(1, 3)"
            ]
          },
          "metadata": {},
          "execution_count": 15
        }
      ]
    },
    {
      "cell_type": "markdown",
      "metadata": {
        "id": "a28d266a"
      },
      "source": [
        "## 1.6 Transpose of a Matrix"
      ]
    },
    {
      "cell_type": "markdown",
      "metadata": {
        "id": "fde4f4df"
      },
      "source": [
        "Suppose $\\mathbf{A}$ is an $m \\times n $ matrix. Then the transpose of the matrix $\\mathbf{A}$, denoted as $\\mathbf{A}^T$, is obtained by interchanging the rows and columns of $\\mathbf{A}$.\n",
        "\n",
        "If we write $ \\mathbf{A} = [\\mathbf{a}_1; ...; \\mathbf{a}_n]$, where $\\mathbf{a}_i $ is the $i$th column of $\\mathbf{A}$ for each $i = 1, ..., n $, then:\n",
        "\n",
        "$$ \\mathbf{A}^T = \\begin{bmatrix} \\mathbf{a}_1^T \\\\ ... \\\\ \\mathbf{a}_n^T \\end{bmatrix} $$"
      ]
    },
    {
      "cell_type": "code",
      "execution_count": 16,
      "metadata": {
        "id": "6addd822",
        "colab": {
          "base_uri": "https://localhost:8080/"
        },
        "outputId": "e6293322-e324-4687-e4a1-62ebd4a4a958"
      },
      "outputs": [
        {
          "output_type": "execute_result",
          "data": {
            "text/plain": [
              "(array([[1, 2],\n",
              "        [3, 4],\n",
              "        [5, 6]]),\n",
              " array([[1, 3, 5],\n",
              "        [2, 4, 6]]))"
            ]
          },
          "metadata": {},
          "execution_count": 16
        }
      ],
      "source": [
        "A = np.array([[1, 2], [3, 4], [5, 6]]) # Define a matrix A\n",
        "A_T = A.T  # Compute the transpose of the matrix A\n",
        "A, A_T  # This will display the matrix and its transpose"
      ]
    },
    {
      "cell_type": "markdown",
      "source": [
        "Question:\n",
        "\n",
        "Create a 2x4 matrix **B**:\n",
        "\n",
        "$\n",
        "\\mathbf{B} = \\begin{bmatrix}\n",
        "1 & 2 & 3 & 4\\\\\n",
        "5 & 6 & 7 & 8\\\\\n",
        "\\end{bmatrix}\n",
        "$\n",
        "\n",
        "Write code to compute the transpose of the matrix.\n"
      ],
      "metadata": {
        "id": "seejVwkrCELG"
      }
    },
    {
      "cell_type": "code",
      "source": [
        "B = np.array([[1, 2, 3, 4], [5, 6, 7,8]])\n",
        "B"
      ],
      "metadata": {
        "id": "cpRnqBwhkCQ3",
        "outputId": "b702de85-13a1-442a-cf88-834595dc1c2c",
        "colab": {
          "base_uri": "https://localhost:8080/"
        }
      },
      "execution_count": 18,
      "outputs": [
        {
          "output_type": "execute_result",
          "data": {
            "text/plain": [
              "array([[1, 2, 3, 4],\n",
              "       [5, 6, 7, 8]])"
            ]
          },
          "metadata": {},
          "execution_count": 18
        }
      ]
    },
    {
      "cell_type": "markdown",
      "metadata": {
        "id": "6ea6bc81"
      },
      "source": [
        "## 1.7 Matrix Multiplication"
      ]
    },
    {
      "cell_type": "markdown",
      "metadata": {
        "id": "2bc8fed9"
      },
      "source": [
        "Suppose $\\mathbf{A} = [a_{ij}]$ is an $m \\times n$ matrix and $\\mathbf{B} = [b_{ij}]$ is an $n \\times k$ matrix.\n",
        "\n",
        "Then the matrix product $\\mathbf{AB}$, denoted as $ \\mathbf{C} = [c_{ij}]$, is an $m \\times k$ matrix where:\n",
        "\n",
        "$$ c_{ij} = \\sum_{l=1}^{n} a_{il} b_{lj} $$"
      ]
    },
    {
      "cell_type": "markdown",
      "metadata": {
        "id": "ab94d35e"
      },
      "source": [
        "i.e., each element $c_{ij}$ of the matrix $\\mathbf{C}$ is computed as the sum of the product of corresponding elements from the $i$th row of $\\mathbf{A}$ and the $j$th column of $\\mathbf{B}$."
      ]
    },
    {
      "cell_type": "code",
      "execution_count": 19,
      "metadata": {
        "id": "6c31c158",
        "colab": {
          "base_uri": "https://localhost:8080/"
        },
        "outputId": "8cf673d9-5a74-4900-cfc1-dfd5110c587f"
      },
      "outputs": [
        {
          "output_type": "execute_result",
          "data": {
            "text/plain": [
              "(array([[1, 2],\n",
              "        [3, 4],\n",
              "        [5, 6]]),\n",
              " array([[2, 3],\n",
              "        [4, 5]]))"
            ]
          },
          "metadata": {},
          "execution_count": 19
        }
      ],
      "source": [
        "A = np.array([[1, 2], [3, 4], [5, 6]]) # Define a matrix A\n",
        "B = np.array([[2, 3], [4, 5]]) # Define a matrix B\n",
        "A, B"
      ]
    },
    {
      "cell_type": "code",
      "execution_count": 20,
      "metadata": {
        "id": "7858660b",
        "colab": {
          "base_uri": "https://localhost:8080/"
        },
        "outputId": "b97a5d36-62b7-4042-bc1f-7d8ad5dc0624"
      },
      "outputs": [
        {
          "output_type": "execute_result",
          "data": {
            "text/plain": [
              "array([[10, 13],\n",
              "       [22, 29],\n",
              "       [34, 45]])"
            ]
          },
          "metadata": {},
          "execution_count": 20
        }
      ],
      "source": [
        "C = np.dot(A, B)  # Compute the matrix product AB\n",
        "C  # This will display the resulting matrix"
      ]
    },
    {
      "cell_type": "markdown",
      "source": [
        "Question:\n",
        "\n",
        "Given a 2x3 matrix **A**:\n",
        "\n",
        "$\n",
        "\\mathbf{A} = \\begin{bmatrix}\n",
        "1 & 2 & 3 \\\\\n",
        "4 & 5 & 6 \\\\\n",
        "\\end{bmatrix}\n",
        "$\n",
        "\n",
        "and a 3x1 matrix **B**:\n",
        "\n",
        "$\n",
        "\\mathbf{B} = \\begin{bmatrix}\n",
        "2 \\\\\n",
        "3 \\\\\n",
        "4 \\\\\n",
        "\\end{bmatrix}\n",
        "$\n",
        "\n",
        "Write a code to compute the matrix product of **A** and **B**.\n"
      ],
      "metadata": {
        "id": "ZWfN3bBpC2F8"
      }
    },
    {
      "cell_type": "code",
      "source": [
        "A = np.array([[1, 2, 3], [4, 5, 6]])  # Define a 2x3 matrix A\n",
        "B = np.array([[2], [3], [4]])         # Define a 3x1 matrix B\n",
        "A,B"
      ],
      "metadata": {
        "colab": {
          "base_uri": "https://localhost:8080/"
        },
        "id": "VaaAgj0IDMhX",
        "outputId": "90127d94-ff0c-47a1-982e-0f3f9cb71182"
      },
      "execution_count": 21,
      "outputs": [
        {
          "output_type": "execute_result",
          "data": {
            "text/plain": [
              "(array([[1, 2, 3],\n",
              "        [4, 5, 6]]),\n",
              " array([[2],\n",
              "        [3],\n",
              "        [4]]))"
            ]
          },
          "metadata": {},
          "execution_count": 21
        }
      ]
    },
    {
      "cell_type": "markdown",
      "source": [
        "## 1.8 Transpose of a Matrix Product\n",
        "\n"
      ],
      "metadata": {
        "id": "a1mw2bU_fknw"
      }
    },
    {
      "cell_type": "markdown",
      "source": [
        "The transpose of a matrix product is a product of the transposes\n",
        "in reverse order; i.e., $(\\mathbf{AB})^T = \\mathbf{B}^T \\mathbf{A}^T$."
      ],
      "metadata": {
        "id": "1SYq-oSigW3Z"
      }
    },
    {
      "cell_type": "markdown",
      "source": [
        "Question: write code to verify $(\\mathbf{AB})^T = \\mathbf{B}^T \\mathbf{A}^T$"
      ],
      "metadata": {
        "id": "OOYw6RarFW4z"
      }
    },
    {
      "cell_type": "code",
      "source": [
        "A = np.array([[1, 2, 3], [4, 5, 6]])  # Define a 2x3 matrix A\n",
        "B = np.array([[2], [3], [4]])         # Define a 3x1 matrix B\n",
        "A,B\n"
      ],
      "metadata": {
        "id": "4J_EFW_ulHAx",
        "outputId": "02916dcc-736e-4974-999f-8908f70031eb",
        "colab": {
          "base_uri": "https://localhost:8080/"
        }
      },
      "execution_count": 23,
      "outputs": [
        {
          "output_type": "execute_result",
          "data": {
            "text/plain": [
              "(array([[1, 2, 3],\n",
              "        [4, 5, 6]]),\n",
              " array([[2],\n",
              "        [3],\n",
              "        [4]]))"
            ]
          },
          "metadata": {},
          "execution_count": 23
        }
      ]
    },
    {
      "cell_type": "code",
      "source": [
        "np.dot(A, B)"
      ],
      "metadata": {
        "id": "BgdURdn9lQl-",
        "outputId": "c3787067-7d3c-485f-cc35-7155b440e266",
        "colab": {
          "base_uri": "https://localhost:8080/"
        }
      },
      "execution_count": 25,
      "outputs": [
        {
          "output_type": "execute_result",
          "data": {
            "text/plain": [
              "array([[20],\n",
              "       [47]])"
            ]
          },
          "metadata": {},
          "execution_count": 25
        }
      ]
    },
    {
      "cell_type": "markdown",
      "source": [
        "## 1.9 Zero and One Vectors and the Identity Matrix"
      ],
      "metadata": {
        "id": "H6xEUpdZhES0"
      }
    },
    {
      "cell_type": "markdown",
      "source": [
        "- Zero Vector, $\\mathbf{0} $:\n",
        "  $$\\mathbf{0} = \\begin{bmatrix} 0 \\\\ 0 \\\\ \\vdots \\\\ 0 \\end{bmatrix} $$\n",
        "  $\\mathbf{0}$ is also used to denote a matrix whose entries are all zero.\n",
        "- One Vector, $\\mathbf{1}$:\n",
        "  $$\\mathbf{1} = \\begin{bmatrix} 1 \\\\ 1 \\\\ \\vdots \\\\ 1 \\end{bmatrix} $$\n",
        "- Identity Matrix, $\\mathbf{I}$:\n",
        "  $$ I = \\begin{bmatrix} 1 & 0 & 0 & \\dots & 0 \\\\ 0 & 1 & 0 & \\dots & 0 \\\\ 0 & 0 & 1 & \\dots & 0 \\\\ \\vdots & \\vdots & \\vdots & \\ddots & \\vdots \\\\ 0 & 0 & 0 & \\dots & 1 \\end{bmatrix} $$\n",
        "\n",
        "\n"
      ],
      "metadata": {
        "id": "-QRWsDI3hKUI"
      }
    },
    {
      "cell_type": "code",
      "source": [
        "# Creating Zero Vector\n",
        "zero_vector = np.zeros(5)\n",
        "\n",
        "# Creating One Vector\n",
        "one_vector = np.ones(5)\n",
        "\n",
        "# Creating Identity Matrix\n",
        "identity_matrix = np.eye(5)\n",
        "\n",
        "zero_vector, one_vector, identity_matrix"
      ],
      "metadata": {
        "colab": {
          "base_uri": "https://localhost:8080/"
        },
        "id": "crqCW3Yejlfb",
        "outputId": "1c06a6d3-07b7-4803-9288-7ebec3a3e57e"
      },
      "execution_count": 26,
      "outputs": [
        {
          "output_type": "execute_result",
          "data": {
            "text/plain": [
              "(array([0., 0., 0., 0., 0.]),\n",
              " array([1., 1., 1., 1., 1.]),\n",
              " array([[1., 0., 0., 0., 0.],\n",
              "        [0., 1., 0., 0., 0.],\n",
              "        [0., 0., 1., 0., 0.],\n",
              "        [0., 0., 0., 1., 0.],\n",
              "        [0., 0., 0., 0., 1.]]))"
            ]
          },
          "metadata": {},
          "execution_count": 26
        }
      ]
    },
    {
      "cell_type": "markdown",
      "source": [
        "## 1.10 Square Matrices"
      ],
      "metadata": {
        "id": "W5QG8D69hKYC"
      }
    },
    {
      "cell_type": "markdown",
      "source": [
        "- A matrix $\\mathbf{A}$ is said to be **square** if and only if $m = n$.\n",
        "- If $\\mathbf{A}$ is an $m \\times n$ matrix, then $\\mathbf{A}^T \\mathbf{A}$ is an $n \\times n $ matrix.\n",
        "  - Thus, $\\mathbf{A}^T \\mathbf{A}$ is a square matrix for any matrix $\\mathbf{A}$."
      ],
      "metadata": {
        "id": "ZCGBfnS9hKbt"
      }
    },
    {
      "cell_type": "markdown",
      "source": [
        "## 1.11 Inverse of a Matrix"
      ],
      "metadata": {
        "id": "72xoSLO4_FXD"
      }
    },
    {
      "cell_type": "markdown",
      "source": [
        "- A square matrix $\\mathbf{A}$ is **nonsingular** or **invertible** if and only if there exists a square matrix $\\mathbf{B}$ such that $\\mathbf{AB} = \\mathbf{I}$.\n",
        "- If $\\mathbf{A}$ is nonsingular and $\\mathbf{AB} = \\mathbf{I}$, then $\\mathbf{B}$ is the unique **inverse** of $\\mathbf{A}$ and is written as $\\mathbf{A}^{-1}$.\n",
        "- For a nonsingular matrix $\\mathbf{A}$, we have $\\mathbf{AA}^{-1} = \\mathbf{I}$. (It is also true that $\\mathbf{A}^{-1}\\mathbf{A} = \\mathbf{I}$)\n",
        "- A square matrix without an inverse is called **singular**.\n",
        "- An $n \\times n$ matrix $\\mathbf{A}$ is singular if and only if $\\text{rank}(\\mathbf{A}) < n$.\n"
      ],
      "metadata": {
        "id": "a3wv47W0hKd-"
      }
    },
    {
      "cell_type": "code",
      "source": [
        "import numpy as np\n",
        "\n",
        "A = np.array([[2, 3], [1, 4]]) # Creating a nonsingular (invertible) matrix A\n",
        "A_inverse = np.linalg.inv(A) # Calculating the inverse of matrix A; if matrix is singular - error \"LinAlgError: Singular matrix\"\n",
        "A, A_inverse"
      ],
      "metadata": {
        "colab": {
          "base_uri": "https://localhost:8080/"
        },
        "id": "BG45u7eZAJMO",
        "outputId": "07cbba82-6c69-465e-edde-ac99abaab7d4"
      },
      "execution_count": 27,
      "outputs": [
        {
          "output_type": "execute_result",
          "data": {
            "text/plain": [
              "(array([[2, 3],\n",
              "        [1, 4]]),\n",
              " array([[ 0.8, -0.6],\n",
              "        [-0.2,  0.4]]))"
            ]
          },
          "metadata": {},
          "execution_count": 27
        }
      ]
    },
    {
      "cell_type": "code",
      "source": [
        "# Verifying that A * A_inverse = I and A_inverse * A = I\n",
        "result_1 = np.dot(A, A_inverse)  # should be the identity matrix\n",
        "result_2 = np.dot(A_inverse, A)  # should also be the identity matrix\n",
        "\n",
        "result_1, result_2"
      ],
      "metadata": {
        "colab": {
          "base_uri": "https://localhost:8080/"
        },
        "id": "gQ8VHvS_Adq2",
        "outputId": "a8b10a5c-9c49-46a6-add0-869149971295"
      },
      "execution_count": 28,
      "outputs": [
        {
          "output_type": "execute_result",
          "data": {
            "text/plain": [
              "(array([[ 1.00000000e+00, -1.11022302e-16],\n",
              "        [ 0.00000000e+00,  1.00000000e+00]]),\n",
              " array([[1., 0.],\n",
              "        [0., 1.]]))"
            ]
          },
          "metadata": {},
          "execution_count": 28
        }
      ]
    },
    {
      "cell_type": "markdown",
      "source": [
        "Question:\n",
        "\n",
        "You are given a 2x2 nonsingular (invertible) matrix **A**:\n",
        "\n",
        "$\n",
        "\\mathbf{A} = \\begin{bmatrix}\n",
        "3 & 5 \\\\\n",
        "2 & 6 \\\\\n",
        "\\end{bmatrix}\n",
        "$\n",
        "\n",
        "Write code to compute the inverse of the matrix **A**. Verify your results.\n"
      ],
      "metadata": {
        "id": "AZhewXl2DwgG"
      }
    },
    {
      "cell_type": "code",
      "source": [
        "A = np.array([[3, 5], [2, 6]])  # Define the 2x2 matrix A\n",
        "A"
      ],
      "metadata": {
        "colab": {
          "base_uri": "https://localhost:8080/"
        },
        "id": "NvXaX0ONEF5c",
        "outputId": "6e79d46c-a708-4b7f-89ba-c8d9a5a77113"
      },
      "execution_count": 32,
      "outputs": [
        {
          "output_type": "execute_result",
          "data": {
            "text/plain": [
              "array([[3, 5],\n",
              "       [2, 6]])"
            ]
          },
          "metadata": {},
          "execution_count": 32
        }
      ]
    },
    {
      "cell_type": "markdown",
      "source": [
        "## 1.12 Rank of a matrix"
      ],
      "metadata": {
        "id": "BUXID95MTB0q"
      }
    },
    {
      "cell_type": "markdown",
      "source": [
        "The rank of a matrix $\\mathbf{A}$ is the dimension of the vector space generated by its columns. This corresponds to the maximal number of linearly independent columns of $\\mathbf{A}$."
      ],
      "metadata": {
        "id": "Fj82q5RFTJNI"
      }
    },
    {
      "cell_type": "code",
      "source": [
        "import numpy as np\n",
        "matrix = np.array([[1, 2, 3], [4, 5, 6], [7, 8, 9]])\n",
        "matrix"
      ],
      "metadata": {
        "colab": {
          "base_uri": "https://localhost:8080/"
        },
        "id": "EgSMbHgiTcxN",
        "outputId": "13eacb3d-5d57-4fa5-e8dd-161605d25d51"
      },
      "execution_count": 39,
      "outputs": [
        {
          "output_type": "execute_result",
          "data": {
            "text/plain": [
              "array([[1, 2, 3],\n",
              "       [4, 5, 6],\n",
              "       [7, 8, 9]])"
            ]
          },
          "metadata": {},
          "execution_count": 39
        }
      ]
    },
    {
      "cell_type": "code",
      "source": [
        "rank = np.linalg.matrix_rank(matrix)\n",
        "rank"
      ],
      "metadata": {
        "colab": {
          "base_uri": "https://localhost:8080/"
        },
        "id": "msbHO59bTwnZ",
        "outputId": "c9e846f5-ea8c-4d9b-b742-faee3fa3d8d4"
      },
      "execution_count": 40,
      "outputs": [
        {
          "output_type": "execute_result",
          "data": {
            "text/plain": [
              "2"
            ]
          },
          "metadata": {},
          "execution_count": 40
        }
      ]
    },
    {
      "cell_type": "markdown",
      "source": [
        "This is because -1 * [1,2,3] + 2*[4,5,6] = [7,8,9]. Thus, the third row can indeed be expressed as a linear combination of the first two rows, making it linearly dependent on them.​"
      ],
      "metadata": {
        "id": "tSp88dldVA3c"
      }
    },
    {
      "cell_type": "code",
      "source": [
        "np.linalg.matrix_rank(np.eye(4))"
      ],
      "metadata": {
        "colab": {
          "base_uri": "https://localhost:8080/"
        },
        "id": "cxlXxr50VfAg",
        "outputId": "e95ccb26-c565-46cf-c6c8-56b7cac45890"
      },
      "execution_count": 41,
      "outputs": [
        {
          "output_type": "execute_result",
          "data": {
            "text/plain": [
              "4"
            ]
          },
          "metadata": {},
          "execution_count": 41
        }
      ]
    },
    {
      "cell_type": "markdown",
      "source": [
        "Question:\n",
        "\n",
        "You are given a 2x2 matrix **M**:\n",
        "\n",
        "$\n",
        "\\mathbf{M} = \\begin{bmatrix}\n",
        "1 & 4 \\\\\n",
        "1 & 3  \n",
        "\\end{bmatrix}\n",
        "$\n",
        "\n",
        "Write code to compute the rank of the matrix **M**."
      ],
      "metadata": {
        "id": "6tc9xlpcEaxl"
      }
    },
    {
      "cell_type": "code",
      "source": [
        "M = np.array([[1, 4], [1, 3]])\n",
        "M"
      ],
      "metadata": {
        "colab": {
          "base_uri": "https://localhost:8080/"
        },
        "id": "EJt99p3UEnN7",
        "outputId": "da309ef3-107a-483c-fe5c-9b694f51c226"
      },
      "execution_count": 42,
      "outputs": [
        {
          "output_type": "execute_result",
          "data": {
            "text/plain": [
              "array([[1, 4],\n",
              "       [1, 3]])"
            ]
          },
          "metadata": {},
          "execution_count": 42
        }
      ]
    },
    {
      "cell_type": "markdown",
      "source": [
        "# 2. Simple linear regression"
      ],
      "metadata": {
        "id": "dW8mXQJpArXK"
      }
    },
    {
      "cell_type": "markdown",
      "source": [
        "Regression analysis is a statistical methodology to\n",
        " - (i) describe the relationship between a response variable ($\\mathbf{y}$) and a set of predictor variables ($\\mathbf{x}$) and to\n",
        " - (ii) predict the values of the response variable based on those of the predictor variables.\n",
        "\n",
        "* Simple linear regression: only one $\\mathbf{x}$ variable.\n",
        "* Multiple linear regression: more than one $\\mathbf{x}$ variables."
      ],
      "metadata": {
        "id": "OUAKgTzShKgD"
      }
    },
    {
      "cell_type": "markdown",
      "source": [
        "## 2.1 Model equation\n",
        "\n",
        "\n",
        "\n"
      ],
      "metadata": {
        "id": "5u9lD-BhhKh7"
      }
    },
    {
      "cell_type": "markdown",
      "source": [
        "Given a vector of response variable $\\mathbf{y}$ and a vector of predictor variable $\\mathbf{x}$, the formula for a simple linear regression is:\n",
        "\n",
        "$$ \\mathbf{y} = \\mathbf{1}\\beta_0 + \\mathbf{x}\\beta_1  + \\boldsymbol{\\epsilon} $$"
      ],
      "metadata": {
        "id": "wWDEGWCRIGuU"
      }
    },
    {
      "cell_type": "markdown",
      "source": [
        "\n",
        "### Model assumptions\n",
        "- $\\epsilon_i$ are uncorrelated, zero-mean, equal-variance random variables:\n",
        "\n",
        "$$ E(\\epsilon_i) = 0, Var(\\epsilon_i) = \\sigma^2, i = 1,...,n$$\n",
        "$$Cov(\\epsilon_i, \\epsilon_j) = 0, 1 \\leq i \\neq j \\leq n$$\n"
      ],
      "metadata": {
        "id": "bA2hSQc7V0OZ"
      }
    },
    {
      "cell_type": "markdown",
      "source": [
        "### Properties of $y_i$\n",
        "Given $x_i$, the distributions of the responses $y_i$ have the following properties:\n",
        "* The response $y_i$ is the sum of two terms:\n",
        "  * The mean of $y_i$: $E(y_i) = \\beta_0 + \\beta_1 x_i$.\n",
        " * The random error $\\epsilon_i$, which has zero-mean.\n",
        "\n",
        "* $\\epsilon_i$ have constant variance $\\Rightarrow$ $y_i$ have the same constant variance (regardless of the values of $x_i$: $Var(y_i) = \\sigma_2$, $i = 1,...,n$).\n",
        "* $\\epsilon_i$ are uncorrelated $\\Rightarrow$ $y_i$ are uncorrelated: $Cov(y_i, y_j) = 0$, $1 \\leq i \\neq j \\leq n$."
      ],
      "metadata": {
        "id": "9ftTjoUHIXZu"
      }
    },
    {
      "cell_type": "markdown",
      "source": [
        "### Unknown parameters\n",
        "- $\\beta_0$ is the regression intercept (the value of $E(y_i)$ when $x_i=0$)\n",
        "- $\\beta_1$ is the regression slope (the change in $E(y_i)$ per unit change of $x_i$)\n",
        "- $\\sigma^2$ is the error variance"
      ],
      "metadata": {
        "id": "EV4NjcVJV1Wi"
      }
    },
    {
      "cell_type": "markdown",
      "source": [
        "![figure_slr.png](data:image/png;base64,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)"
      ],
      "metadata": {
        "id": "sTOSvPVBKjiD"
      }
    },
    {
      "cell_type": "markdown",
      "source": [
        "## 2.2 Least Squares Estimators"
      ],
      "metadata": {
        "id": "xxMYNF4VIXkE"
      }
    },
    {
      "cell_type": "markdown",
      "source": [
        "For a given line: $\\beta_0 + \\beta_1 \\mathbf{x}$, the sum of squared vertical deviations of the observations from the corresponding points on the line is:\n",
        "$$\n",
        "Q(\\beta_0, \\beta_1) =\\sum_{i=1}^{n} (y_i - (\\beta_0 + \\beta_1 x_i))^2 $$\n",
        "\n",
        "* $\\beta_0 + \\beta_1 x_i$ is the point on the line with the\n",
        "same x-coordinate as the ith observation point $x_i$.\n",
        "* The least squares (LS) principle is to fit the observed data by minimizing the sum of squared vertical deviations.\n",
        "LS line has the smallest sum of squared vertical deviations\n",
        "among all straight lines.\n",
        "* LS estimators of $\\beta_0$, $\\beta_1$ are the pair of values $\\beta_0$, $\\beta_1$ that minimize the function $Q(\\beta_0, \\beta_1)$. This leads to the normal equations."
      ],
      "metadata": {
        "id": "y2JvSE35LahL"
      }
    },
    {
      "cell_type": "markdown",
      "source": [
        "visualization for simple linear regression: https://setosa.io/ev/ordinary-least-squares-regression/"
      ],
      "metadata": {
        "id": "1Wug3KVQWORo"
      }
    },
    {
      "cell_type": "markdown",
      "source": [
        "## 2.3 Example\n",
        "\n",
        "Suppose we have a dataset containing information about the amount of fertilizer used and the yield of crops.\n",
        "\n"
      ],
      "metadata": {
        "id": "fU92jV5tHIby"
      }
    },
    {
      "cell_type": "markdown",
      "source": [
        "### Loading data"
      ],
      "metadata": {
        "id": "P4RN16sHWJ0S"
      }
    },
    {
      "cell_type": "code",
      "source": [
        "import pandas as pd\n",
        "np.random.seed(0)\n",
        "\n",
        "# data simulation\n",
        "n = 50  #number of observations\n",
        "b0 = 10 #y-intercept (b0)\n",
        "b1 = 5  #Slope (b1)\n",
        "\n",
        "\n",
        "x = np.random.uniform(0, 20, n)  # Fertilizer_Amount ranging from 0 to 20\n",
        "e = np.random.normal(0, 5, n)  # Generate normally distributed noise, mean=0, standard deviation=5\n",
        "y = b0+ b1*x + e # Calculate Crop_Yield (y)\n",
        "\n",
        "# Create a DataFrame to hold the simulated data\n",
        "data = pd.DataFrame({'Fertilizer_Amount': x, 'Crop_Yield': y})\n",
        "df = pd.DataFrame(data)\n",
        "df.head() # Display the first 5 rows of the DataFrame"
      ],
      "metadata": {
        "colab": {
          "base_uri": "https://localhost:8080/",
          "height": 206
        },
        "id": "A8053OuPOr3K",
        "outputId": "15b9c0d4-5b70-4845-f03e-416410ed2314"
      },
      "execution_count": 44,
      "outputs": [
        {
          "output_type": "execute_result",
          "data": {
            "text/plain": [
              "   Fertilizer_Amount  Crop_Yield\n",
              "0          10.976270   56.349999\n",
              "1          14.303787   91.272814\n",
              "2          12.055268   67.728077\n",
              "3          10.897664   62.297947\n",
              "4           8.473096   46.101503"
            ],
            "text/html": [
              "\n",
              "  <div id=\"df-2afb3ee6-9791-41c8-806a-eb0a824be419\" class=\"colab-df-container\">\n",
              "    <div>\n",
              "<style scoped>\n",
              "    .dataframe tbody tr th:only-of-type {\n",
              "        vertical-align: middle;\n",
              "    }\n",
              "\n",
              "    .dataframe tbody tr th {\n",
              "        vertical-align: top;\n",
              "    }\n",
              "\n",
              "    .dataframe thead th {\n",
              "        text-align: right;\n",
              "    }\n",
              "</style>\n",
              "<table border=\"1\" class=\"dataframe\">\n",
              "  <thead>\n",
              "    <tr style=\"text-align: right;\">\n",
              "      <th></th>\n",
              "      <th>Fertilizer_Amount</th>\n",
              "      <th>Crop_Yield</th>\n",
              "    </tr>\n",
              "  </thead>\n",
              "  <tbody>\n",
              "    <tr>\n",
              "      <th>0</th>\n",
              "      <td>10.976270</td>\n",
              "      <td>56.349999</td>\n",
              "    </tr>\n",
              "    <tr>\n",
              "      <th>1</th>\n",
              "      <td>14.303787</td>\n",
              "      <td>91.272814</td>\n",
              "    </tr>\n",
              "    <tr>\n",
              "      <th>2</th>\n",
              "      <td>12.055268</td>\n",
              "      <td>67.728077</td>\n",
              "    </tr>\n",
              "    <tr>\n",
              "      <th>3</th>\n",
              "      <td>10.897664</td>\n",
              "      <td>62.297947</td>\n",
              "    </tr>\n",
              "    <tr>\n",
              "      <th>4</th>\n",
              "      <td>8.473096</td>\n",
              "      <td>46.101503</td>\n",
              "    </tr>\n",
              "  </tbody>\n",
              "</table>\n",
              "</div>\n",
              "    <div class=\"colab-df-buttons\">\n",
              "\n",
              "  <div class=\"colab-df-container\">\n",
              "    <button class=\"colab-df-convert\" onclick=\"convertToInteractive('df-2afb3ee6-9791-41c8-806a-eb0a824be419')\"\n",
              "            title=\"Convert this dataframe to an interactive table.\"\n",
              "            style=\"display:none;\">\n",
              "\n",
              "  <svg xmlns=\"http://www.w3.org/2000/svg\" height=\"24px\" viewBox=\"0 -960 960 960\">\n",
              "    <path d=\"M120-120v-720h720v720H120Zm60-500h600v-160H180v160Zm220 220h160v-160H400v160Zm0 220h160v-160H400v160ZM180-400h160v-160H180v160Zm440 0h160v-160H620v160ZM180-180h160v-160H180v160Zm440 0h160v-160H620v160Z\"/>\n",
              "  </svg>\n",
              "    </button>\n",
              "\n",
              "  <style>\n",
              "    .colab-df-container {\n",
              "      display:flex;\n",
              "      gap: 12px;\n",
              "    }\n",
              "\n",
              "    .colab-df-convert {\n",
              "      background-color: #E8F0FE;\n",
              "      border: none;\n",
              "      border-radius: 50%;\n",
              "      cursor: pointer;\n",
              "      display: none;\n",
              "      fill: #1967D2;\n",
              "      height: 32px;\n",
              "      padding: 0 0 0 0;\n",
              "      width: 32px;\n",
              "    }\n",
              "\n",
              "    .colab-df-convert:hover {\n",
              "      background-color: #E2EBFA;\n",
              "      box-shadow: 0px 1px 2px rgba(60, 64, 67, 0.3), 0px 1px 3px 1px rgba(60, 64, 67, 0.15);\n",
              "      fill: #174EA6;\n",
              "    }\n",
              "\n",
              "    .colab-df-buttons div {\n",
              "      margin-bottom: 4px;\n",
              "    }\n",
              "\n",
              "    [theme=dark] .colab-df-convert {\n",
              "      background-color: #3B4455;\n",
              "      fill: #D2E3FC;\n",
              "    }\n",
              "\n",
              "    [theme=dark] .colab-df-convert:hover {\n",
              "      background-color: #434B5C;\n",
              "      box-shadow: 0px 1px 3px 1px rgba(0, 0, 0, 0.15);\n",
              "      filter: drop-shadow(0px 1px 2px rgba(0, 0, 0, 0.3));\n",
              "      fill: #FFFFFF;\n",
              "    }\n",
              "  </style>\n",
              "\n",
              "    <script>\n",
              "      const buttonEl =\n",
              "        document.querySelector('#df-2afb3ee6-9791-41c8-806a-eb0a824be419 button.colab-df-convert');\n",
              "      buttonEl.style.display =\n",
              "        google.colab.kernel.accessAllowed ? 'block' : 'none';\n",
              "\n",
              "      async function convertToInteractive(key) {\n",
              "        const element = document.querySelector('#df-2afb3ee6-9791-41c8-806a-eb0a824be419');\n",
              "        const dataTable =\n",
              "          await google.colab.kernel.invokeFunction('convertToInteractive',\n",
              "                                                    [key], {});\n",
              "        if (!dataTable) return;\n",
              "\n",
              "        const docLinkHtml = 'Like what you see? Visit the ' +\n",
              "          '<a target=\"_blank\" href=https://colab.research.google.com/notebooks/data_table.ipynb>data table notebook</a>'\n",
              "          + ' to learn more about interactive tables.';\n",
              "        element.innerHTML = '';\n",
              "        dataTable['output_type'] = 'display_data';\n",
              "        await google.colab.output.renderOutput(dataTable, element);\n",
              "        const docLink = document.createElement('div');\n",
              "        docLink.innerHTML = docLinkHtml;\n",
              "        element.appendChild(docLink);\n",
              "      }\n",
              "    </script>\n",
              "  </div>\n",
              "\n",
              "\n",
              "<div id=\"df-778977e6-69ec-4c21-91cf-0350f9cfc149\">\n",
              "  <button class=\"colab-df-quickchart\" onclick=\"quickchart('df-778977e6-69ec-4c21-91cf-0350f9cfc149')\"\n",
              "            title=\"Suggest charts.\"\n",
              "            style=\"display:none;\">\n",
              "\n",
              "<svg xmlns=\"http://www.w3.org/2000/svg\" height=\"24px\"viewBox=\"0 0 24 24\"\n",
              "     width=\"24px\">\n",
              "    <g>\n",
              "        <path d=\"M19 3H5c-1.1 0-2 .9-2 2v14c0 1.1.9 2 2 2h14c1.1 0 2-.9 2-2V5c0-1.1-.9-2-2-2zM9 17H7v-7h2v7zm4 0h-2V7h2v10zm4 0h-2v-4h2v4z\"/>\n",
              "    </g>\n",
              "</svg>\n",
              "  </button>\n",
              "\n",
              "<style>\n",
              "  .colab-df-quickchart {\n",
              "      --bg-color: #E8F0FE;\n",
              "      --fill-color: #1967D2;\n",
              "      --hover-bg-color: #E2EBFA;\n",
              "      --hover-fill-color: #174EA6;\n",
              "      --disabled-fill-color: #AAA;\n",
              "      --disabled-bg-color: #DDD;\n",
              "  }\n",
              "\n",
              "  [theme=dark] .colab-df-quickchart {\n",
              "      --bg-color: #3B4455;\n",
              "      --fill-color: #D2E3FC;\n",
              "      --hover-bg-color: #434B5C;\n",
              "      --hover-fill-color: #FFFFFF;\n",
              "      --disabled-bg-color: #3B4455;\n",
              "      --disabled-fill-color: #666;\n",
              "  }\n",
              "\n",
              "  .colab-df-quickchart {\n",
              "    background-color: var(--bg-color);\n",
              "    border: none;\n",
              "    border-radius: 50%;\n",
              "    cursor: pointer;\n",
              "    display: none;\n",
              "    fill: var(--fill-color);\n",
              "    height: 32px;\n",
              "    padding: 0;\n",
              "    width: 32px;\n",
              "  }\n",
              "\n",
              "  .colab-df-quickchart:hover {\n",
              "    background-color: var(--hover-bg-color);\n",
              "    box-shadow: 0 1px 2px rgba(60, 64, 67, 0.3), 0 1px 3px 1px rgba(60, 64, 67, 0.15);\n",
              "    fill: var(--button-hover-fill-color);\n",
              "  }\n",
              "\n",
              "  .colab-df-quickchart-complete:disabled,\n",
              "  .colab-df-quickchart-complete:disabled:hover {\n",
              "    background-color: var(--disabled-bg-color);\n",
              "    fill: var(--disabled-fill-color);\n",
              "    box-shadow: none;\n",
              "  }\n",
              "\n",
              "  .colab-df-spinner {\n",
              "    border: 2px solid var(--fill-color);\n",
              "    border-color: transparent;\n",
              "    border-bottom-color: var(--fill-color);\n",
              "    animation:\n",
              "      spin 1s steps(1) infinite;\n",
              "  }\n",
              "\n",
              "  @keyframes spin {\n",
              "    0% {\n",
              "      border-color: transparent;\n",
              "      border-bottom-color: var(--fill-color);\n",
              "      border-left-color: var(--fill-color);\n",
              "    }\n",
              "    20% {\n",
              "      border-color: transparent;\n",
              "      border-left-color: var(--fill-color);\n",
              "      border-top-color: var(--fill-color);\n",
              "    }\n",
              "    30% {\n",
              "      border-color: transparent;\n",
              "      border-left-color: var(--fill-color);\n",
              "      border-top-color: var(--fill-color);\n",
              "      border-right-color: var(--fill-color);\n",
              "    }\n",
              "    40% {\n",
              "      border-color: transparent;\n",
              "      border-right-color: var(--fill-color);\n",
              "      border-top-color: var(--fill-color);\n",
              "    }\n",
              "    60% {\n",
              "      border-color: transparent;\n",
              "      border-right-color: var(--fill-color);\n",
              "    }\n",
              "    80% {\n",
              "      border-color: transparent;\n",
              "      border-right-color: var(--fill-color);\n",
              "      border-bottom-color: var(--fill-color);\n",
              "    }\n",
              "    90% {\n",
              "      border-color: transparent;\n",
              "      border-bottom-color: var(--fill-color);\n",
              "    }\n",
              "  }\n",
              "</style>\n",
              "\n",
              "  <script>\n",
              "    async function quickchart(key) {\n",
              "      const quickchartButtonEl =\n",
              "        document.querySelector('#' + key + ' button');\n",
              "      quickchartButtonEl.disabled = true;  // To prevent multiple clicks.\n",
              "      quickchartButtonEl.classList.add('colab-df-spinner');\n",
              "      try {\n",
              "        const charts = await google.colab.kernel.invokeFunction(\n",
              "            'suggestCharts', [key], {});\n",
              "      } catch (error) {\n",
              "        console.error('Error during call to suggestCharts:', error);\n",
              "      }\n",
              "      quickchartButtonEl.classList.remove('colab-df-spinner');\n",
              "      quickchartButtonEl.classList.add('colab-df-quickchart-complete');\n",
              "    }\n",
              "    (() => {\n",
              "      let quickchartButtonEl =\n",
              "        document.querySelector('#df-778977e6-69ec-4c21-91cf-0350f9cfc149 button');\n",
              "      quickchartButtonEl.style.display =\n",
              "        google.colab.kernel.accessAllowed ? 'block' : 'none';\n",
              "    })();\n",
              "  </script>\n",
              "</div>\n",
              "    </div>\n",
              "  </div>\n"
            ]
          },
          "metadata": {},
          "execution_count": 44
        }
      ]
    },
    {
      "cell_type": "markdown",
      "source": [
        "### Exploratory data analysis"
      ],
      "metadata": {
        "id": "TimxNlsWWNWz"
      }
    },
    {
      "cell_type": "code",
      "source": [
        "import matplotlib.pyplot as plt\n",
        "import seaborn as sns\n",
        "\n",
        "# Set the style of the visualization\n",
        "sns.set(style=\"whitegrid\")\n",
        "\n",
        "# Create a scatter plot\n",
        "plt.figure(figsize=(10,6))\n",
        "sns.scatterplot(x='Fertilizer_Amount', y='Crop_Yield', data=df)\n",
        "\n",
        "# Set the title and labels of the plot\n",
        "plt.title('Fertilizer Amount vs Crop Yield')\n",
        "plt.xlabel('Fertilizer Amount')\n",
        "plt.ylabel('Crop Yield')\n",
        "\n",
        "plt.show()"
      ],
      "metadata": {
        "colab": {
          "base_uri": "https://localhost:8080/",
          "height": 573
        },
        "id": "727uEV8_O9_q",
        "outputId": "aec4a0bb-816b-4a43-bb26-a715fb0ee3c4"
      },
      "execution_count": 45,
      "outputs": [
        {
          "output_type": "display_data",
          "data": {
            "text/plain": [
              "<Figure size 1000x600 with 1 Axes>"
            ],
            "image/png": "[encoded data removed]"
          },
          "metadata": {}
        }
      ]
    },
    {
      "cell_type": "markdown",
      "source": [
        "### Fitting a simple linear regression model"
      ],
      "metadata": {
        "id": "I5B7iIzqWTS7"
      }
    },
    {
      "cell_type": "code",
      "source": [
        "from sklearn.model_selection import train_test_split\n",
        "from sklearn.linear_model import LinearRegression\n",
        "from sklearn import metrics\n",
        "import numpy as np\n",
        "np.random.seed(0)\n",
        "\n",
        "# Define the feature and the target\n",
        "X = df[['Fertilizer_Amount']]  # feature\n",
        "y = df['Crop_Yield']  # target\n",
        "\n",
        "# Split the data into training and testing sets\n",
        "X_train, X_test, y_train, y_test = train_test_split(X, y, test_size=0.3, random_state=42)\n",
        "\n",
        "# Initialize the model\n",
        "model = LinearRegression()\n",
        "\n",
        "# Fit the model\n",
        "model.fit(X_train, y_train)\n",
        "\n",
        "# Predict the values\n",
        "y_pred = model.predict(X_test)\n",
        "\n",
        "# Calculate and print the model coefficients\n",
        "print(\"Intercept: \", model.intercept_)\n",
        "print(\"Coefficient for Fertilizer Amount: \", model.coef_[0])\n"
      ],
      "metadata": {
        "colab": {
          "base_uri": "https://localhost:8080/"
        },
        "id": "g-MmcJAJPdAA",
        "outputId": "7546a4b3-eb96-4e9f-dd7e-fc7dc4838834"
      },
      "execution_count": 61,
      "outputs": [
        {
          "output_type": "stream",
          "name": "stdout",
          "text": [
            "Intercept:  10.138909499812087\n",
            "Coefficient for Fertilizer Amount:  4.886540481538108\n"
          ]
        }
      ]
    },
    {
      "cell_type": "markdown",
      "source": [
        "### Mean Squared Error"
      ],
      "metadata": {
        "id": "NHH3950oWaE4"
      }
    },
    {
      "cell_type": "code",
      "source": [
        "# Calculate the errors\n",
        "mse = metrics.mean_squared_error(y_test, y_pred)\n",
        "rmse = np.sqrt(mse)\n",
        "\n",
        "# Print the errors\n",
        "print('Mean Squared Error (MSE):', mse) # Evaluate the model using Mean Squared Error\n",
        "print('Root Mean Squared Error:', rmse)"
      ],
      "metadata": {
        "colab": {
          "base_uri": "https://localhost:8080/"
        },
        "id": "KUUbZRpGPrFD",
        "outputId": "b287cab4-0c39-481e-8605-8b4c1011ccec"
      },
      "execution_count": 64,
      "outputs": [
        {
          "output_type": "stream",
          "name": "stdout",
          "text": [
            "Mean Squared Error (MSE): 11.51105821793421\n",
            "Root Mean Squared Error: 3.3927950450821824\n"
          ]
        }
      ]
    },
    {
      "cell_type": "markdown",
      "source": [
        "### Plotting the regression line and the test data points"
      ],
      "metadata": {
        "id": "GN8AidKvWhFO"
      }
    },
    {
      "cell_type": "code",
      "source": [
        "# Plotting the regression line and the test data points\n",
        "plt.figure(figsize=(10,6))\n",
        "plt.scatter(X_test, y_test, color='black', label='Actual values')\n",
        "plt.plot(X_test, y_pred, color='blue', linewidth=3, label='Regression line')\n",
        "\n",
        "# Set the title and labels of the plot\n",
        "plt.title('Regression Line and Test Data Points')\n",
        "plt.xlabel('Fertilizer Amount (kg)')\n",
        "plt.ylabel('Crop Yield (quintal)')\n",
        "plt.legend()\n",
        "\n",
        "plt.show()\n"
      ],
      "metadata": {
        "colab": {
          "base_uri": "https://localhost:8080/",
          "height": 573
        },
        "id": "laVLnuuyPsM0",
        "outputId": "88fdcd6e-6203-439f-9661-4141352895df"
      },
      "execution_count": 65,
      "outputs": [
        {
          "output_type": "display_data",
          "data": {
            "text/plain": [
              "<Figure size 1000x600 with 1 Axes>"
            ],
            "image/png": "[encoded data removed]"
          },
          "metadata": {}
        }
      ]
    },
    {
      "cell_type": "markdown",
      "source": [
        "# 3. Multiple linear regression"
      ],
      "metadata": {
        "id": "bEOgfY_fLnq6"
      }
    },
    {
      "cell_type": "markdown",
      "source": [
        "## 3.1 Model equation"
      ],
      "metadata": {
        "id": "poy6LyPfaPtH"
      }
    },
    {
      "cell_type": "markdown",
      "source": [
        "In multiple linear regression, there are more than one $\\mathbf{x}$ variables."
      ],
      "metadata": {
        "id": "dSPZ8_CKLnwe"
      }
    },
    {
      "cell_type": "markdown",
      "source": [
        "For $i = 1, ..., n$:\n",
        "\n",
        "$$ y_i = \\beta_0 + \\beta_1 x_{i1} + \\beta_2 x_{i2} + ... + \\beta_{p-1} x_{i,p-1} + \\epsilon_i $$\n",
        "\n",
        "Where:\n",
        "- $y_i$: value of the response variable $\\mathbf{y}$ in the $i$th case.\n",
        "- $x_{i1}$, ..., $x_{i,p-1}$: values of the variables $\\mathbf{x}_1, ..., \\mathbf{x}_{p-1}$ in the $i$th case.\n",
        "- $\\beta_0$, $\\beta_1$, ..., $\\beta_{p-1}$: regression coefficients.\n",
        "  - $p$: the number of regression coefficients.\n",
        "  - In simple regression $p = 2$.\n",
        "- $\\epsilon_i$: error terms where $E(\\epsilon_i) = 0$, $Var(\\epsilon_i) = \\sigma^2$, $Cov(\\epsilon_i, \\epsilon_j) = 0$ for $i \\neq j$.\n",
        "- mean response:\n",
        "$$ E(\\mathbf{y}) = \\beta_0 + \\beta_1 \\mathbf{x}_1 + \\beta_2 \\mathbf{x}_2 + ... + \\beta_{p-1} \\mathbf{x}_{p-1}$$\n"
      ],
      "metadata": {
        "id": "-DunMdyTY0m-"
      }
    },
    {
      "cell_type": "markdown",
      "source": [
        "## 3.2 Model equation (in matrix form)"
      ],
      "metadata": {
        "id": "gDrvoUDqLn2I"
      }
    },
    {
      "cell_type": "markdown",
      "source": [
        "$$ \\mathbf{y} = \\mathbf{X}\\boldsymbol{\\beta} + \\boldsymbol{\\epsilon} $$"
      ],
      "metadata": {
        "id": "i7nGjXk0Ln5P"
      }
    },
    {
      "cell_type": "markdown",
      "source": [
        "where the design matrix $\\mathbf{X}$ and the coefficients vector $\\boldsymbol{\\beta}$ are represented as:\n",
        "\n",
        "$$ X_{n \\times p} = \\begin{bmatrix} 1 & X_{11} & X_{12} & ... & X_{1,p-1} \\\\\n",
        "1 & X_{21} & X_{22} & ... & X_{2,p-1} \\\\\n",
        "\\vdots & \\vdots & \\vdots & \\ddots & \\vdots \\\\\n",
        "1 & X_{n1} & X_{n2} & ... & X_{n,p-1} \\end{bmatrix} $$\n",
        "\n",
        "$$ \\boldsymbol{\\beta}_{p \\times 1} = \\begin{bmatrix} \\beta_0 \\\\ \\beta_1 \\\\ \\vdots \\\\ \\beta_{p-1} \\end{bmatrix} $$\n",
        "\n",
        "Each row of $\\mathbf{X}$ corresponds to a case and each column of $\\mathbf{X}$ corresponds to the $n$ observations of an $\\mathbf{x}$ variable.\n"
      ],
      "metadata": {
        "id": "ZnhY4nTSTt8X"
      }
    },
    {
      "cell_type": "markdown",
      "source": [
        "### Model assumptions\n",
        "\n",
        "\n",
        "$$ E(\\boldsymbol{\\epsilon}) = \\mathbf{0} $$\n",
        "\n",
        "$$ Var(\\boldsymbol{\\epsilon}) = \\sigma^2 \\mathbf{I}_n $$\n"
      ],
      "metadata": {
        "id": "wXnULNz7Tt-C"
      }
    },
    {
      "cell_type": "markdown",
      "source": [
        "\n",
        "### Properties of $\\mathbf{y}$\n",
        "\n",
        "- $ E(\\mathbf{y}) = E(\\mathbf{X} \\boldsymbol{\\beta} + \\boldsymbol{\\epsilon}) = E(\\mathbf{X} \\boldsymbol{\\beta})+ E( \\boldsymbol{\\epsilon}) = E(\\mathbf{X} \\boldsymbol{\\beta})=\\mathbf{X} \\boldsymbol{\\beta} $\n",
        "\n",
        "-  $Var(\\mathbf{y}) = var(\\mathbf{X} \\boldsymbol{\\beta} + \\boldsymbol{\\epsilon})=var(\\boldsymbol{\\epsilon})=\\sigma^2 \\mathbf{I}_n $\n",
        "\n",
        "- Under the Normal error model (linear regression model + Normality assumption on error terms), $\\mathbf{y}$ is a vector of independent normal random variables."
      ],
      "metadata": {
        "id": "rT24h6cJTuCp"
      }
    },
    {
      "cell_type": "markdown",
      "source": [
        "## 3.3 Least Squares (LS) Estimators\n",
        "\n",
        "\n"
      ],
      "metadata": {
        "id": "-6Vl0a1GbohP"
      }
    },
    {
      "cell_type": "markdown",
      "source": [
        "The least squares criterion is defined as:\n",
        "\n",
        "$$ Q(\\boldsymbol{\\beta}) = \\sum_{i=1}^{n} (y_i - \\beta_0 - \\beta_1 x_{i1} - ... - \\beta_{p-1} x_{i,p-1})^2 \\\\\n",
        "= (\\mathbf{y} - \\mathbf{X}\\boldsymbol{\\beta})^T (\\mathbf{y} - \\mathbf{X}\\boldsymbol{\\beta}) $$\n",
        "\n",
        "Where $ \\boldsymbol{\\beta}_{p \\times 1} = \\begin{bmatrix} \\beta_0 \\\\ \\beta_1 \\\\ \\vdots \\\\ \\beta_{p-1} \\end{bmatrix} $\n",
        "\n",
        "Expanding this expression, we get:\n",
        "$ Q(\\boldsymbol{\\beta}) = \\mathbf{y}^T\\mathbf{y} - \\mathbf{y}^T\\mathbf{X}\\boldsymbol{\\beta} - \\boldsymbol{\\beta}^T\\mathbf{X}^T\\mathbf{y} + \\boldsymbol{\\beta}^T\\mathbf{X}^T\\mathbf{X}\\boldsymbol{\\beta} $\n",
        "\n",
        "The gradient of $ Q $ with respect to $\\boldsymbol{\\beta} $ is a vector whose $ j $-th component is the partial derivative of $Q $ with respect to $ \\beta_j$:\n",
        "$$ \\nabla Q(\\boldsymbol{\\beta}) = 2\\mathbf{X}^T\\mathbf{X}\\boldsymbol{\\beta} - 2\\mathbf{X}^T\\mathbf{y} $$\n",
        "\n",
        "\n",
        "\n",
        "Set the gradient to zero, leading to the **normal equation**:\n",
        "\n",
        "$$ \\mathbf{X}^T \\mathbf{X} \\boldsymbol{\\beta} = \\mathbf{X}^T \\mathbf{Y} $$"
      ],
      "metadata": {
        "id": "ow35OQggbtkd"
      }
    },
    {
      "cell_type": "markdown",
      "source": [
        "The LS estimators are solutions of the normal equation:\n",
        "\n",
        "$$ \\boldsymbol{\\hat{\\beta}} = (\\mathbf{X}^T \\mathbf{X})^{-1} \\mathbf{X}^T \\mathbf{y}$$\n",
        "\n",
        "Where:\n",
        "$$ \\boldsymbol{\\hat{\\beta}}_{p \\times 1} = \\begin{bmatrix} \\hat{\\beta_0} \\\\ \\hat{\\beta_1} \\\\ \\vdots \\\\ \\hat{\\beta}_{p-1}  \\end{bmatrix} $$\n",
        "\n",
        "- $\\boldsymbol{\\hat{\\beta}}$ is an unbiased estimator for $\\boldsymbol{\\beta}$:\n",
        "$ E(\\boldsymbol{\\hat{\\beta}}) = (\\mathbf{X}^T \\mathbf{X})^{-1} \\mathbf{X}^T E(\\mathbf{y}) = (\\mathbf{X}^T \\mathbf{X})^{-1} \\mathbf{X}^T \\mathbf{X} \\boldsymbol{\\beta} = \\boldsymbol{\\beta}$\n",
        "\n",
        "- Variance-covariance matrix of $\\boldsymbol{\\hat{\\beta}}$:\n",
        "$Var(\\boldsymbol{\\hat{\\beta}}) = \\sigma^2 (\\mathbf{X}^T \\mathbf{X})^{-1}$\n",
        "\n",
        "Note: here we assume $\\mathbf{X}^T \\mathbf{X}$ is of full rank $p$ (i.e., $p < n$).\n"
      ],
      "metadata": {
        "id": "LAztgq2sbojG"
      }
    },
    {
      "cell_type": "markdown",
      "source": [
        "## 3.4 Example"
      ],
      "metadata": {
        "id": "QrdOIZkxcUr4"
      }
    },
    {
      "cell_type": "markdown",
      "source": [
        "### Loading data"
      ],
      "metadata": {
        "id": "eIbsH_OHNYMC"
      }
    },
    {
      "cell_type": "code",
      "source": [
        "import pandas as pd\n",
        "import numpy as np\n",
        "\n",
        "# Set a random seed for reproducibility\n",
        "np.random.seed(0)\n",
        "\n",
        "# Number of data points\n",
        "n = 100\n",
        "\n",
        "# Generate synthetic data\n",
        "rainfall = np.random.uniform(100, 200, n)  # Rainfall in mm\n",
        "crop_type = np.random.choice(['Wheat', 'Rice'], n)  # Crop Type\n",
        "soil_type = np.random.choice(['Sandy', 'Loamy', 'Clayey'], n)  # Soil Type with three categories\n",
        "\n",
        "# Assume a hypothetical true relationship between the variables and the crop yield\n",
        "# For simplicity, let's say the relationship is linear with some noise\n",
        "noise = np.random.normal(0, 10, n)  # Some noise\n",
        "crop_yield = (0.5 * rainfall + 20 * (crop_type == 'Wheat') + 10 * (soil_type == 'Loamy') + 5 * (soil_type == 'Clayey') + noise)\n",
        "\n",
        "# Create a DataFrame\n",
        "df = pd.DataFrame({\n",
        "    'Rainfall': rainfall,\n",
        "    'Crop_Type': crop_type,\n",
        "    'Soil_Type': soil_type,\n",
        "    'Crop_Yield': crop_yield\n",
        "})\n",
        "\n",
        "df.head()\n"
      ],
      "metadata": {
        "colab": {
          "base_uri": "https://localhost:8080/",
          "height": 206
        },
        "id": "Ra6mtZjfNWoX",
        "outputId": "4679c76a-4043-4194-b8f3-073e9f857849"
      },
      "execution_count": 66,
      "outputs": [
        {
          "output_type": "execute_result",
          "data": {
            "text/plain": [
              "     Rainfall Crop_Type Soil_Type  Crop_Yield\n",
              "0  154.881350      Rice     Loamy   99.320973\n",
              "1  171.518937     Wheat     Sandy  108.928894\n",
              "2  160.276338      Rice     Sandy   89.346757\n",
              "3  154.488318     Wheat    Clayey  105.431436\n",
              "4  142.365480     Wheat     Loamy  109.751046"
            ],
            "text/html": [
              "\n",
              "  <div id=\"df-709ae849-d3bc-41d2-b7d6-01015cd7c1ed\" class=\"colab-df-container\">\n",
              "    <div>\n",
              "<style scoped>\n",
              "    .dataframe tbody tr th:only-of-type {\n",
              "        vertical-align: middle;\n",
              "    }\n",
              "\n",
              "    .dataframe tbody tr th {\n",
              "        vertical-align: top;\n",
              "    }\n",
              "\n",
              "    .dataframe thead th {\n",
              "        text-align: right;\n",
              "    }\n",
              "</style>\n",
              "<table border=\"1\" class=\"dataframe\">\n",
              "  <thead>\n",
              "    <tr style=\"text-align: right;\">\n",
              "      <th></th>\n",
              "      <th>Rainfall</th>\n",
              "      <th>Crop_Type</th>\n",
              "      <th>Soil_Type</th>\n",
              "      <th>Crop_Yield</th>\n",
              "    </tr>\n",
              "  </thead>\n",
              "  <tbody>\n",
              "    <tr>\n",
              "      <th>0</th>\n",
              "      <td>154.881350</td>\n",
              "      <td>Rice</td>\n",
              "      <td>Loamy</td>\n",
              "      <td>99.320973</td>\n",
              "    </tr>\n",
              "    <tr>\n",
              "      <th>1</th>\n",
              "      <td>171.518937</td>\n",
              "      <td>Wheat</td>\n",
              "      <td>Sandy</td>\n",
              "      <td>108.928894</td>\n",
              "    </tr>\n",
              "    <tr>\n",
              "      <th>2</th>\n",
              "      <td>160.276338</td>\n",
              "      <td>Rice</td>\n",
              "      <td>Sandy</td>\n",
              "      <td>89.346757</td>\n",
              "    </tr>\n",
              "    <tr>\n",
              "      <th>3</th>\n",
              "      <td>154.488318</td>\n",
              "      <td>Wheat</td>\n",
              "      <td>Clayey</td>\n",
              "      <td>105.431436</td>\n",
              "    </tr>\n",
              "    <tr>\n",
              "      <th>4</th>\n",
              "      <td>142.365480</td>\n",
              "      <td>Wheat</td>\n",
              "      <td>Loamy</td>\n",
              "      <td>109.751046</td>\n",
              "    </tr>\n",
              "  </tbody>\n",
              "</table>\n",
              "</div>\n",
              "    <div class=\"colab-df-buttons\">\n",
              "\n",
              "  <div class=\"colab-df-container\">\n",
              "    <button class=\"colab-df-convert\" onclick=\"convertToInteractive('df-709ae849-d3bc-41d2-b7d6-01015cd7c1ed')\"\n",
              "            title=\"Convert this dataframe to an interactive table.\"\n",
              "            style=\"display:none;\">\n",
              "\n",
              "  <svg xmlns=\"http://www.w3.org/2000/svg\" height=\"24px\" viewBox=\"0 -960 960 960\">\n",
              "    <path d=\"M120-120v-720h720v720H120Zm60-500h600v-160H180v160Zm220 220h160v-160H400v160Zm0 220h160v-160H400v160ZM180-400h160v-160H180v160Zm440 0h160v-160H620v160ZM180-180h160v-160H180v160Zm440 0h160v-160H620v160Z\"/>\n",
              "  </svg>\n",
              "    </button>\n",
              "\n",
              "  <style>\n",
              "    .colab-df-container {\n",
              "      display:flex;\n",
              "      gap: 12px;\n",
              "    }\n",
              "\n",
              "    .colab-df-convert {\n",
              "      background-color: #E8F0FE;\n",
              "      border: none;\n",
              "      border-radius: 50%;\n",
              "      cursor: pointer;\n",
              "      display: none;\n",
              "      fill: #1967D2;\n",
              "      height: 32px;\n",
              "      padding: 0 0 0 0;\n",
              "      width: 32px;\n",
              "    }\n",
              "\n",
              "    .colab-df-convert:hover {\n",
              "      background-color: #E2EBFA;\n",
              "      box-shadow: 0px 1px 2px rgba(60, 64, 67, 0.3), 0px 1px 3px 1px rgba(60, 64, 67, 0.15);\n",
              "      fill: #174EA6;\n",
              "    }\n",
              "\n",
              "    .colab-df-buttons div {\n",
              "      margin-bottom: 4px;\n",
              "    }\n",
              "\n",
              "    [theme=dark] .colab-df-convert {\n",
              "      background-color: #3B4455;\n",
              "      fill: #D2E3FC;\n",
              "    }\n",
              "\n",
              "    [theme=dark] .colab-df-convert:hover {\n",
              "      background-color: #434B5C;\n",
              "      box-shadow: 0px 1px 3px 1px rgba(0, 0, 0, 0.15);\n",
              "      filter: drop-shadow(0px 1px 2px rgba(0, 0, 0, 0.3));\n",
              "      fill: #FFFFFF;\n",
              "    }\n",
              "  </style>\n",
              "\n",
              "    <script>\n",
              "      const buttonEl =\n",
              "        document.querySelector('#df-709ae849-d3bc-41d2-b7d6-01015cd7c1ed button.colab-df-convert');\n",
              "      buttonEl.style.display =\n",
              "        google.colab.kernel.accessAllowed ? 'block' : 'none';\n",
              "\n",
              "      async function convertToInteractive(key) {\n",
              "        const element = document.querySelector('#df-709ae849-d3bc-41d2-b7d6-01015cd7c1ed');\n",
              "        const dataTable =\n",
              "          await google.colab.kernel.invokeFunction('convertToInteractive',\n",
              "                                                    [key], {});\n",
              "        if (!dataTable) return;\n",
              "\n",
              "        const docLinkHtml = 'Like what you see? Visit the ' +\n",
              "          '<a target=\"_blank\" href=https://colab.research.google.com/notebooks/data_table.ipynb>data table notebook</a>'\n",
              "          + ' to learn more about interactive tables.';\n",
              "        element.innerHTML = '';\n",
              "        dataTable['output_type'] = 'display_data';\n",
              "        await google.colab.output.renderOutput(dataTable, element);\n",
              "        const docLink = document.createElement('div');\n",
              "        docLink.innerHTML = docLinkHtml;\n",
              "        element.appendChild(docLink);\n",
              "      }\n",
              "    </script>\n",
              "  </div>\n",
              "\n",
              "\n",
              "<div id=\"df-33d36077-338c-4011-973f-9c89ea861838\">\n",
              "  <button class=\"colab-df-quickchart\" onclick=\"quickchart('df-33d36077-338c-4011-973f-9c89ea861838')\"\n",
              "            title=\"Suggest charts.\"\n",
              "            style=\"display:none;\">\n",
              "\n",
              "<svg xmlns=\"http://www.w3.org/2000/svg\" height=\"24px\"viewBox=\"0 0 24 24\"\n",
              "     width=\"24px\">\n",
              "    <g>\n",
              "        <path d=\"M19 3H5c-1.1 0-2 .9-2 2v14c0 1.1.9 2 2 2h14c1.1 0 2-.9 2-2V5c0-1.1-.9-2-2-2zM9 17H7v-7h2v7zm4 0h-2V7h2v10zm4 0h-2v-4h2v4z\"/>\n",
              "    </g>\n",
              "</svg>\n",
              "  </button>\n",
              "\n",
              "<style>\n",
              "  .colab-df-quickchart {\n",
              "      --bg-color: #E8F0FE;\n",
              "      --fill-color: #1967D2;\n",
              "      --hover-bg-color: #E2EBFA;\n",
              "      --hover-fill-color: #174EA6;\n",
              "      --disabled-fill-color: #AAA;\n",
              "      --disabled-bg-color: #DDD;\n",
              "  }\n",
              "\n",
              "  [theme=dark] .colab-df-quickchart {\n",
              "      --bg-color: #3B4455;\n",
              "      --fill-color: #D2E3FC;\n",
              "      --hover-bg-color: #434B5C;\n",
              "      --hover-fill-color: #FFFFFF;\n",
              "      --disabled-bg-color: #3B4455;\n",
              "      --disabled-fill-color: #666;\n",
              "  }\n",
              "\n",
              "  .colab-df-quickchart {\n",
              "    background-color: var(--bg-color);\n",
              "    border: none;\n",
              "    border-radius: 50%;\n",
              "    cursor: pointer;\n",
              "    display: none;\n",
              "    fill: var(--fill-color);\n",
              "    height: 32px;\n",
              "    padding: 0;\n",
              "    width: 32px;\n",
              "  }\n",
              "\n",
              "  .colab-df-quickchart:hover {\n",
              "    background-color: var(--hover-bg-color);\n",
              "    box-shadow: 0 1px 2px rgba(60, 64, 67, 0.3), 0 1px 3px 1px rgba(60, 64, 67, 0.15);\n",
              "    fill: var(--button-hover-fill-color);\n",
              "  }\n",
              "\n",
              "  .colab-df-quickchart-complete:disabled,\n",
              "  .colab-df-quickchart-complete:disabled:hover {\n",
              "    background-color: var(--disabled-bg-color);\n",
              "    fill: var(--disabled-fill-color);\n",
              "    box-shadow: none;\n",
              "  }\n",
              "\n",
              "  .colab-df-spinner {\n",
              "    border: 2px solid var(--fill-color);\n",
              "    border-color: transparent;\n",
              "    border-bottom-color: var(--fill-color);\n",
              "    animation:\n",
              "      spin 1s steps(1) infinite;\n",
              "  }\n",
              "\n",
              "  @keyframes spin {\n",
              "    0% {\n",
              "      border-color: transparent;\n",
              "      border-bottom-color: var(--fill-color);\n",
              "      border-left-color: var(--fill-color);\n",
              "    }\n",
              "    20% {\n",
              "      border-color: transparent;\n",
              "      border-left-color: var(--fill-color);\n",
              "      border-top-color: var(--fill-color);\n",
              "    }\n",
              "    30% {\n",
              "      border-color: transparent;\n",
              "      border-left-color: var(--fill-color);\n",
              "      border-top-color: var(--fill-color);\n",
              "      border-right-color: var(--fill-color);\n",
              "    }\n",
              "    40% {\n",
              "      border-color: transparent;\n",
              "      border-right-color: var(--fill-color);\n",
              "      border-top-color: var(--fill-color);\n",
              "    }\n",
              "    60% {\n",
              "      border-color: transparent;\n",
              "      border-right-color: var(--fill-color);\n",
              "    }\n",
              "    80% {\n",
              "      border-color: transparent;\n",
              "      border-right-color: var(--fill-color);\n",
              "      border-bottom-color: var(--fill-color);\n",
              "    }\n",
              "    90% {\n",
              "      border-color: transparent;\n",
              "      border-bottom-color: var(--fill-color);\n",
              "    }\n",
              "  }\n",
              "</style>\n",
              "\n",
              "  <script>\n",
              "    async function quickchart(key) {\n",
              "      const quickchartButtonEl =\n",
              "        document.querySelector('#' + key + ' button');\n",
              "      quickchartButtonEl.disabled = true;  // To prevent multiple clicks.\n",
              "      quickchartButtonEl.classList.add('colab-df-spinner');\n",
              "      try {\n",
              "        const charts = await google.colab.kernel.invokeFunction(\n",
              "            'suggestCharts', [key], {});\n",
              "      } catch (error) {\n",
              "        console.error('Error during call to suggestCharts:', error);\n",
              "      }\n",
              "      quickchartButtonEl.classList.remove('colab-df-spinner');\n",
              "      quickchartButtonEl.classList.add('colab-df-quickchart-complete');\n",
              "    }\n",
              "    (() => {\n",
              "      let quickchartButtonEl =\n",
              "        document.querySelector('#df-33d36077-338c-4011-973f-9c89ea861838 button');\n",
              "      quickchartButtonEl.style.display =\n",
              "        google.colab.kernel.accessAllowed ? 'block' : 'none';\n",
              "    })();\n",
              "  </script>\n",
              "</div>\n",
              "    </div>\n",
              "  </div>\n"
            ]
          },
          "metadata": {},
          "execution_count": 66
        }
      ]
    },
    {
      "cell_type": "markdown",
      "source": [
        "### Encode categorical variables"
      ],
      "metadata": {
        "id": "Hpq-HP6gSHIy"
      }
    },
    {
      "cell_type": "code",
      "source": [
        "df_encoded = pd.get_dummies(df, columns=['Crop_Type', 'Soil_Type'], drop_first=True)\n",
        "df_encoded.head()"
      ],
      "metadata": {
        "colab": {
          "base_uri": "https://localhost:8080/",
          "height": 206
        },
        "id": "BaqHkG3wN204",
        "outputId": "a7e3e129-10f1-4c09-ca65-175b9c344771"
      },
      "execution_count": null,
      "outputs": [
        {
          "output_type": "execute_result",
          "data": {
            "text/plain": [
              "     Rainfall  Crop_Yield  Crop_Type_Wheat  Soil_Type_Loamy  Soil_Type_Sandy\n",
              "0  154.881350   99.320973                0                1                0\n",
              "1  171.518937  108.928894                1                0                1\n",
              "2  160.276338   89.346757                0                0                1\n",
              "3  154.488318  105.431436                1                0                0\n",
              "4  142.365480  109.751046                1                1                0"
            ],
            "text/html": [
              "\n",
              "  <div id=\"df-a7567960-63cc-4949-836d-32c8f91ccae3\" class=\"colab-df-container\">\n",
              "    <div>\n",
              "<style scoped>\n",
              "    .dataframe tbody tr th:only-of-type {\n",
              "        vertical-align: middle;\n",
              "    }\n",
              "\n",
              "    .dataframe tbody tr th {\n",
              "        vertical-align: top;\n",
              "    }\n",
              "\n",
              "    .dataframe thead th {\n",
              "        text-align: right;\n",
              "    }\n",
              "</style>\n",
              "<table border=\"1\" class=\"dataframe\">\n",
              "  <thead>\n",
              "    <tr style=\"text-align: right;\">\n",
              "      <th></th>\n",
              "      <th>Rainfall</th>\n",
              "      <th>Crop_Yield</th>\n",
              "      <th>Crop_Type_Wheat</th>\n",
              "      <th>Soil_Type_Loamy</th>\n",
              "      <th>Soil_Type_Sandy</th>\n",
              "    </tr>\n",
              "  </thead>\n",
              "  <tbody>\n",
              "    <tr>\n",
              "      <th>0</th>\n",
              "      <td>154.881350</td>\n",
              "      <td>99.320973</td>\n",
              "      <td>0</td>\n",
              "      <td>1</td>\n",
              "      <td>0</td>\n",
              "    </tr>\n",
              "    <tr>\n",
              "      <th>1</th>\n",
              "      <td>171.518937</td>\n",
              "      <td>108.928894</td>\n",
              "      <td>1</td>\n",
              "      <td>0</td>\n",
              "      <td>1</td>\n",
              "    </tr>\n",
              "    <tr>\n",
              "      <th>2</th>\n",
              "      <td>160.276338</td>\n",
              "      <td>89.346757</td>\n",
              "      <td>0</td>\n",
              "      <td>0</td>\n",
              "      <td>1</td>\n",
              "    </tr>\n",
              "    <tr>\n",
              "      <th>3</th>\n",
              "      <td>154.488318</td>\n",
              "      <td>105.431436</td>\n",
              "      <td>1</td>\n",
              "      <td>0</td>\n",
              "      <td>0</td>\n",
              "    </tr>\n",
              "    <tr>\n",
              "      <th>4</th>\n",
              "      <td>142.365480</td>\n",
              "      <td>109.751046</td>\n",
              "      <td>1</td>\n",
              "      <td>1</td>\n",
              "      <td>0</td>\n",
              "    </tr>\n",
              "  </tbody>\n",
              "</table>\n",
              "</div>\n",
              "    <div class=\"colab-df-buttons\">\n",
              "\n",
              "  <div class=\"colab-df-container\">\n",
              "    <button class=\"colab-df-convert\" onclick=\"convertToInteractive('df-a7567960-63cc-4949-836d-32c8f91ccae3')\"\n",
              "            title=\"Convert this dataframe to an interactive table.\"\n",
              "            style=\"display:none;\">\n",
              "\n",
              "  <svg xmlns=\"http://www.w3.org/2000/svg\" height=\"24px\" viewBox=\"0 -960 960 960\">\n",
              "    <path d=\"M120-120v-720h720v720H120Zm60-500h600v-160H180v160Zm220 220h160v-160H400v160Zm0 220h160v-160H400v160ZM180-400h160v-160H180v160Zm440 0h160v-160H620v160ZM180-180h160v-160H180v160Zm440 0h160v-160H620v160Z\"/>\n",
              "  </svg>\n",
              "    </button>\n",
              "\n",
              "  <style>\n",
              "    .colab-df-container {\n",
              "      display:flex;\n",
              "      gap: 12px;\n",
              "    }\n",
              "\n",
              "    .colab-df-convert {\n",
              "      background-color: #E8F0FE;\n",
              "      border: none;\n",
              "      border-radius: 50%;\n",
              "      cursor: pointer;\n",
              "      display: none;\n",
              "      fill: #1967D2;\n",
              "      height: 32px;\n",
              "      padding: 0 0 0 0;\n",
              "      width: 32px;\n",
              "    }\n",
              "\n",
              "    .colab-df-convert:hover {\n",
              "      background-color: #E2EBFA;\n",
              "      box-shadow: 0px 1px 2px rgba(60, 64, 67, 0.3), 0px 1px 3px 1px rgba(60, 64, 67, 0.15);\n",
              "      fill: #174EA6;\n",
              "    }\n",
              "\n",
              "    .colab-df-buttons div {\n",
              "      margin-bottom: 4px;\n",
              "    }\n",
              "\n",
              "    [theme=dark] .colab-df-convert {\n",
              "      background-color: #3B4455;\n",
              "      fill: #D2E3FC;\n",
              "    }\n",
              "\n",
              "    [theme=dark] .colab-df-convert:hover {\n",
              "      background-color: #434B5C;\n",
              "      box-shadow: 0px 1px 3px 1px rgba(0, 0, 0, 0.15);\n",
              "      filter: drop-shadow(0px 1px 2px rgba(0, 0, 0, 0.3));\n",
              "      fill: #FFFFFF;\n",
              "    }\n",
              "  </style>\n",
              "\n",
              "    <script>\n",
              "      const buttonEl =\n",
              "        document.querySelector('#df-a7567960-63cc-4949-836d-32c8f91ccae3 button.colab-df-convert');\n",
              "      buttonEl.style.display =\n",
              "        google.colab.kernel.accessAllowed ? 'block' : 'none';\n",
              "\n",
              "      async function convertToInteractive(key) {\n",
              "        const element = document.querySelector('#df-a7567960-63cc-4949-836d-32c8f91ccae3');\n",
              "        const dataTable =\n",
              "          await google.colab.kernel.invokeFunction('convertToInteractive',\n",
              "                                                    [key], {});\n",
              "        if (!dataTable) return;\n",
              "\n",
              "        const docLinkHtml = 'Like what you see? Visit the ' +\n",
              "          '<a target=\"_blank\" href=https://colab.research.google.com/notebooks/data_table.ipynb>data table notebook</a>'\n",
              "          + ' to learn more about interactive tables.';\n",
              "        element.innerHTML = '';\n",
              "        dataTable['output_type'] = 'display_data';\n",
              "        await google.colab.output.renderOutput(dataTable, element);\n",
              "        const docLink = document.createElement('div');\n",
              "        docLink.innerHTML = docLinkHtml;\n",
              "        element.appendChild(docLink);\n",
              "      }\n",
              "    </script>\n",
              "  </div>\n",
              "\n",
              "\n",
              "<div id=\"df-6a1fb09e-2f5e-42e1-8168-42b2beca33f9\">\n",
              "  <button class=\"colab-df-quickchart\" onclick=\"quickchart('df-6a1fb09e-2f5e-42e1-8168-42b2beca33f9')\"\n",
              "            title=\"Suggest charts.\"\n",
              "            style=\"display:none;\">\n",
              "\n",
              "<svg xmlns=\"http://www.w3.org/2000/svg\" height=\"24px\"viewBox=\"0 0 24 24\"\n",
              "     width=\"24px\">\n",
              "    <g>\n",
              "        <path d=\"M19 3H5c-1.1 0-2 .9-2 2v14c0 1.1.9 2 2 2h14c1.1 0 2-.9 2-2V5c0-1.1-.9-2-2-2zM9 17H7v-7h2v7zm4 0h-2V7h2v10zm4 0h-2v-4h2v4z\"/>\n",
              "    </g>\n",
              "</svg>\n",
              "  </button>\n",
              "\n",
              "<style>\n",
              "  .colab-df-quickchart {\n",
              "      --bg-color: #E8F0FE;\n",
              "      --fill-color: #1967D2;\n",
              "      --hover-bg-color: #E2EBFA;\n",
              "      --hover-fill-color: #174EA6;\n",
              "      --disabled-fill-color: #AAA;\n",
              "      --disabled-bg-color: #DDD;\n",
              "  }\n",
              "\n",
              "  [theme=dark] .colab-df-quickchart {\n",
              "      --bg-color: #3B4455;\n",
              "      --fill-color: #D2E3FC;\n",
              "      --hover-bg-color: #434B5C;\n",
              "      --hover-fill-color: #FFFFFF;\n",
              "      --disabled-bg-color: #3B4455;\n",
              "      --disabled-fill-color: #666;\n",
              "  }\n",
              "\n",
              "  .colab-df-quickchart {\n",
              "    background-color: var(--bg-color);\n",
              "    border: none;\n",
              "    border-radius: 50%;\n",
              "    cursor: pointer;\n",
              "    display: none;\n",
              "    fill: var(--fill-color);\n",
              "    height: 32px;\n",
              "    padding: 0;\n",
              "    width: 32px;\n",
              "  }\n",
              "\n",
              "  .colab-df-quickchart:hover {\n",
              "    background-color: var(--hover-bg-color);\n",
              "    box-shadow: 0 1px 2px rgba(60, 64, 67, 0.3), 0 1px 3px 1px rgba(60, 64, 67, 0.15);\n",
              "    fill: var(--button-hover-fill-color);\n",
              "  }\n",
              "\n",
              "  .colab-df-quickchart-complete:disabled,\n",
              "  .colab-df-quickchart-complete:disabled:hover {\n",
              "    background-color: var(--disabled-bg-color);\n",
              "    fill: var(--disabled-fill-color);\n",
              "    box-shadow: none;\n",
              "  }\n",
              "\n",
              "  .colab-df-spinner {\n",
              "    border: 2px solid var(--fill-color);\n",
              "    border-color: transparent;\n",
              "    border-bottom-color: var(--fill-color);\n",
              "    animation:\n",
              "      spin 1s steps(1) infinite;\n",
              "  }\n",
              "\n",
              "  @keyframes spin {\n",
              "    0% {\n",
              "      border-color: transparent;\n",
              "      border-bottom-color: var(--fill-color);\n",
              "      border-left-color: var(--fill-color);\n",
              "    }\n",
              "    20% {\n",
              "      border-color: transparent;\n",
              "      border-left-color: var(--fill-color);\n",
              "      border-top-color: var(--fill-color);\n",
              "    }\n",
              "    30% {\n",
              "      border-color: transparent;\n",
              "      border-left-color: var(--fill-color);\n",
              "      border-top-color: var(--fill-color);\n",
              "      border-right-color: var(--fill-color);\n",
              "    }\n",
              "    40% {\n",
              "      border-color: transparent;\n",
              "      border-right-color: var(--fill-color);\n",
              "      border-top-color: var(--fill-color);\n",
              "    }\n",
              "    60% {\n",
              "      border-color: transparent;\n",
              "      border-right-color: var(--fill-color);\n",
              "    }\n",
              "    80% {\n",
              "      border-color: transparent;\n",
              "      border-right-color: var(--fill-color);\n",
              "      border-bottom-color: var(--fill-color);\n",
              "    }\n",
              "    90% {\n",
              "      border-color: transparent;\n",
              "      border-bottom-color: var(--fill-color);\n",
              "    }\n",
              "  }\n",
              "</style>\n",
              "\n",
              "  <script>\n",
              "    async function quickchart(key) {\n",
              "      const quickchartButtonEl =\n",
              "        document.querySelector('#' + key + ' button');\n",
              "      quickchartButtonEl.disabled = true;  // To prevent multiple clicks.\n",
              "      quickchartButtonEl.classList.add('colab-df-spinner');\n",
              "      try {\n",
              "        const charts = await google.colab.kernel.invokeFunction(\n",
              "            'suggestCharts', [key], {});\n",
              "      } catch (error) {\n",
              "        console.error('Error during call to suggestCharts:', error);\n",
              "      }\n",
              "      quickchartButtonEl.classList.remove('colab-df-spinner');\n",
              "      quickchartButtonEl.classList.add('colab-df-quickchart-complete');\n",
              "    }\n",
              "    (() => {\n",
              "      let quickchartButtonEl =\n",
              "        document.querySelector('#df-6a1fb09e-2f5e-42e1-8168-42b2beca33f9 button');\n",
              "      quickchartButtonEl.style.display =\n",
              "        google.colab.kernel.accessAllowed ? 'block' : 'none';\n",
              "    })();\n",
              "  </script>\n",
              "</div>\n",
              "    </div>\n",
              "  </div>\n"
            ]
          },
          "metadata": {},
          "execution_count": 108
        }
      ]
    },
    {
      "cell_type": "code",
      "source": [
        "from sklearn.model_selection import train_test_split\n",
        "from sklearn.linear_model import LinearRegression\n",
        "from sklearn.metrics import mean_squared_error\n",
        "np.random.seed(0)\n",
        "\n",
        "# Define independent variables (X) and the dependent variable (y)\n",
        "X = df_encoded.drop('Crop_Yield', axis=1)\n",
        "y = df_encoded['Crop_Yield']\n",
        "\n",
        "# Split the dataset into training and testing sets\n",
        "X_train, X_test, y_train, y_test = train_test_split(X, y, test_size=0.2, random_state=42)"
      ],
      "metadata": {
        "id": "jEp6DXxnOWr-"
      },
      "execution_count": null,
      "outputs": []
    },
    {
      "cell_type": "code",
      "source": [
        "X_train"
      ],
      "metadata": {
        "colab": {
          "base_uri": "https://localhost:8080/",
          "height": 423
        },
        "id": "NQbfWAVbQBQC",
        "outputId": "790ad241-4fb6-4295-ef01-72224dd0f42d"
      },
      "execution_count": null,
      "outputs": [
        {
          "output_type": "execute_result",
          "data": {
            "text/plain": [
              "      Rainfall  Crop_Type_Wheat  Soil_Type_Loamy  Soil_Type_Sandy\n",
              "55  116.130952                0                1                0\n",
              "88  157.594650                0                1                0\n",
              "26  114.335329                1                0                1\n",
              "42  169.763120                1                1                0\n",
              "69  109.609841                0                1                0\n",
              "..         ...              ...              ...              ...\n",
              "60  115.896958                0                1                0\n",
              "71  146.865120                0                0                0\n",
              "14  107.103606                1                0                0\n",
              "92  113.179786                1                0                1\n",
              "51  143.860151                0                0                0\n",
              "\n",
              "[80 rows x 4 columns]"
            ],
            "text/html": [
              "\n",
              "  <div id=\"df-0f251fef-5868-472b-9749-986504b2b108\" class=\"colab-df-container\">\n",
              "    <div>\n",
              "<style scoped>\n",
              "    .dataframe tbody tr th:only-of-type {\n",
              "        vertical-align: middle;\n",
              "    }\n",
              "\n",
              "    .dataframe tbody tr th {\n",
              "        vertical-align: top;\n",
              "    }\n",
              "\n",
              "    .dataframe thead th {\n",
              "        text-align: right;\n",
              "    }\n",
              "</style>\n",
              "<table border=\"1\" class=\"dataframe\">\n",
              "  <thead>\n",
              "    <tr style=\"text-align: right;\">\n",
              "      <th></th>\n",
              "      <th>Rainfall</th>\n",
              "      <th>Crop_Type_Wheat</th>\n",
              "      <th>Soil_Type_Loamy</th>\n",
              "      <th>Soil_Type_Sandy</th>\n",
              "    </tr>\n",
              "  </thead>\n",
              "  <tbody>\n",
              "    <tr>\n",
              "      <th>55</th>\n",
              "      <td>116.130952</td>\n",
              "      <td>0</td>\n",
              "      <td>1</td>\n",
              "      <td>0</td>\n",
              "    </tr>\n",
              "    <tr>\n",
              "      <th>88</th>\n",
              "      <td>157.594650</td>\n",
              "      <td>0</td>\n",
              "      <td>1</td>\n",
              "      <td>0</td>\n",
              "    </tr>\n",
              "    <tr>\n",
              "      <th>26</th>\n",
              "      <td>114.335329</td>\n",
              "      <td>1</td>\n",
              "      <td>0</td>\n",
              "      <td>1</td>\n",
              "    </tr>\n",
              "    <tr>\n",
              "      <th>42</th>\n",
              "      <td>169.763120</td>\n",
              "      <td>1</td>\n",
              "      <td>1</td>\n",
              "      <td>0</td>\n",
              "    </tr>\n",
              "    <tr>\n",
              "      <th>69</th>\n",
              "      <td>109.609841</td>\n",
              "      <td>0</td>\n",
              "      <td>1</td>\n",
              "      <td>0</td>\n",
              "    </tr>\n",
              "    <tr>\n",
              "      <th>...</th>\n",
              "      <td>...</td>\n",
              "      <td>...</td>\n",
              "      <td>...</td>\n",
              "      <td>...</td>\n",
              "    </tr>\n",
              "    <tr>\n",
              "      <th>60</th>\n",
              "      <td>115.896958</td>\n",
              "      <td>0</td>\n",
              "      <td>1</td>\n",
              "      <td>0</td>\n",
              "    </tr>\n",
              "    <tr>\n",
              "      <th>71</th>\n",
              "      <td>146.865120</td>\n",
              "      <td>0</td>\n",
              "      <td>0</td>\n",
              "      <td>0</td>\n",
              "    </tr>\n",
              "    <tr>\n",
              "      <th>14</th>\n",
              "      <td>107.103606</td>\n",
              "      <td>1</td>\n",
              "      <td>0</td>\n",
              "      <td>0</td>\n",
              "    </tr>\n",
              "    <tr>\n",
              "      <th>92</th>\n",
              "      <td>113.179786</td>\n",
              "      <td>1</td>\n",
              "      <td>0</td>\n",
              "      <td>1</td>\n",
              "    </tr>\n",
              "    <tr>\n",
              "      <th>51</th>\n",
              "      <td>143.860151</td>\n",
              "      <td>0</td>\n",
              "      <td>0</td>\n",
              "      <td>0</td>\n",
              "    </tr>\n",
              "  </tbody>\n",
              "</table>\n",
              "<p>80 rows × 4 columns</p>\n",
              "</div>\n",
              "    <div class=\"colab-df-buttons\">\n",
              "\n",
              "  <div class=\"colab-df-container\">\n",
              "    <button class=\"colab-df-convert\" onclick=\"convertToInteractive('df-0f251fef-5868-472b-9749-986504b2b108')\"\n",
              "            title=\"Convert this dataframe to an interactive table.\"\n",
              "            style=\"display:none;\">\n",
              "\n",
              "  <svg xmlns=\"http://www.w3.org/2000/svg\" height=\"24px\" viewBox=\"0 -960 960 960\">\n",
              "    <path d=\"M120-120v-720h720v720H120Zm60-500h600v-160H180v160Zm220 220h160v-160H400v160Zm0 220h160v-160H400v160ZM180-400h160v-160H180v160Zm440 0h160v-160H620v160ZM180-180h160v-160H180v160Zm440 0h160v-160H620v160Z\"/>\n",
              "  </svg>\n",
              "    </button>\n",
              "\n",
              "  <style>\n",
              "    .colab-df-container {\n",
              "      display:flex;\n",
              "      gap: 12px;\n",
              "    }\n",
              "\n",
              "    .colab-df-convert {\n",
              "      background-color: #E8F0FE;\n",
              "      border: none;\n",
              "      border-radius: 50%;\n",
              "      cursor: pointer;\n",
              "      display: none;\n",
              "      fill: #1967D2;\n",
              "      height: 32px;\n",
              "      padding: 0 0 0 0;\n",
              "      width: 32px;\n",
              "    }\n",
              "\n",
              "    .colab-df-convert:hover {\n",
              "      background-color: #E2EBFA;\n",
              "      box-shadow: 0px 1px 2px rgba(60, 64, 67, 0.3), 0px 1px 3px 1px rgba(60, 64, 67, 0.15);\n",
              "      fill: #174EA6;\n",
              "    }\n",
              "\n",
              "    .colab-df-buttons div {\n",
              "      margin-bottom: 4px;\n",
              "    }\n",
              "\n",
              "    [theme=dark] .colab-df-convert {\n",
              "      background-color: #3B4455;\n",
              "      fill: #D2E3FC;\n",
              "    }\n",
              "\n",
              "    [theme=dark] .colab-df-convert:hover {\n",
              "      background-color: #434B5C;\n",
              "      box-shadow: 0px 1px 3px 1px rgba(0, 0, 0, 0.15);\n",
              "      filter: drop-shadow(0px 1px 2px rgba(0, 0, 0, 0.3));\n",
              "      fill: #FFFFFF;\n",
              "    }\n",
              "  </style>\n",
              "\n",
              "    <script>\n",
              "      const buttonEl =\n",
              "        document.querySelector('#df-0f251fef-5868-472b-9749-986504b2b108 button.colab-df-convert');\n",
              "      buttonEl.style.display =\n",
              "        google.colab.kernel.accessAllowed ? 'block' : 'none';\n",
              "\n",
              "      async function convertToInteractive(key) {\n",
              "        const element = document.querySelector('#df-0f251fef-5868-472b-9749-986504b2b108');\n",
              "        const dataTable =\n",
              "          await google.colab.kernel.invokeFunction('convertToInteractive',\n",
              "                                                    [key], {});\n",
              "        if (!dataTable) return;\n",
              "\n",
              "        const docLinkHtml = 'Like what you see? Visit the ' +\n",
              "          '<a target=\"_blank\" href=https://colab.research.google.com/notebooks/data_table.ipynb>data table notebook</a>'\n",
              "          + ' to learn more about interactive tables.';\n",
              "        element.innerHTML = '';\n",
              "        dataTable['output_type'] = 'display_data';\n",
              "        await google.colab.output.renderOutput(dataTable, element);\n",
              "        const docLink = document.createElement('div');\n",
              "        docLink.innerHTML = docLinkHtml;\n",
              "        element.appendChild(docLink);\n",
              "      }\n",
              "    </script>\n",
              "  </div>\n",
              "\n",
              "\n",
              "<div id=\"df-e8ec7091-0db4-48bf-adf2-bcfe335e1281\">\n",
              "  <button class=\"colab-df-quickchart\" onclick=\"quickchart('df-e8ec7091-0db4-48bf-adf2-bcfe335e1281')\"\n",
              "            title=\"Suggest charts.\"\n",
              "            style=\"display:none;\">\n",
              "\n",
              "<svg xmlns=\"http://www.w3.org/2000/svg\" height=\"24px\"viewBox=\"0 0 24 24\"\n",
              "     width=\"24px\">\n",
              "    <g>\n",
              "        <path d=\"M19 3H5c-1.1 0-2 .9-2 2v14c0 1.1.9 2 2 2h14c1.1 0 2-.9 2-2V5c0-1.1-.9-2-2-2zM9 17H7v-7h2v7zm4 0h-2V7h2v10zm4 0h-2v-4h2v4z\"/>\n",
              "    </g>\n",
              "</svg>\n",
              "  </button>\n",
              "\n",
              "<style>\n",
              "  .colab-df-quickchart {\n",
              "      --bg-color: #E8F0FE;\n",
              "      --fill-color: #1967D2;\n",
              "      --hover-bg-color: #E2EBFA;\n",
              "      --hover-fill-color: #174EA6;\n",
              "      --disabled-fill-color: #AAA;\n",
              "      --disabled-bg-color: #DDD;\n",
              "  }\n",
              "\n",
              "  [theme=dark] .colab-df-quickchart {\n",
              "      --bg-color: #3B4455;\n",
              "      --fill-color: #D2E3FC;\n",
              "      --hover-bg-color: #434B5C;\n",
              "      --hover-fill-color: #FFFFFF;\n",
              "      --disabled-bg-color: #3B4455;\n",
              "      --disabled-fill-color: #666;\n",
              "  }\n",
              "\n",
              "  .colab-df-quickchart {\n",
              "    background-color: var(--bg-color);\n",
              "    border: none;\n",
              "    border-radius: 50%;\n",
              "    cursor: pointer;\n",
              "    display: none;\n",
              "    fill: var(--fill-color);\n",
              "    height: 32px;\n",
              "    padding: 0;\n",
              "    width: 32px;\n",
              "  }\n",
              "\n",
              "  .colab-df-quickchart:hover {\n",
              "    background-color: var(--hover-bg-color);\n",
              "    box-shadow: 0 1px 2px rgba(60, 64, 67, 0.3), 0 1px 3px 1px rgba(60, 64, 67, 0.15);\n",
              "    fill: var(--button-hover-fill-color);\n",
              "  }\n",
              "\n",
              "  .colab-df-quickchart-complete:disabled,\n",
              "  .colab-df-quickchart-complete:disabled:hover {\n",
              "    background-color: var(--disabled-bg-color);\n",
              "    fill: var(--disabled-fill-color);\n",
              "    box-shadow: none;\n",
              "  }\n",
              "\n",
              "  .colab-df-spinner {\n",
              "    border: 2px solid var(--fill-color);\n",
              "    border-color: transparent;\n",
              "    border-bottom-color: var(--fill-color);\n",
              "    animation:\n",
              "      spin 1s steps(1) infinite;\n",
              "  }\n",
              "\n",
              "  @keyframes spin {\n",
              "    0% {\n",
              "      border-color: transparent;\n",
              "      border-bottom-color: var(--fill-color);\n",
              "      border-left-color: var(--fill-color);\n",
              "    }\n",
              "    20% {\n",
              "      border-color: transparent;\n",
              "      border-left-color: var(--fill-color);\n",
              "      border-top-color: var(--fill-color);\n",
              "    }\n",
              "    30% {\n",
              "      border-color: transparent;\n",
              "      border-left-color: var(--fill-color);\n",
              "      border-top-color: var(--fill-color);\n",
              "      border-right-color: var(--fill-color);\n",
              "    }\n",
              "    40% {\n",
              "      border-color: transparent;\n",
              "      border-right-color: var(--fill-color);\n",
              "      border-top-color: var(--fill-color);\n",
              "    }\n",
              "    60% {\n",
              "      border-color: transparent;\n",
              "      border-right-color: var(--fill-color);\n",
              "    }\n",
              "    80% {\n",
              "      border-color: transparent;\n",
              "      border-right-color: var(--fill-color);\n",
              "      border-bottom-color: var(--fill-color);\n",
              "    }\n",
              "    90% {\n",
              "      border-color: transparent;\n",
              "      border-bottom-color: var(--fill-color);\n",
              "    }\n",
              "  }\n",
              "</style>\n",
              "\n",
              "  <script>\n",
              "    async function quickchart(key) {\n",
              "      const quickchartButtonEl =\n",
              "        document.querySelector('#' + key + ' button');\n",
              "      quickchartButtonEl.disabled = true;  // To prevent multiple clicks.\n",
              "      quickchartButtonEl.classList.add('colab-df-spinner');\n",
              "      try {\n",
              "        const charts = await google.colab.kernel.invokeFunction(\n",
              "            'suggestCharts', [key], {});\n",
              "      } catch (error) {\n",
              "        console.error('Error during call to suggestCharts:', error);\n",
              "      }\n",
              "      quickchartButtonEl.classList.remove('colab-df-spinner');\n",
              "      quickchartButtonEl.classList.add('colab-df-quickchart-complete');\n",
              "    }\n",
              "    (() => {\n",
              "      let quickchartButtonEl =\n",
              "        document.querySelector('#df-e8ec7091-0db4-48bf-adf2-bcfe335e1281 button');\n",
              "      quickchartButtonEl.style.display =\n",
              "        google.colab.kernel.accessAllowed ? 'block' : 'none';\n",
              "    })();\n",
              "  </script>\n",
              "</div>\n",
              "    </div>\n",
              "  </div>\n"
            ]
          },
          "metadata": {},
          "execution_count": 110
        }
      ]
    },
    {
      "cell_type": "markdown",
      "source": [
        "### Fit a multiple linear regression model"
      ],
      "metadata": {
        "id": "dbpEqdnsRrfa"
      }
    },
    {
      "cell_type": "code",
      "source": [
        "model = LinearRegression() # Initialize the Linear Regression Model\n",
        "model.fit(X_train, y_train) # Fit the model to the training data\n",
        "y_pred = model.predict(X_test) # Predict the crop yield on the test set"
      ],
      "metadata": {
        "id": "OEe4TQvPP-Yi"
      },
      "execution_count": null,
      "outputs": []
    },
    {
      "cell_type": "code",
      "source": [
        "model.intercept_, model.coef_"
      ],
      "metadata": {
        "colab": {
          "base_uri": "https://localhost:8080/"
        },
        "id": "L4sVZMv0RbUA",
        "outputId": "fcc21969-95ee-4701-aaea-ee588b925816"
      },
      "execution_count": null,
      "outputs": [
        {
          "output_type": "execute_result",
          "data": {
            "text/plain": [
              "(5.894457716577335,\n",
              " array([ 0.4788697 , 19.40732237,  5.74849808, -2.03164516]))"
            ]
          },
          "metadata": {},
          "execution_count": 112
        }
      ]
    },
    {
      "cell_type": "markdown",
      "source": [
        "### Mean Squared Error (MSE)"
      ],
      "metadata": {
        "id": "D0y4sPXWRxII"
      }
    },
    {
      "cell_type": "code",
      "source": [
        "mse = mean_squared_error(y_test, y_pred) # Evaluate the model using Mean Squared Error\n",
        "mse"
      ],
      "metadata": {
        "colab": {
          "base_uri": "https://localhost:8080/"
        },
        "id": "dUESjNzORzHI",
        "outputId": "9d3ceedc-179f-477a-d9c0-3626dd0f92b6"
      },
      "execution_count": null,
      "outputs": [
        {
          "output_type": "execute_result",
          "data": {
            "text/plain": [
              "92.41332064773921"
            ]
          },
          "metadata": {},
          "execution_count": 113
        }
      ]
    },
    {
      "cell_type": "markdown",
      "source": [
        "### Hypothesis testing"
      ],
      "metadata": {
        "id": "15oTBm0UWeq4"
      }
    },
    {
      "cell_type": "markdown",
      "source": [
        "#### P-value (using a package)"
      ],
      "metadata": {
        "id": "JYYXVUGzWkbL"
      }
    },
    {
      "cell_type": "markdown",
      "source": [
        "below we will calcualte p-value using package statsmodels:"
      ],
      "metadata": {
        "id": "ulIdwhBBZGKl"
      }
    },
    {
      "cell_type": "code",
      "source": [
        "import statsmodels.api as sm\n",
        "\n",
        "# Add a constant to the independent variables matrix for the intercept\n",
        "X_with_constant = sm.add_constant(X_train)\n",
        "\n",
        "# Fit the model\n",
        "model_sm = sm.OLS(y_train, X_with_constant).fit()\n",
        "\n",
        "# Display the summary\n",
        "print(model_sm.summary())"
      ],
      "metadata": {
        "colab": {
          "base_uri": "https://localhost:8080/"
        },
        "id": "w3wGNbbFWjWW",
        "outputId": "79a54d08-1cc2-4873-911c-8a9af9586a90"
      },
      "execution_count": null,
      "outputs": [
        {
          "output_type": "stream",
          "name": "stdout",
          "text": [
            "                            OLS Regression Results                            \n",
            "==============================================================================\n",
            "Dep. Variable:             Crop_Yield   R-squared:                       0.775\n",
            "Model:                            OLS   Adj. R-squared:                  0.763\n",
            "Method:                 Least Squares   F-statistic:                     64.53\n",
            "Date:                Tue, 26 Sep 2023   Prob (F-statistic):           1.57e-23\n",
            "Time:                        16:37:45   Log-Likelihood:                -286.77\n",
            "No. Observations:                  80   AIC:                             583.5\n",
            "Df Residuals:                      75   BIC:                             595.5\n",
            "Df Model:                           4                                         \n",
            "Covariance Type:            nonrobust                                         \n",
            "===================================================================================\n",
            "                      coef    std err          t      P>|t|      [0.025      0.975]\n",
            "-----------------------------------------------------------------------------------\n",
            "const               5.8945      5.753      1.025      0.309      -5.566      17.355\n",
            "Rainfall            0.4789      0.035     13.764      0.000       0.410       0.548\n",
            "Crop_Type_Wheat    19.4073      2.086      9.304      0.000      15.252      23.563\n",
            "Soil_Type_Loamy     5.7485      2.464      2.333      0.022       0.839      10.658\n",
            "Soil_Type_Sandy    -2.0316      2.682     -0.757      0.451      -7.375       3.311\n",
            "==============================================================================\n",
            "Omnibus:                        0.338   Durbin-Watson:                   1.870\n",
            "Prob(Omnibus):                  0.845   Jarque-Bera (JB):                0.286\n",
            "Skew:                          -0.141   Prob(JB):                        0.867\n",
            "Kurtosis:                       2.919   Cond. No.                         876.\n",
            "==============================================================================\n",
            "\n",
            "Notes:\n",
            "[1] Standard Errors assume that the covariance matrix of the errors is correctly specified.\n"
          ]
        }
      ]
    },
    {
      "cell_type": "markdown",
      "source": [
        "#### P-value (by-hand)"
      ],
      "metadata": {
        "id": "bAVjmPQQ6SvH"
      }
    },
    {
      "cell_type": "markdown",
      "source": [
        "Below we will calculate p-values based on the estimated parameters."
      ],
      "metadata": {
        "id": "cp7Y4zyz7SDD"
      }
    },
    {
      "cell_type": "markdown",
      "source": [
        "**MSE**:\n",
        " - $$MSE = \\frac{SSE}{n-p}$$  \n",
        " - $$E(MSE)=\\sigma^2_e$$\n",
        "\n",
        "**LS estimators**:\n",
        " - $$ \\boldsymbol{\\hat{\\beta}}_{p \\times 1} = \\begin{bmatrix} \\hat{\\beta_0} \\\\ \\hat{\\beta_1} \\\\ \\vdots \\\\ \\hat{\\beta}_{p-1}  \\end{bmatrix} $$\n",
        "\n",
        " - $ E(\\boldsymbol{\\hat{\\beta}}) = \\boldsymbol{\\beta}$\n",
        "\n",
        " - $\\sigma^2_{\\boldsymbol{\\hat{\\beta}}} = \\sigma_e^2 *(\\mathbf{X}^T \\mathbf{X})^{-1}$\n",
        " - the standard error of $\\hat{\\beta_k}$ (i.e., $s_{\\hat{\\beta}_k}$) is the positive square-root of the corresponding diagonal element of $MSE*(\\mathbf{X}^T \\mathbf{X})^{-1}$.\n",
        "\n",
        "**Studentized pivotal quantity**:\n",
        " - $\\frac{\\hat{\\beta_k}- \\beta_k}{s_{\\hat{\\beta}_k}} \\sim t_{(n - p)}$.\n",
        "\n",
        "\n",
        "**$(1-\\alpha)-$Confidence Interval for $\\beta_k$**:\n",
        " -  $\\hat{\\beta_k} \\pm t_{(1 - \\frac{\\alpha}{2}; n - p)} s_{\\hat{\\beta}_k}$\n",
        "\n",
        "**T-Statistic:**\n",
        " - $T^* = \\frac{\\hat{\\beta_k} - \\beta_k^0}{s_{\\hat{\\beta}_k}} \\sim t_{(n-p)}$\n",
        "\n",
        "\n",
        "**Two-sided T-test:**\n",
        " - $H_0$: $\\beta_k = \\beta_{k}^0$ vs $H_a$: $\\beta_k \\neq \\beta_{k}^0$\n",
        " - the decision rule at level $\\alpha$ is to reject $H_0$ if and only if $|T^*| > t_\\left(1 - \\frac{\\alpha}{2}; n - p \\right)$.\n"
      ],
      "metadata": {
        "id": "Yl-GF0qv6VLv"
      }
    },
    {
      "cell_type": "code",
      "source": [
        "import numpy as np\n",
        "import pandas as pd\n",
        "import scipy.stats as stats\n",
        "\n",
        "# Calculate residuals\n",
        "residuals = y_train - model.predict(X_train)\n",
        "\n",
        "# Compute the standard error of the regression\n",
        "SER = np.sqrt(np.sum(residuals**2) / (len(y_train) - X_train.shape[1] - 1)) #sqrt(MSE)\n",
        "\n",
        "# Add a constant to X_train for the intercept\n",
        "X_with_intercept = np.c_[np.ones(X_train.shape[0]), X_train] #X\n",
        "\n",
        "# Calculate the standard error for each coefficient\n",
        "var_beta = SER**2 * np.linalg.inv(np.dot(X_with_intercept.T, X_with_intercept)).diagonal() #var of beta_hat = MSE*inv(X'X)\n",
        "SE_beta = np.sqrt(var_beta) #s.e of beta_hat\n",
        "\n",
        "# Calculate t-statistics\n",
        "t_stats_with_intercept = np.concatenate([[model.intercept_ / SE_beta[0]], model.coef_ / SE_beta[1:]]) #H0: beta=0\n",
        "\n",
        "# Determine p-values for the t-statistics\n",
        "p_values_with_intercept = 2 * (1 - stats.t.cdf(np.abs(t_stats_with_intercept), df=len(y_train) - X_train.shape[1] - 1))\n",
        "\n",
        "# Combine results into a DataFrame for better visualization\n",
        "results_df_with_intercept = pd.DataFrame({\n",
        "    'Coefficient': np.concatenate([[model.intercept_], model.coef_]),\n",
        "    'Standard Error': SE_beta,\n",
        "    't-statistic': t_stats_with_intercept,\n",
        "    'p-value': p_values_with_intercept\n",
        "}, index=['Intercept'] + list(X_train.columns))\n",
        "\n",
        "print(results_df_with_intercept)"
      ],
      "metadata": {
        "colab": {
          "base_uri": "https://localhost:8080/"
        },
        "id": "C3WkYPTOWWwU",
        "outputId": "42972618-27a3-4ca3-bb23-7a0c4a16121f"
      },
      "execution_count": null,
      "outputs": [
        {
          "output_type": "stream",
          "name": "stdout",
          "text": [
            "                 Coefficient  Standard Error  t-statistic       p-value\n",
            "Intercept           5.894458        5.753112     1.024569  3.088601e-01\n",
            "Rainfall            0.478870        0.034791    13.764196  0.000000e+00\n",
            "Crop_Type_Wheat    19.407322        2.085945     9.303850  3.930190e-14\n",
            "Soil_Type_Loamy     5.748498        2.464453     2.332565  2.235596e-02\n",
            "Soil_Type_Sandy    -2.031645        2.682107    -0.757481  4.511350e-01\n"
          ]
        }
      ]
    },
    {
      "cell_type": "markdown",
      "source": [
        "### Solve normal equation by-hand"
      ],
      "metadata": {
        "id": "9_f1LakIRfC7"
      }
    },
    {
      "cell_type": "code",
      "source": [
        "import numpy as np\n",
        "\n",
        "# Add a column of ones to the independent variables matrix (X) for the intercept\n",
        "X_with_intercept = np.c_[np.ones(X_train.shape[0]), X_train]  # Adding a column of ones to X_train\n",
        "\n",
        "# Calculate the coefficients using the normal equation inv(X'X)*(X'y)\n",
        "beta = np.linalg.inv(X_with_intercept.T @ X_with_intercept) @ X_with_intercept.T @ y_train\n",
        "\n",
        "# The first element in beta will be the intercept, and the rest will be the coefficients (slopes) for the independent variables.\n",
        "intercept, slopes = beta[0], beta[1:]\n",
        "\n",
        "intercept, slopes"
      ],
      "metadata": {
        "colab": {
          "base_uri": "https://localhost:8080/"
        },
        "id": "E76VF0oROue4",
        "outputId": "a4ec3b70-a22c-416f-e247-73d831017b7b"
      },
      "execution_count": null,
      "outputs": [
        {
          "output_type": "execute_result",
          "data": {
            "text/plain": [
              "(5.89445771657806, array([ 0.4788697 , 19.40732237,  5.74849808, -2.03164516]))"
            ]
          },
          "metadata": {},
          "execution_count": 31
        }
      ]
    },
    {
      "cell_type": "markdown",
      "source": [
        "#### left-hand side of normal equuation"
      ],
      "metadata": {
        "id": "CaboMnKvTmB2"
      }
    },
    {
      "cell_type": "code",
      "source": [
        "import numpy as np\n",
        "import pandas as pd\n",
        "\n",
        "# Take the first few rows of the independent variables matrix X (for demonstration purposes)\n",
        "X_small = X_train.head(10)\n",
        "X_small"
      ],
      "metadata": {
        "colab": {
          "base_uri": "https://localhost:8080/",
          "height": 363
        },
        "id": "Qozhyez_TQik",
        "outputId": "fdba72dd-56a1-47fc-ec57-81dbc6ed8d08"
      },
      "execution_count": null,
      "outputs": [
        {
          "output_type": "execute_result",
          "data": {
            "text/plain": [
              "      Rainfall  Crop_Type_Wheat  Soil_Type_Loamy  Soil_Type_Sandy\n",
              "55  116.130952                0                1                0\n",
              "88  157.594650                0                1                0\n",
              "26  114.335329                1                0                1\n",
              "42  169.763120                1                1                0\n",
              "69  109.609841                0                1                0\n",
              "15  108.712930                1                0                0\n",
              "40  135.950790                1                1                0\n",
              "96  158.651293                1                0                1\n",
              "9   138.344152                1                1                0\n",
              "72  197.676109                0                1                0"
            ],
            "text/html": [
              "\n",
              "  <div id=\"df-bdf611c8-fae6-4be1-8d3c-51562245e781\" class=\"colab-df-container\">\n",
              "    <div>\n",
              "<style scoped>\n",
              "    .dataframe tbody tr th:only-of-type {\n",
              "        vertical-align: middle;\n",
              "    }\n",
              "\n",
              "    .dataframe tbody tr th {\n",
              "        vertical-align: top;\n",
              "    }\n",
              "\n",
              "    .dataframe thead th {\n",
              "        text-align: right;\n",
              "    }\n",
              "</style>\n",
              "<table border=\"1\" class=\"dataframe\">\n",
              "  <thead>\n",
              "    <tr style=\"text-align: right;\">\n",
              "      <th></th>\n",
              "      <th>Rainfall</th>\n",
              "      <th>Crop_Type_Wheat</th>\n",
              "      <th>Soil_Type_Loamy</th>\n",
              "      <th>Soil_Type_Sandy</th>\n",
              "    </tr>\n",
              "  </thead>\n",
              "  <tbody>\n",
              "    <tr>\n",
              "      <th>55</th>\n",
              "      <td>116.130952</td>\n",
              "      <td>0</td>\n",
              "      <td>1</td>\n",
              "      <td>0</td>\n",
              "    </tr>\n",
              "    <tr>\n",
              "      <th>88</th>\n",
              "      <td>157.594650</td>\n",
              "      <td>0</td>\n",
              "      <td>1</td>\n",
              "      <td>0</td>\n",
              "    </tr>\n",
              "    <tr>\n",
              "      <th>26</th>\n",
              "      <td>114.335329</td>\n",
              "      <td>1</td>\n",
              "      <td>0</td>\n",
              "      <td>1</td>\n",
              "    </tr>\n",
              "    <tr>\n",
              "      <th>42</th>\n",
              "      <td>169.763120</td>\n",
              "      <td>1</td>\n",
              "      <td>1</td>\n",
              "      <td>0</td>\n",
              "    </tr>\n",
              "    <tr>\n",
              "      <th>69</th>\n",
              "      <td>109.609841</td>\n",
              "      <td>0</td>\n",
              "      <td>1</td>\n",
              "      <td>0</td>\n",
              "    </tr>\n",
              "    <tr>\n",
              "      <th>15</th>\n",
              "      <td>108.712930</td>\n",
              "      <td>1</td>\n",
              "      <td>0</td>\n",
              "      <td>0</td>\n",
              "    </tr>\n",
              "    <tr>\n",
              "      <th>40</th>\n",
              "      <td>135.950790</td>\n",
              "      <td>1</td>\n",
              "      <td>1</td>\n",
              "      <td>0</td>\n",
              "    </tr>\n",
              "    <tr>\n",
              "      <th>96</th>\n",
              "      <td>158.651293</td>\n",
              "      <td>1</td>\n",
              "      <td>0</td>\n",
              "      <td>1</td>\n",
              "    </tr>\n",
              "    <tr>\n",
              "      <th>9</th>\n",
              "      <td>138.344152</td>\n",
              "      <td>1</td>\n",
              "      <td>1</td>\n",
              "      <td>0</td>\n",
              "    </tr>\n",
              "    <tr>\n",
              "      <th>72</th>\n",
              "      <td>197.676109</td>\n",
              "      <td>0</td>\n",
              "      <td>1</td>\n",
              "      <td>0</td>\n",
              "    </tr>\n",
              "  </tbody>\n",
              "</table>\n",
              "</div>\n",
              "    <div class=\"colab-df-buttons\">\n",
              "\n",
              "  <div class=\"colab-df-container\">\n",
              "    <button class=\"colab-df-convert\" onclick=\"convertToInteractive('df-bdf611c8-fae6-4be1-8d3c-51562245e781')\"\n",
              "            title=\"Convert this dataframe to an interactive table.\"\n",
              "            style=\"display:none;\">\n",
              "\n",
              "  <svg xmlns=\"http://www.w3.org/2000/svg\" height=\"24px\" viewBox=\"0 -960 960 960\">\n",
              "    <path d=\"M120-120v-720h720v720H120Zm60-500h600v-160H180v160Zm220 220h160v-160H400v160Zm0 220h160v-160H400v160ZM180-400h160v-160H180v160Zm440 0h160v-160H620v160ZM180-180h160v-160H180v160Zm440 0h160v-160H620v160Z\"/>\n",
              "  </svg>\n",
              "    </button>\n",
              "\n",
              "  <style>\n",
              "    .colab-df-container {\n",
              "      display:flex;\n",
              "      gap: 12px;\n",
              "    }\n",
              "\n",
              "    .colab-df-convert {\n",
              "      background-color: #E8F0FE;\n",
              "      border: none;\n",
              "      border-radius: 50%;\n",
              "      cursor: pointer;\n",
              "      display: none;\n",
              "      fill: #1967D2;\n",
              "      height: 32px;\n",
              "      padding: 0 0 0 0;\n",
              "      width: 32px;\n",
              "    }\n",
              "\n",
              "    .colab-df-convert:hover {\n",
              "      background-color: #E2EBFA;\n",
              "      box-shadow: 0px 1px 2px rgba(60, 64, 67, 0.3), 0px 1px 3px 1px rgba(60, 64, 67, 0.15);\n",
              "      fill: #174EA6;\n",
              "    }\n",
              "\n",
              "    .colab-df-buttons div {\n",
              "      margin-bottom: 4px;\n",
              "    }\n",
              "\n",
              "    [theme=dark] .colab-df-convert {\n",
              "      background-color: #3B4455;\n",
              "      fill: #D2E3FC;\n",
              "    }\n",
              "\n",
              "    [theme=dark] .colab-df-convert:hover {\n",
              "      background-color: #434B5C;\n",
              "      box-shadow: 0px 1px 3px 1px rgba(0, 0, 0, 0.15);\n",
              "      filter: drop-shadow(0px 1px 2px rgba(0, 0, 0, 0.3));\n",
              "      fill: #FFFFFF;\n",
              "    }\n",
              "  </style>\n",
              "\n",
              "    <script>\n",
              "      const buttonEl =\n",
              "        document.querySelector('#df-bdf611c8-fae6-4be1-8d3c-51562245e781 button.colab-df-convert');\n",
              "      buttonEl.style.display =\n",
              "        google.colab.kernel.accessAllowed ? 'block' : 'none';\n",
              "\n",
              "      async function convertToInteractive(key) {\n",
              "        const element = document.querySelector('#df-bdf611c8-fae6-4be1-8d3c-51562245e781');\n",
              "        const dataTable =\n",
              "          await google.colab.kernel.invokeFunction('convertToInteractive',\n",
              "                                                    [key], {});\n",
              "        if (!dataTable) return;\n",
              "\n",
              "        const docLinkHtml = 'Like what you see? Visit the ' +\n",
              "          '<a target=\"_blank\" href=https://colab.research.google.com/notebooks/data_table.ipynb>data table notebook</a>'\n",
              "          + ' to learn more about interactive tables.';\n",
              "        element.innerHTML = '';\n",
              "        dataTable['output_type'] = 'display_data';\n",
              "        await google.colab.output.renderOutput(dataTable, element);\n",
              "        const docLink = document.createElement('div');\n",
              "        docLink.innerHTML = docLinkHtml;\n",
              "        element.appendChild(docLink);\n",
              "      }\n",
              "    </script>\n",
              "  </div>\n",
              "\n",
              "\n",
              "<div id=\"df-661ebf4b-a057-474b-bf6b-469ef16be8ea\">\n",
              "  <button class=\"colab-df-quickchart\" onclick=\"quickchart('df-661ebf4b-a057-474b-bf6b-469ef16be8ea')\"\n",
              "            title=\"Suggest charts.\"\n",
              "            style=\"display:none;\">\n",
              "\n",
              "<svg xmlns=\"http://www.w3.org/2000/svg\" height=\"24px\"viewBox=\"0 0 24 24\"\n",
              "     width=\"24px\">\n",
              "    <g>\n",
              "        <path d=\"M19 3H5c-1.1 0-2 .9-2 2v14c0 1.1.9 2 2 2h14c1.1 0 2-.9 2-2V5c0-1.1-.9-2-2-2zM9 17H7v-7h2v7zm4 0h-2V7h2v10zm4 0h-2v-4h2v4z\"/>\n",
              "    </g>\n",
              "</svg>\n",
              "  </button>\n",
              "\n",
              "<style>\n",
              "  .colab-df-quickchart {\n",
              "      --bg-color: #E8F0FE;\n",
              "      --fill-color: #1967D2;\n",
              "      --hover-bg-color: #E2EBFA;\n",
              "      --hover-fill-color: #174EA6;\n",
              "      --disabled-fill-color: #AAA;\n",
              "      --disabled-bg-color: #DDD;\n",
              "  }\n",
              "\n",
              "  [theme=dark] .colab-df-quickchart {\n",
              "      --bg-color: #3B4455;\n",
              "      --fill-color: #D2E3FC;\n",
              "      --hover-bg-color: #434B5C;\n",
              "      --hover-fill-color: #FFFFFF;\n",
              "      --disabled-bg-color: #3B4455;\n",
              "      --disabled-fill-color: #666;\n",
              "  }\n",
              "\n",
              "  .colab-df-quickchart {\n",
              "    background-color: var(--bg-color);\n",
              "    border: none;\n",
              "    border-radius: 50%;\n",
              "    cursor: pointer;\n",
              "    display: none;\n",
              "    fill: var(--fill-color);\n",
              "    height: 32px;\n",
              "    padding: 0;\n",
              "    width: 32px;\n",
              "  }\n",
              "\n",
              "  .colab-df-quickchart:hover {\n",
              "    background-color: var(--hover-bg-color);\n",
              "    box-shadow: 0 1px 2px rgba(60, 64, 67, 0.3), 0 1px 3px 1px rgba(60, 64, 67, 0.15);\n",
              "    fill: var(--button-hover-fill-color);\n",
              "  }\n",
              "\n",
              "  .colab-df-quickchart-complete:disabled,\n",
              "  .colab-df-quickchart-complete:disabled:hover {\n",
              "    background-color: var(--disabled-bg-color);\n",
              "    fill: var(--disabled-fill-color);\n",
              "    box-shadow: none;\n",
              "  }\n",
              "\n",
              "  .colab-df-spinner {\n",
              "    border: 2px solid var(--fill-color);\n",
              "    border-color: transparent;\n",
              "    border-bottom-color: var(--fill-color);\n",
              "    animation:\n",
              "      spin 1s steps(1) infinite;\n",
              "  }\n",
              "\n",
              "  @keyframes spin {\n",
              "    0% {\n",
              "      border-color: transparent;\n",
              "      border-bottom-color: var(--fill-color);\n",
              "      border-left-color: var(--fill-color);\n",
              "    }\n",
              "    20% {\n",
              "      border-color: transparent;\n",
              "      border-left-color: var(--fill-color);\n",
              "      border-top-color: var(--fill-color);\n",
              "    }\n",
              "    30% {\n",
              "      border-color: transparent;\n",
              "      border-left-color: var(--fill-color);\n",
              "      border-top-color: var(--fill-color);\n",
              "      border-right-color: var(--fill-color);\n",
              "    }\n",
              "    40% {\n",
              "      border-color: transparent;\n",
              "      border-right-color: var(--fill-color);\n",
              "      border-top-color: var(--fill-color);\n",
              "    }\n",
              "    60% {\n",
              "      border-color: transparent;\n",
              "      border-right-color: var(--fill-color);\n",
              "    }\n",
              "    80% {\n",
              "      border-color: transparent;\n",
              "      border-right-color: var(--fill-color);\n",
              "      border-bottom-color: var(--fill-color);\n",
              "    }\n",
              "    90% {\n",
              "      border-color: transparent;\n",
              "      border-bottom-color: var(--fill-color);\n",
              "    }\n",
              "  }\n",
              "</style>\n",
              "\n",
              "  <script>\n",
              "    async function quickchart(key) {\n",
              "      const quickchartButtonEl =\n",
              "        document.querySelector('#' + key + ' button');\n",
              "      quickchartButtonEl.disabled = true;  // To prevent multiple clicks.\n",
              "      quickchartButtonEl.classList.add('colab-df-spinner');\n",
              "      try {\n",
              "        const charts = await google.colab.kernel.invokeFunction(\n",
              "            'suggestCharts', [key], {});\n",
              "      } catch (error) {\n",
              "        console.error('Error during call to suggestCharts:', error);\n",
              "      }\n",
              "      quickchartButtonEl.classList.remove('colab-df-spinner');\n",
              "      quickchartButtonEl.classList.add('colab-df-quickchart-complete');\n",
              "    }\n",
              "    (() => {\n",
              "      let quickchartButtonEl =\n",
              "        document.querySelector('#df-661ebf4b-a057-474b-bf6b-469ef16be8ea button');\n",
              "      quickchartButtonEl.style.display =\n",
              "        google.colab.kernel.accessAllowed ? 'block' : 'none';\n",
              "    })();\n",
              "  </script>\n",
              "</div>\n",
              "    </div>\n",
              "  </div>\n"
            ]
          },
          "metadata": {},
          "execution_count": 39
        }
      ]
    },
    {
      "cell_type": "code",
      "source": [
        "# Calculate X^T*X\n",
        "XTX = np.dot(X_small.T, X_small)\n",
        "\n",
        "# Create a DataFrame for better visualization\n",
        "df_xtx = pd.DataFrame(XTX, columns=X_small.columns, index=X_small.columns)\n",
        "\n",
        "df_xtx"
      ],
      "metadata": {
        "colab": {
          "base_uri": "https://localhost:8080/",
          "height": 175
        },
        "id": "yRwrbzKSTbWg",
        "outputId": "e0f51814-3d19-426e-f5ed-6a955b6040f1"
      },
      "execution_count": null,
      "outputs": [
        {
          "output_type": "execute_result",
          "data": {
            "text/plain": [
              "                      Rainfall  Crop_Type_Wheat  Soil_Type_Loamy  \\\n",
              "Rainfall         205915.172643       825.757614      1025.069612   \n",
              "Crop_Type_Wheat     825.757614         6.000000         3.000000   \n",
              "Soil_Type_Loamy    1025.069612         3.000000         7.000000   \n",
              "Soil_Type_Sandy     272.986622         2.000000         0.000000   \n",
              "\n",
              "                 Soil_Type_Sandy  \n",
              "Rainfall              272.986622  \n",
              "Crop_Type_Wheat         2.000000  \n",
              "Soil_Type_Loamy         0.000000  \n",
              "Soil_Type_Sandy         2.000000  "
            ],
            "text/html": [
              "\n",
              "  <div id=\"df-c4d6f267-e446-4171-96bc-ed992987c58f\" class=\"colab-df-container\">\n",
              "    <div>\n",
              "<style scoped>\n",
              "    .dataframe tbody tr th:only-of-type {\n",
              "        vertical-align: middle;\n",
              "    }\n",
              "\n",
              "    .dataframe tbody tr th {\n",
              "        vertical-align: top;\n",
              "    }\n",
              "\n",
              "    .dataframe thead th {\n",
              "        text-align: right;\n",
              "    }\n",
              "</style>\n",
              "<table border=\"1\" class=\"dataframe\">\n",
              "  <thead>\n",
              "    <tr style=\"text-align: right;\">\n",
              "      <th></th>\n",
              "      <th>Rainfall</th>\n",
              "      <th>Crop_Type_Wheat</th>\n",
              "      <th>Soil_Type_Loamy</th>\n",
              "      <th>Soil_Type_Sandy</th>\n",
              "    </tr>\n",
              "  </thead>\n",
              "  <tbody>\n",
              "    <tr>\n",
              "      <th>Rainfall</th>\n",
              "      <td>205915.172643</td>\n",
              "      <td>825.757614</td>\n",
              "      <td>1025.069612</td>\n",
              "      <td>272.986622</td>\n",
              "    </tr>\n",
              "    <tr>\n",
              "      <th>Crop_Type_Wheat</th>\n",
              "      <td>825.757614</td>\n",
              "      <td>6.000000</td>\n",
              "      <td>3.000000</td>\n",
              "      <td>2.000000</td>\n",
              "    </tr>\n",
              "    <tr>\n",
              "      <th>Soil_Type_Loamy</th>\n",
              "      <td>1025.069612</td>\n",
              "      <td>3.000000</td>\n",
              "      <td>7.000000</td>\n",
              "      <td>0.000000</td>\n",
              "    </tr>\n",
              "    <tr>\n",
              "      <th>Soil_Type_Sandy</th>\n",
              "      <td>272.986622</td>\n",
              "      <td>2.000000</td>\n",
              "      <td>0.000000</td>\n",
              "      <td>2.000000</td>\n",
              "    </tr>\n",
              "  </tbody>\n",
              "</table>\n",
              "</div>\n",
              "    <div class=\"colab-df-buttons\">\n",
              "\n",
              "  <div class=\"colab-df-container\">\n",
              "    <button class=\"colab-df-convert\" onclick=\"convertToInteractive('df-c4d6f267-e446-4171-96bc-ed992987c58f')\"\n",
              "            title=\"Convert this dataframe to an interactive table.\"\n",
              "            style=\"display:none;\">\n",
              "\n",
              "  <svg xmlns=\"http://www.w3.org/2000/svg\" height=\"24px\" viewBox=\"0 -960 960 960\">\n",
              "    <path d=\"M120-120v-720h720v720H120Zm60-500h600v-160H180v160Zm220 220h160v-160H400v160Zm0 220h160v-160H400v160ZM180-400h160v-160H180v160Zm440 0h160v-160H620v160ZM180-180h160v-160H180v160Zm440 0h160v-160H620v160Z\"/>\n",
              "  </svg>\n",
              "    </button>\n",
              "\n",
              "  <style>\n",
              "    .colab-df-container {\n",
              "      display:flex;\n",
              "      gap: 12px;\n",
              "    }\n",
              "\n",
              "    .colab-df-convert {\n",
              "      background-color: #E8F0FE;\n",
              "      border: none;\n",
              "      border-radius: 50%;\n",
              "      cursor: pointer;\n",
              "      display: none;\n",
              "      fill: #1967D2;\n",
              "      height: 32px;\n",
              "      padding: 0 0 0 0;\n",
              "      width: 32px;\n",
              "    }\n",
              "\n",
              "    .colab-df-convert:hover {\n",
              "      background-color: #E2EBFA;\n",
              "      box-shadow: 0px 1px 2px rgba(60, 64, 67, 0.3), 0px 1px 3px 1px rgba(60, 64, 67, 0.15);\n",
              "      fill: #174EA6;\n",
              "    }\n",
              "\n",
              "    .colab-df-buttons div {\n",
              "      margin-bottom: 4px;\n",
              "    }\n",
              "\n",
              "    [theme=dark] .colab-df-convert {\n",
              "      background-color: #3B4455;\n",
              "      fill: #D2E3FC;\n",
              "    }\n",
              "\n",
              "    [theme=dark] .colab-df-convert:hover {\n",
              "      background-color: #434B5C;\n",
              "      box-shadow: 0px 1px 3px 1px rgba(0, 0, 0, 0.15);\n",
              "      filter: drop-shadow(0px 1px 2px rgba(0, 0, 0, 0.3));\n",
              "      fill: #FFFFFF;\n",
              "    }\n",
              "  </style>\n",
              "\n",
              "    <script>\n",
              "      const buttonEl =\n",
              "        document.querySelector('#df-c4d6f267-e446-4171-96bc-ed992987c58f button.colab-df-convert');\n",
              "      buttonEl.style.display =\n",
              "        google.colab.kernel.accessAllowed ? 'block' : 'none';\n",
              "\n",
              "      async function convertToInteractive(key) {\n",
              "        const element = document.querySelector('#df-c4d6f267-e446-4171-96bc-ed992987c58f');\n",
              "        const dataTable =\n",
              "          await google.colab.kernel.invokeFunction('convertToInteractive',\n",
              "                                                    [key], {});\n",
              "        if (!dataTable) return;\n",
              "\n",
              "        const docLinkHtml = 'Like what you see? Visit the ' +\n",
              "          '<a target=\"_blank\" href=https://colab.research.google.com/notebooks/data_table.ipynb>data table notebook</a>'\n",
              "          + ' to learn more about interactive tables.';\n",
              "        element.innerHTML = '';\n",
              "        dataTable['output_type'] = 'display_data';\n",
              "        await google.colab.output.renderOutput(dataTable, element);\n",
              "        const docLink = document.createElement('div');\n",
              "        docLink.innerHTML = docLinkHtml;\n",
              "        element.appendChild(docLink);\n",
              "      }\n",
              "    </script>\n",
              "  </div>\n",
              "\n",
              "\n",
              "<div id=\"df-6e7f99ae-6c0a-4f60-9edb-b1589c7b7914\">\n",
              "  <button class=\"colab-df-quickchart\" onclick=\"quickchart('df-6e7f99ae-6c0a-4f60-9edb-b1589c7b7914')\"\n",
              "            title=\"Suggest charts.\"\n",
              "            style=\"display:none;\">\n",
              "\n",
              "<svg xmlns=\"http://www.w3.org/2000/svg\" height=\"24px\"viewBox=\"0 0 24 24\"\n",
              "     width=\"24px\">\n",
              "    <g>\n",
              "        <path d=\"M19 3H5c-1.1 0-2 .9-2 2v14c0 1.1.9 2 2 2h14c1.1 0 2-.9 2-2V5c0-1.1-.9-2-2-2zM9 17H7v-7h2v7zm4 0h-2V7h2v10zm4 0h-2v-4h2v4z\"/>\n",
              "    </g>\n",
              "</svg>\n",
              "  </button>\n",
              "\n",
              "<style>\n",
              "  .colab-df-quickchart {\n",
              "      --bg-color: #E8F0FE;\n",
              "      --fill-color: #1967D2;\n",
              "      --hover-bg-color: #E2EBFA;\n",
              "      --hover-fill-color: #174EA6;\n",
              "      --disabled-fill-color: #AAA;\n",
              "      --disabled-bg-color: #DDD;\n",
              "  }\n",
              "\n",
              "  [theme=dark] .colab-df-quickchart {\n",
              "      --bg-color: #3B4455;\n",
              "      --fill-color: #D2E3FC;\n",
              "      --hover-bg-color: #434B5C;\n",
              "      --hover-fill-color: #FFFFFF;\n",
              "      --disabled-bg-color: #3B4455;\n",
              "      --disabled-fill-color: #666;\n",
              "  }\n",
              "\n",
              "  .colab-df-quickchart {\n",
              "    background-color: var(--bg-color);\n",
              "    border: none;\n",
              "    border-radius: 50%;\n",
              "    cursor: pointer;\n",
              "    display: none;\n",
              "    fill: var(--fill-color);\n",
              "    height: 32px;\n",
              "    padding: 0;\n",
              "    width: 32px;\n",
              "  }\n",
              "\n",
              "  .colab-df-quickchart:hover {\n",
              "    background-color: var(--hover-bg-color);\n",
              "    box-shadow: 0 1px 2px rgba(60, 64, 67, 0.3), 0 1px 3px 1px rgba(60, 64, 67, 0.15);\n",
              "    fill: var(--button-hover-fill-color);\n",
              "  }\n",
              "\n",
              "  .colab-df-quickchart-complete:disabled,\n",
              "  .colab-df-quickchart-complete:disabled:hover {\n",
              "    background-color: var(--disabled-bg-color);\n",
              "    fill: var(--disabled-fill-color);\n",
              "    box-shadow: none;\n",
              "  }\n",
              "\n",
              "  .colab-df-spinner {\n",
              "    border: 2px solid var(--fill-color);\n",
              "    border-color: transparent;\n",
              "    border-bottom-color: var(--fill-color);\n",
              "    animation:\n",
              "      spin 1s steps(1) infinite;\n",
              "  }\n",
              "\n",
              "  @keyframes spin {\n",
              "    0% {\n",
              "      border-color: transparent;\n",
              "      border-bottom-color: var(--fill-color);\n",
              "      border-left-color: var(--fill-color);\n",
              "    }\n",
              "    20% {\n",
              "      border-color: transparent;\n",
              "      border-left-color: var(--fill-color);\n",
              "      border-top-color: var(--fill-color);\n",
              "    }\n",
              "    30% {\n",
              "      border-color: transparent;\n",
              "      border-left-color: var(--fill-color);\n",
              "      border-top-color: var(--fill-color);\n",
              "      border-right-color: var(--fill-color);\n",
              "    }\n",
              "    40% {\n",
              "      border-color: transparent;\n",
              "      border-right-color: var(--fill-color);\n",
              "      border-top-color: var(--fill-color);\n",
              "    }\n",
              "    60% {\n",
              "      border-color: transparent;\n",
              "      border-right-color: var(--fill-color);\n",
              "    }\n",
              "    80% {\n",
              "      border-color: transparent;\n",
              "      border-right-color: var(--fill-color);\n",
              "      border-bottom-color: var(--fill-color);\n",
              "    }\n",
              "    90% {\n",
              "      border-color: transparent;\n",
              "      border-bottom-color: var(--fill-color);\n",
              "    }\n",
              "  }\n",
              "</style>\n",
              "\n",
              "  <script>\n",
              "    async function quickchart(key) {\n",
              "      const quickchartButtonEl =\n",
              "        document.querySelector('#' + key + ' button');\n",
              "      quickchartButtonEl.disabled = true;  // To prevent multiple clicks.\n",
              "      quickchartButtonEl.classList.add('colab-df-spinner');\n",
              "      try {\n",
              "        const charts = await google.colab.kernel.invokeFunction(\n",
              "            'suggestCharts', [key], {});\n",
              "      } catch (error) {\n",
              "        console.error('Error during call to suggestCharts:', error);\n",
              "      }\n",
              "      quickchartButtonEl.classList.remove('colab-df-spinner');\n",
              "      quickchartButtonEl.classList.add('colab-df-quickchart-complete');\n",
              "    }\n",
              "    (() => {\n",
              "      let quickchartButtonEl =\n",
              "        document.querySelector('#df-6e7f99ae-6c0a-4f60-9edb-b1589c7b7914 button');\n",
              "      quickchartButtonEl.style.display =\n",
              "        google.colab.kernel.accessAllowed ? 'block' : 'none';\n",
              "    })();\n",
              "  </script>\n",
              "</div>\n",
              "    </div>\n",
              "  </div>\n"
            ]
          },
          "metadata": {},
          "execution_count": 40
        }
      ]
    },
    {
      "cell_type": "markdown",
      "source": [
        "# 4. Linear Mixed-Effects model"
      ],
      "metadata": {
        "id": "5lHju9l-cU3y"
      }
    },
    {
      "cell_type": "markdown",
      "source": [
        "Linear mixed effects models have been widely used in\n",
        "analysis of data where responses are clustered around\n",
        "some random effects, such that there is a natural\n",
        "dependence between observations in the same cluster.\n",
        "For example, consider repeated measurements taken on\n",
        "each subject in longitudinal data, or observations taken\n",
        "on members of the same family in a genetic study."
      ],
      "metadata": {
        "id": "4jie0NaJzSaY"
      }
    },
    {
      "cell_type": "markdown",
      "source": [
        "### 4.1 Model equation"
      ],
      "metadata": {
        "id": "KfxOkVwLh6tU"
      }
    },
    {
      "cell_type": "markdown",
      "source": [
        "The linear mixed-effects model is represented as:\n",
        "$$ \\mathbf{y} = \\mathbf{X} \\boldsymbol{\\beta} + \\mathbf{Z} \\mathbf{u} + \\mathbf{e} $$\n",
        "\n",
        "Where:\n",
        "- $\\mathbf{X}$ is an $n \\times p$ matrix of known constants (i.e., known incidence matrices).\n",
        "- $\\boldsymbol{\\beta}$ is an unknown parameter vector.\n",
        "- $\\mathbf{Z}$ is an $n \\times q$ matrix of known constants (i.e., known incidence matrices).\n",
        "- $\\mathbf{u}$ is a $q \\times 1$ random vector.\n",
        "- $\\mathbf{e}$ is an $n \\times 1$ vector of random errors.\n",
        "\n"
      ],
      "metadata": {
        "id": "byCzmqMPLzgb"
      }
    },
    {
      "cell_type": "markdown",
      "source": [
        "\n",
        "- The elements of $\\boldsymbol{\\beta}$ are considered to be non-random and are called **fixed effects**.\n",
        "- The elements of $\\mathbf{u}$ are random variables and are called **random effects**.\n",
        "- The elements of the error vector $\\mathbf{e}$ are always considered to be random variables."
      ],
      "metadata": {
        "id": "LU0yTWQfaOVS"
      }
    },
    {
      "cell_type": "markdown",
      "source": [
        "The model includes both fixed and random effects, in addition to the random errors. Therefore, it is called a **mixed-effects model** or, more simply, a **mixed model**.\n",
        "It is termed a **linear mixed-effects model** because the expectation of $\\mathbf{y}$ given $\\mathbf{u}$ is a linear function of fixed and random effects:\n",
        "$$ E(\\mathbf{y}|\\mathbf{u}) = \\mathbf{X} \\boldsymbol{\\beta} + \\mathbf{Z}\\mathbf{u} $$"
      ],
      "metadata": {
        "id": "l4-6ah_xaOXS"
      }
    },
    {
      "cell_type": "markdown",
      "source": [
        "Inferences regarding mixed effects models\n",
        "refer to the estimation of fixed effects, the\n",
        "prediction of random effects, and the\n",
        "estimation of variance and covariance\n",
        "components."
      ],
      "metadata": {
        "id": "5qWtjbwSz5c7"
      }
    },
    {
      "cell_type": "markdown",
      "source": [
        "### 4.2 Model assumptions\n"
      ],
      "metadata": {
        "id": "lJGwB4CJaOm8"
      }
    },
    {
      "cell_type": "markdown",
      "source": [
        "* $ E(\\mathbf{e}) = \\mathbf{0} $\n",
        "* $ Var(\\mathbf{e}) = \\mathbf{R} $, we typicall assume $\\mathbf{R}=\\sigma^2_e\\mathbf{I}$\n",
        "* $ E(\\mathbf{u}) = \\mathbf{0} $\n",
        "* $ Var(\\mathbf{u}) = \\mathbf{G} $\n",
        "* $ Cov(\\mathbf{e}, \\mathbf{u}) = \\mathbf{0} $\n"
      ],
      "metadata": {
        "id": "pEzuBafBm8_g"
      }
    },
    {
      "cell_type": "markdown",
      "source": [
        "### 4.3 Properties of  $\\mathbf{y}$"
      ],
      "metadata": {
        "id": "bvVe7K3VaOoy"
      }
    },
    {
      "cell_type": "markdown",
      "source": [
        "The expectation and variance of $\\mathbf{y}$ are given by:\n",
        "$$ E(\\mathbf{y})\n",
        "= E(\\mathbf{X}\\boldsymbol{\\beta} + \\mathbf{Z}\\mathbf{u} + \\mathbf{e}) \\\\\n",
        "= \\mathbf{X}\\boldsymbol{\\beta} + \\mathbf{Z} E(\\mathbf{u}) + E(\\mathbf{e}) \\\\\n",
        "= \\mathbf{X}\\boldsymbol{\\beta} $$\n",
        "\n",
        "and\n",
        "\n",
        "$$ Var(\\mathbf{y}) = Var(\\mathbf{X}\\boldsymbol{\\beta} + \\mathbf{Z}\\mathbf{u} + \\mathbf{e}) \\\\\n",
        "= Var(\\mathbf{Z}\\mathbf{u} + \\mathbf{e}) \\\\\n",
        "= \\mathbf{Z} Var(\\mathbf{u}) \\mathbf{Z}^T + \\mathbf{R} \\\\\n",
        "= \\mathbf{Z} \\mathbf{G} \\mathbf{Z}^T + \\mathbf{R} \\\\\n",
        "= \\mathbf{V}$$\n"
      ],
      "metadata": {
        "id": "eXuLRnFgaOq8"
      }
    },
    {
      "cell_type": "markdown",
      "source": [
        "We usually assume that:\n",
        "$$ \\begin{bmatrix} \\mathbf{u} \\\\ \\mathbf{e} \\end{bmatrix} \\sim N \\left( \\begin{bmatrix} \\mathbf{0} \\\\ \\mathbf{0} \\end{bmatrix}, \\begin{bmatrix} \\mathbf{G} & \\mathbf{0} \\\\ \\mathbf{0} & \\mathbf{R} \\end{bmatrix} \\right) $$\n",
        "\n",
        "Thus,\n",
        "$$ \\mathbf{y} \\sim N(\\mathbf{X} \\boldsymbol{\\beta}, \\mathbf{Z} \\mathbf{G} \\mathbf{Z}^T + \\mathbf{R} ) $$"
      ],
      "metadata": {
        "id": "JFrL-5GaaOvR"
      }
    },
    {
      "cell_type": "markdown",
      "source": [
        "### 4.4 Properties of $\\mathbf{y}|\\mathbf{u}$"
      ],
      "metadata": {
        "id": "UNYuGjZSYVT0"
      }
    },
    {
      "cell_type": "markdown",
      "source": [
        "The conditional mean and variance, given the random effects, are:\n",
        "$$ E(\\mathbf{y}|\\mathbf{u}) = \\mathbf{X} \\boldsymbol{\\beta} + \\mathbf{Z}\\mathbf{u} $$\n",
        "$$ Var(\\mathbf{y}|\\mathbf{u}) = \\mathbf{R} $$\n"
      ],
      "metadata": {
        "id": "7KDEinbkYVWC"
      }
    },
    {
      "cell_type": "markdown",
      "source": [
        "### 4.5 Mixed Model Equations"
      ],
      "metadata": {
        "id": "6RTGpSfJYVYV"
      }
    },
    {
      "cell_type": "markdown",
      "source": [
        "Henderson (1950) presented the mixed model equations (MME) to estimate $\\boldsymbol{\\beta}$ and $\\mathbf{u}$ simultaneously, without the need for computing $\\mathbf{V}$:"
      ],
      "metadata": {
        "id": "WYIQ2wY-Lzia"
      }
    },
    {
      "cell_type": "markdown",
      "source": [
        "$$ \\begin{bmatrix} \\mathbf{X}^T \\mathbf{R}^{-1}\\mathbf{X} & \\mathbf{X}^T\\mathbf{R}^{-1}\\mathbf{Z} \\\\ \\mathbf{Z}^T\\mathbf{R}^{-1}\\mathbf{X} & \\mathbf{Z}^T\\mathbf{R}^{-1}\\mathbf{Z} + \\mathbf{G}^{-1} \\end{bmatrix} \\begin{bmatrix} \\boldsymbol{\\hat{\\beta}} \\\\ \\mathbf{\\hat{u}} \\end{bmatrix} = \\begin{bmatrix} \\mathbf{X}^T\\mathbf{R}^{-1}\\mathbf{y} \\\\ \\mathbf{Z}^T\\mathbf{R}^{-1}\\mathbf{y} \\end{bmatrix} $$\n"
      ],
      "metadata": {
        "id": "13BPgayaLzkI"
      }
    },
    {
      "cell_type": "markdown",
      "source": [
        "It can be shown that $\\mathbf{\\hat{u}}$ is the best linear unbiased predictor (BLUP) of $\\mathbf{u}$, and $\\boldsymbol{\\hat{\\beta}}$ is the best\n",
        "linear unbiased estimator (BLUE) of $\\boldsymbol{\\beta}$."
      ],
      "metadata": {
        "id": "1FPklAlCbok_"
      }
    },
    {
      "cell_type": "markdown",
      "source": [
        "### 4.6 Mixed Model Equations for Animal Model"
      ],
      "metadata": {
        "id": "zQsFwILhtVnv"
      }
    },
    {
      "cell_type": "markdown",
      "source": [
        "Animal/plant breeding programs are based on the\n",
        "principle that phenotypic observations on related\n",
        "individuals can provide information about their\n",
        "underlying genotypic values. The additive component of genetic variation primarily determines the degree to which offspring resemble their parents and is usually the component of interest in artificial selection programs."
      ],
      "metadata": {
        "id": "9mZ8o4WBtVrw"
      }
    },
    {
      "cell_type": "markdown",
      "source": [
        "In animal model,\n",
        "$$ \\mathbf{y} = \\mathbf{X} \\boldsymbol{\\beta} + \\mathbf{Z} \\mathbf{u} + \\mathbf{e} $$\n",
        "\n",
        "\n",
        "- $\\mathbf{u} \\sim N(\\mathbf{0}, \\mathbf{A}\\sigma^2_a)$ is a $q \\times 1$ random vector of breeding values. $\\mathbf{A}$ is the additive genetic (or numerator) relationship matrix. Note that it includes all individuals in the pedigree such that $q$ is in general bigger than $n$. $\\sigma^2_a$ is the additive genetic variance in the base population.\n",
        "- $\\mathbf{e} \\sim N(\\mathbf{0},\\mathbf{I} \\sigma^2_e)$ is an $n \\times 1$ vector of random errors. $\\sigma^2_e$ is the residual variance.\n",
        "\n"
      ],
      "metadata": {
        "id": "eXCpzvyTua9K"
      }
    },
    {
      "cell_type": "markdown",
      "source": [
        "Thus, the MME can be simplifed as:"
      ],
      "metadata": {
        "id": "vQT6MPMSua-2"
      }
    },
    {
      "cell_type": "markdown",
      "source": [
        "$$ \\begin{bmatrix} \\mathbf{X}^T \\mathbf{X} & \\mathbf{X}^T\\mathbf{Z} \\\\ \\mathbf{Z}^T\\mathbf{X} & \\mathbf{Z}^T\\mathbf{Z} + \\mathbf{A}^{-1} \\lambda \\end{bmatrix} \\begin{bmatrix} \\boldsymbol{\\hat{\\beta}} \\\\ \\mathbf{\\hat{u}} \\end{bmatrix} = \\begin{bmatrix} \\mathbf{X}^T\\mathbf{y} \\\\ \\mathbf{Z}^T\\mathbf{y} \\end{bmatrix} $$\n"
      ],
      "metadata": {
        "id": "8fz_oyZSubAv"
      }
    },
    {
      "cell_type": "markdown",
      "source": [
        "where $\\lambda=\\frac{\\sigma^2_e}{\\sigma^2_a}$. $\\mathbf{\\hat{u}}$ is the estimated breeding values."
      ],
      "metadata": {
        "id": "jOZROiZrubCZ"
      }
    },
    {
      "cell_type": "markdown",
      "source": [
        "* Animal Model in lmmonboard: https://lmmonboard.ucdavis.edu/myapp"
      ],
      "metadata": {
        "id": "0pR-3fclygpS"
      }
    },
    {
      "cell_type": "markdown",
      "source": [
        "## 4.7 Example"
      ],
      "metadata": {
        "id": "Gkme7JclyWwd"
      }
    },
    {
      "cell_type": "markdown",
      "source": [
        "\"Experimental Unit: the physical entity to which a treatment is randomly assigned and independently applied.\"\n",
        "\n",
        "\"Observational Unit: the unit on which a response variable is measured. There is often a one-to- one correspondence between experimental units and observational units, but that is not always true.\"\n",
        "\n",
        "In the example below, plots were the experimental units because fertilizers were randomly assigned to plots. Plots were the observational units because the response was measured separately for each plot.\n",
        "\n",
        "\"Whenever there is more than one observational unit for an experimental unit or whenever the response is measured multiple times for an experimental unit, we say we have \"multiple observations per experiment unit.\"\n",
        "\n",
        "Whenever an experiment involves multiple observations per experimental unit, it is important to include a random effect for each experimental unit. Including random effects in a model is one way to account for a lack of independence among observations that might be expected based on the design of experiment.\n",
        "\n",
        "In short, the random effects specify the correlation structure in the data.  A practical approach to determine the necessity of including a random effect is to  contemplate how the experimental design might be altered in the absence of this random effect."
      ],
      "metadata": {
        "id": "4cuusY2heb77"
      }
    },
    {
      "cell_type": "markdown",
      "source": [
        "### Loading data\n"
      ],
      "metadata": {
        "id": "eSWNTesT8zQz"
      }
    },
    {
      "cell_type": "markdown",
      "source": [
        " Blocked design: The experimental units are divided into groups or blocks. Each block consists of units that are more homogeneous or similar in some way. The idea is to control for variability within blocks so that it doesn’t confound the effects of the treatments."
      ],
      "metadata": {
        "id": "7bfb9E1xS3pS"
      }
    },
    {
      "cell_type": "markdown",
      "source": [
        "![exp_design2.png](data:image/png;base64,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)"
      ],
      "metadata": {
        "id": "DqEBQoayF0-T"
      }
    },
    {
      "cell_type": "markdown",
      "source": [
        "* fixed effect: Fertilizer (A/B)\n",
        "* random effect: Field (1-10)"
      ],
      "metadata": {
        "id": "E0UO-FnW84Qh"
      }
    },
    {
      "cell_type": "code",
      "source": [
        "import statsmodels.api as sm\n",
        "import statsmodels.formula.api as smf\n",
        "import pandas as pd\n",
        "import numpy as np\n",
        "\n",
        "# Set seed for reproducibility\n",
        "np.random.seed(42)\n",
        "\n",
        "# Define the number of fields, plots per field, and the total number of observations\n",
        "n_fields = 5\n",
        "n_plots = 10 #plots per filed\n",
        "n = n_fields * n_plots  # 50 observations\n",
        "\n",
        "# Generate data\n",
        "fields = np.repeat(range(1, n_fields + 1), n_plots) #1,1,1,...,5,5,5\n",
        "plots = np.tile(range(1, n_plots + 1), n_fields) #1,..,10, 1,..,10, ..., 1..,10\n",
        "fertilizers = np.array([])\n",
        "for _ in range(n_fields):\n",
        "    temp = np.array(['A'] * (n_plots // 2) + ['B'] * (n_plots // 2))\n",
        "    np.random.shuffle(temp)\n",
        "    fertilizers = np.concatenate((fertilizers, temp)) # e.g, A,A,B,A,B,B,...\n",
        "\n",
        "# Simulate yield as a function of fixed Fertilizer effect and random Field effect with some noise\n",
        "base_yield = 50\n",
        "effect_A = 3.67  # Effect of Fertilizer A\n",
        "random_field_effect_each_plot=np.random.normal(0, 2, n_fields)\n",
        "random_field_effect = np.repeat(random_field_effect_each_plot, n_plots)  # Random effect per field, same values for same field\n",
        "noise = np.random.normal(0, 1, n)  # Random noise\n",
        "yield_data = base_yield + (fertilizers == 'A') * effect_A + random_field_effect + noise\n",
        "\n",
        "# Create a DataFrame\n",
        "df = pd.DataFrame({\n",
        "    'Field': fields,\n",
        "    'Plot': plots,\n",
        "    'Fertilizer': fertilizers,\n",
        "    'Yield': yield_data\n",
        "})\n",
        "df\n"
      ],
      "metadata": {
        "colab": {
          "base_uri": "https://localhost:8080/",
          "height": 1000
        },
        "id": "SG-OAUdX2I-V",
        "outputId": "aea66b43-2e64-4aec-dffd-201c00272f87"
      },
      "execution_count": null,
      "outputs": [
        {
          "output_type": "execute_result",
          "data": {
            "text/plain": [
              "    Field  Plot Fertilizer      Yield\n",
              "0       1     1          B  47.848657\n",
              "1       1     2          A  53.749982\n",
              "2       1     3          B  49.322873\n",
              "3       1     4          A  52.233281\n",
              "4       1     5          B  47.790984\n",
              "5       1     6          A  53.185867\n",
              "6       1     7          B  48.245301\n",
              "7       1     8          A  51.241815\n",
              "8       1     9          A  52.266638\n",
              "9       1    10          B  48.488289\n",
              "10      2     1          A  57.562200\n",
              "11      2     2          A  57.319257\n",
              "12      2     3          B  55.026435\n",
              "13      2     4          B  54.523941\n",
              "14      2     5          A  57.323914\n",
              "15      2     6          A  56.588356\n",
              "16      2     7          B  55.014168\n",
              "17      2     8          B  54.611075\n",
              "18      2     9          B  56.481553\n",
              "19      2    10          A  57.759029\n",
              "20      3     1          B  47.588332\n",
              "21      3     2          A  50.077377\n",
              "22      3     3          A  49.702484\n",
              "23      3     4          B  44.436603\n",
              "24      3     5          B  46.668063\n",
              "25      3     6          B  45.103141\n",
              "26      3     7          A  49.103235\n",
              "27      3     8          B  45.903024\n",
              "28      3     9          A  49.341260\n",
              "29      3    10          A  48.053494\n",
              "30      4     1          A  55.113216\n",
              "31      4     2          B  53.169432\n",
              "32      4     3          B  52.916615\n",
              "33      4     4          A  56.607287\n",
              "34      4     5          B  52.412449\n",
              "35      4     6          A  56.571132\n",
              "36      4     7          A  56.149969\n",
              "37      4     8          A  55.740642\n",
              "38      4     9          B  53.403616\n",
              "39      4    10          B  51.993100\n",
              "40      5     1          A  54.458717\n",
              "41      5     2          B  52.770558\n",
              "42      5     3          A  56.461882\n",
              "43      5     4          B  49.984230\n",
              "44      5     5          A  55.866338\n",
              "45      5     6          B  49.513962\n",
              "46      5     7          B  52.627866\n",
              "47      5     8          A  54.294622\n",
              "48      5     9          A  56.012593\n",
              "49      5    10          B  50.943510"
            ],
            "text/html": [
              "\n",
              "  <div id=\"df-672ef6cc-bc44-41e9-bec1-7a7b962da814\" class=\"colab-df-container\">\n",
              "    <div>\n",
              "<style scoped>\n",
              "    .dataframe tbody tr th:only-of-type {\n",
              "        vertical-align: middle;\n",
              "    }\n",
              "\n",
              "    .dataframe tbody tr th {\n",
              "        vertical-align: top;\n",
              "    }\n",
              "\n",
              "    .dataframe thead th {\n",
              "        text-align: right;\n",
              "    }\n",
              "</style>\n",
              "<table border=\"1\" class=\"dataframe\">\n",
              "  <thead>\n",
              "    <tr style=\"text-align: right;\">\n",
              "      <th></th>\n",
              "      <th>Field</th>\n",
              "      <th>Plot</th>\n",
              "      <th>Fertilizer</th>\n",
              "      <th>Yield</th>\n",
              "    </tr>\n",
              "  </thead>\n",
              "  <tbody>\n",
              "    <tr>\n",
              "      <th>0</th>\n",
              "      <td>1</td>\n",
              "      <td>1</td>\n",
              "      <td>B</td>\n",
              "      <td>47.848657</td>\n",
              "    </tr>\n",
              "    <tr>\n",
              "      <th>1</th>\n",
              "      <td>1</td>\n",
              "      <td>2</td>\n",
              "      <td>A</td>\n",
              "      <td>53.749982</td>\n",
              "    </tr>\n",
              "    <tr>\n",
              "      <th>2</th>\n",
              "      <td>1</td>\n",
              "      <td>3</td>\n",
              "      <td>B</td>\n",
              "      <td>49.322873</td>\n",
              "    </tr>\n",
              "    <tr>\n",
              "      <th>3</th>\n",
              "      <td>1</td>\n",
              "      <td>4</td>\n",
              "      <td>A</td>\n",
              "      <td>52.233281</td>\n",
              "    </tr>\n",
              "    <tr>\n",
              "      <th>4</th>\n",
              "      <td>1</td>\n",
              "      <td>5</td>\n",
              "      <td>B</td>\n",
              "      <td>47.790984</td>\n",
              "    </tr>\n",
              "    <tr>\n",
              "      <th>5</th>\n",
              "      <td>1</td>\n",
              "      <td>6</td>\n",
              "      <td>A</td>\n",
              "      <td>53.185867</td>\n",
              "    </tr>\n",
              "    <tr>\n",
              "      <th>6</th>\n",
              "      <td>1</td>\n",
              "      <td>7</td>\n",
              "      <td>B</td>\n",
              "      <td>48.245301</td>\n",
              "    </tr>\n",
              "    <tr>\n",
              "      <th>7</th>\n",
              "      <td>1</td>\n",
              "      <td>8</td>\n",
              "      <td>A</td>\n",
              "      <td>51.241815</td>\n",
              "    </tr>\n",
              "    <tr>\n",
              "      <th>8</th>\n",
              "      <td>1</td>\n",
              "      <td>9</td>\n",
              "      <td>A</td>\n",
              "      <td>52.266638</td>\n",
              "    </tr>\n",
              "    <tr>\n",
              "      <th>9</th>\n",
              "      <td>1</td>\n",
              "      <td>10</td>\n",
              "      <td>B</td>\n",
              "      <td>48.488289</td>\n",
              "    </tr>\n",
              "    <tr>\n",
              "      <th>10</th>\n",
              "      <td>2</td>\n",
              "      <td>1</td>\n",
              "      <td>A</td>\n",
              "      <td>57.562200</td>\n",
              "    </tr>\n",
              "    <tr>\n",
              "      <th>11</th>\n",
              "      <td>2</td>\n",
              "      <td>2</td>\n",
              "      <td>A</td>\n",
              "      <td>57.319257</td>\n",
              "    </tr>\n",
              "    <tr>\n",
              "      <th>12</th>\n",
              "      <td>2</td>\n",
              "      <td>3</td>\n",
              "      <td>B</td>\n",
              "      <td>55.026435</td>\n",
              "    </tr>\n",
              "    <tr>\n",
              "      <th>13</th>\n",
              "      <td>2</td>\n",
              "      <td>4</td>\n",
              "      <td>B</td>\n",
              "      <td>54.523941</td>\n",
              "    </tr>\n",
              "    <tr>\n",
              "      <th>14</th>\n",
              "      <td>2</td>\n",
              "      <td>5</td>\n",
              "      <td>A</td>\n",
              "      <td>57.323914</td>\n",
              "    </tr>\n",
              "    <tr>\n",
              "      <th>15</th>\n",
              "      <td>2</td>\n",
              "      <td>6</td>\n",
              "      <td>A</td>\n",
              "      <td>56.588356</td>\n",
              "    </tr>\n",
              "    <tr>\n",
              "      <th>16</th>\n",
              "      <td>2</td>\n",
              "      <td>7</td>\n",
              "      <td>B</td>\n",
              "      <td>55.014168</td>\n",
              "    </tr>\n",
              "    <tr>\n",
              "      <th>17</th>\n",
              "      <td>2</td>\n",
              "      <td>8</td>\n",
              "      <td>B</td>\n",
              "      <td>54.611075</td>\n",
              "    </tr>\n",
              "    <tr>\n",
              "      <th>18</th>\n",
              "      <td>2</td>\n",
              "      <td>9</td>\n",
              "      <td>B</td>\n",
              "      <td>56.481553</td>\n",
              "    </tr>\n",
              "    <tr>\n",
              "      <th>19</th>\n",
              "      <td>2</td>\n",
              "      <td>10</td>\n",
              "      <td>A</td>\n",
              "      <td>57.759029</td>\n",
              "    </tr>\n",
              "    <tr>\n",
              "      <th>20</th>\n",
              "      <td>3</td>\n",
              "      <td>1</td>\n",
              "      <td>B</td>\n",
              "      <td>47.588332</td>\n",
              "    </tr>\n",
              "    <tr>\n",
              "      <th>21</th>\n",
              "      <td>3</td>\n",
              "      <td>2</td>\n",
              "      <td>A</td>\n",
              "      <td>50.077377</td>\n",
              "    </tr>\n",
              "    <tr>\n",
              "      <th>22</th>\n",
              "      <td>3</td>\n",
              "      <td>3</td>\n",
              "      <td>A</td>\n",
              "      <td>49.702484</td>\n",
              "    </tr>\n",
              "    <tr>\n",
              "      <th>23</th>\n",
              "      <td>3</td>\n",
              "      <td>4</td>\n",
              "      <td>B</td>\n",
              "      <td>44.436603</td>\n",
              "    </tr>\n",
              "    <tr>\n",
              "      <th>24</th>\n",
              "      <td>3</td>\n",
              "      <td>5</td>\n",
              "      <td>B</td>\n",
              "      <td>46.668063</td>\n",
              "    </tr>\n",
              "    <tr>\n",
              "      <th>25</th>\n",
              "      <td>3</td>\n",
              "      <td>6</td>\n",
              "      <td>B</td>\n",
              "      <td>45.103141</td>\n",
              "    </tr>\n",
              "    <tr>\n",
              "      <th>26</th>\n",
              "      <td>3</td>\n",
              "      <td>7</td>\n",
              "      <td>A</td>\n",
              "      <td>49.103235</td>\n",
              "    </tr>\n",
              "    <tr>\n",
              "      <th>27</th>\n",
              "      <td>3</td>\n",
              "      <td>8</td>\n",
              "      <td>B</td>\n",
              "      <td>45.903024</td>\n",
              "    </tr>\n",
              "    <tr>\n",
              "      <th>28</th>\n",
              "      <td>3</td>\n",
              "      <td>9</td>\n",
              "      <td>A</td>\n",
              "      <td>49.341260</td>\n",
              "    </tr>\n",
              "    <tr>\n",
              "      <th>29</th>\n",
              "      <td>3</td>\n",
              "      <td>10</td>\n",
              "      <td>A</td>\n",
              "      <td>48.053494</td>\n",
              "    </tr>\n",
              "    <tr>\n",
              "      <th>30</th>\n",
              "      <td>4</td>\n",
              "      <td>1</td>\n",
              "      <td>A</td>\n",
              "      <td>55.113216</td>\n",
              "    </tr>\n",
              "    <tr>\n",
              "      <th>31</th>\n",
              "      <td>4</td>\n",
              "      <td>2</td>\n",
              "      <td>B</td>\n",
              "      <td>53.169432</td>\n",
              "    </tr>\n",
              "    <tr>\n",
              "      <th>32</th>\n",
              "      <td>4</td>\n",
              "      <td>3</td>\n",
              "      <td>B</td>\n",
              "      <td>52.916615</td>\n",
              "    </tr>\n",
              "    <tr>\n",
              "      <th>33</th>\n",
              "      <td>4</td>\n",
              "      <td>4</td>\n",
              "      <td>A</td>\n",
              "      <td>56.607287</td>\n",
              "    </tr>\n",
              "    <tr>\n",
              "      <th>34</th>\n",
              "      <td>4</td>\n",
              "      <td>5</td>\n",
              "      <td>B</td>\n",
              "      <td>52.412449</td>\n",
              "    </tr>\n",
              "    <tr>\n",
              "      <th>35</th>\n",
              "      <td>4</td>\n",
              "      <td>6</td>\n",
              "      <td>A</td>\n",
              "      <td>56.571132</td>\n",
              "    </tr>\n",
              "    <tr>\n",
              "      <th>36</th>\n",
              "      <td>4</td>\n",
              "      <td>7</td>\n",
              "      <td>A</td>\n",
              "      <td>56.149969</td>\n",
              "    </tr>\n",
              "    <tr>\n",
              "      <th>37</th>\n",
              "      <td>4</td>\n",
              "      <td>8</td>\n",
              "      <td>A</td>\n",
              "      <td>55.740642</td>\n",
              "    </tr>\n",
              "    <tr>\n",
              "      <th>38</th>\n",
              "      <td>4</td>\n",
              "      <td>9</td>\n",
              "      <td>B</td>\n",
              "      <td>53.403616</td>\n",
              "    </tr>\n",
              "    <tr>\n",
              "      <th>39</th>\n",
              "      <td>4</td>\n",
              "      <td>10</td>\n",
              "      <td>B</td>\n",
              "      <td>51.993100</td>\n",
              "    </tr>\n",
              "    <tr>\n",
              "      <th>40</th>\n",
              "      <td>5</td>\n",
              "      <td>1</td>\n",
              "      <td>A</td>\n",
              "      <td>54.458717</td>\n",
              "    </tr>\n",
              "    <tr>\n",
              "      <th>41</th>\n",
              "      <td>5</td>\n",
              "      <td>2</td>\n",
              "      <td>B</td>\n",
              "      <td>52.770558</td>\n",
              "    </tr>\n",
              "    <tr>\n",
              "      <th>42</th>\n",
              "      <td>5</td>\n",
              "      <td>3</td>\n",
              "      <td>A</td>\n",
              "      <td>56.461882</td>\n",
              "    </tr>\n",
              "    <tr>\n",
              "      <th>43</th>\n",
              "      <td>5</td>\n",
              "      <td>4</td>\n",
              "      <td>B</td>\n",
              "      <td>49.984230</td>\n",
              "    </tr>\n",
              "    <tr>\n",
              "      <th>44</th>\n",
              "      <td>5</td>\n",
              "      <td>5</td>\n",
              "      <td>A</td>\n",
              "      <td>55.866338</td>\n",
              "    </tr>\n",
              "    <tr>\n",
              "      <th>45</th>\n",
              "      <td>5</td>\n",
              "      <td>6</td>\n",
              "      <td>B</td>\n",
              "      <td>49.513962</td>\n",
              "    </tr>\n",
              "    <tr>\n",
              "      <th>46</th>\n",
              "      <td>5</td>\n",
              "      <td>7</td>\n",
              "      <td>B</td>\n",
              "      <td>52.627866</td>\n",
              "    </tr>\n",
              "    <tr>\n",
              "      <th>47</th>\n",
              "      <td>5</td>\n",
              "      <td>8</td>\n",
              "      <td>A</td>\n",
              "      <td>54.294622</td>\n",
              "    </tr>\n",
              "    <tr>\n",
              "      <th>48</th>\n",
              "      <td>5</td>\n",
              "      <td>9</td>\n",
              "      <td>A</td>\n",
              "      <td>56.012593</td>\n",
              "    </tr>\n",
              "    <tr>\n",
              "      <th>49</th>\n",
              "      <td>5</td>\n",
              "      <td>10</td>\n",
              "      <td>B</td>\n",
              "      <td>50.943510</td>\n",
              "    </tr>\n",
              "  </tbody>\n",
              "</table>\n",
              "</div>\n",
              "    <div class=\"colab-df-buttons\">\n",
              "\n",
              "  <div class=\"colab-df-container\">\n",
              "    <button class=\"colab-df-convert\" onclick=\"convertToInteractive('df-672ef6cc-bc44-41e9-bec1-7a7b962da814')\"\n",
              "            title=\"Convert this dataframe to an interactive table.\"\n",
              "            style=\"display:none;\">\n",
              "\n",
              "  <svg xmlns=\"http://www.w3.org/2000/svg\" height=\"24px\" viewBox=\"0 -960 960 960\">\n",
              "    <path d=\"M120-120v-720h720v720H120Zm60-500h600v-160H180v160Zm220 220h160v-160H400v160Zm0 220h160v-160H400v160ZM180-400h160v-160H180v160Zm440 0h160v-160H620v160ZM180-180h160v-160H180v160Zm440 0h160v-160H620v160Z\"/>\n",
              "  </svg>\n",
              "    </button>\n",
              "\n",
              "  <style>\n",
              "    .colab-df-container {\n",
              "      display:flex;\n",
              "      gap: 12px;\n",
              "    }\n",
              "\n",
              "    .colab-df-convert {\n",
              "      background-color: #E8F0FE;\n",
              "      border: none;\n",
              "      border-radius: 50%;\n",
              "      cursor: pointer;\n",
              "      display: none;\n",
              "      fill: #1967D2;\n",
              "      height: 32px;\n",
              "      padding: 0 0 0 0;\n",
              "      width: 32px;\n",
              "    }\n",
              "\n",
              "    .colab-df-convert:hover {\n",
              "      background-color: #E2EBFA;\n",
              "      box-shadow: 0px 1px 2px rgba(60, 64, 67, 0.3), 0px 1px 3px 1px rgba(60, 64, 67, 0.15);\n",
              "      fill: #174EA6;\n",
              "    }\n",
              "\n",
              "    .colab-df-buttons div {\n",
              "      margin-bottom: 4px;\n",
              "    }\n",
              "\n",
              "    [theme=dark] .colab-df-convert {\n",
              "      background-color: #3B4455;\n",
              "      fill: #D2E3FC;\n",
              "    }\n",
              "\n",
              "    [theme=dark] .colab-df-convert:hover {\n",
              "      background-color: #434B5C;\n",
              "      box-shadow: 0px 1px 3px 1px rgba(0, 0, 0, 0.15);\n",
              "      filter: drop-shadow(0px 1px 2px rgba(0, 0, 0, 0.3));\n",
              "      fill: #FFFFFF;\n",
              "    }\n",
              "  </style>\n",
              "\n",
              "    <script>\n",
              "      const buttonEl =\n",
              "        document.querySelector('#df-672ef6cc-bc44-41e9-bec1-7a7b962da814 button.colab-df-convert');\n",
              "      buttonEl.style.display =\n",
              "        google.colab.kernel.accessAllowed ? 'block' : 'none';\n",
              "\n",
              "      async function convertToInteractive(key) {\n",
              "        const element = document.querySelector('#df-672ef6cc-bc44-41e9-bec1-7a7b962da814');\n",
              "        const dataTable =\n",
              "          await google.colab.kernel.invokeFunction('convertToInteractive',\n",
              "                                                    [key], {});\n",
              "        if (!dataTable) return;\n",
              "\n",
              "        const docLinkHtml = 'Like what you see? Visit the ' +\n",
              "          '<a target=\"_blank\" href=https://colab.research.google.com/notebooks/data_table.ipynb>data table notebook</a>'\n",
              "          + ' to learn more about interactive tables.';\n",
              "        element.innerHTML = '';\n",
              "        dataTable['output_type'] = 'display_data';\n",
              "        await google.colab.output.renderOutput(dataTable, element);\n",
              "        const docLink = document.createElement('div');\n",
              "        docLink.innerHTML = docLinkHtml;\n",
              "        element.appendChild(docLink);\n",
              "      }\n",
              "    </script>\n",
              "  </div>\n",
              "\n",
              "\n",
              "<div id=\"df-d2bafecf-92ff-428f-bd21-e00a667837e8\">\n",
              "  <button class=\"colab-df-quickchart\" onclick=\"quickchart('df-d2bafecf-92ff-428f-bd21-e00a667837e8')\"\n",
              "            title=\"Suggest charts.\"\n",
              "            style=\"display:none;\">\n",
              "\n",
              "<svg xmlns=\"http://www.w3.org/2000/svg\" height=\"24px\"viewBox=\"0 0 24 24\"\n",
              "     width=\"24px\">\n",
              "    <g>\n",
              "        <path d=\"M19 3H5c-1.1 0-2 .9-2 2v14c0 1.1.9 2 2 2h14c1.1 0 2-.9 2-2V5c0-1.1-.9-2-2-2zM9 17H7v-7h2v7zm4 0h-2V7h2v10zm4 0h-2v-4h2v4z\"/>\n",
              "    </g>\n",
              "</svg>\n",
              "  </button>\n",
              "\n",
              "<style>\n",
              "  .colab-df-quickchart {\n",
              "      --bg-color: #E8F0FE;\n",
              "      --fill-color: #1967D2;\n",
              "      --hover-bg-color: #E2EBFA;\n",
              "      --hover-fill-color: #174EA6;\n",
              "      --disabled-fill-color: #AAA;\n",
              "      --disabled-bg-color: #DDD;\n",
              "  }\n",
              "\n",
              "  [theme=dark] .colab-df-quickchart {\n",
              "      --bg-color: #3B4455;\n",
              "      --fill-color: #D2E3FC;\n",
              "      --hover-bg-color: #434B5C;\n",
              "      --hover-fill-color: #FFFFFF;\n",
              "      --disabled-bg-color: #3B4455;\n",
              "      --disabled-fill-color: #666;\n",
              "  }\n",
              "\n",
              "  .colab-df-quickchart {\n",
              "    background-color: var(--bg-color);\n",
              "    border: none;\n",
              "    border-radius: 50%;\n",
              "    cursor: pointer;\n",
              "    display: none;\n",
              "    fill: var(--fill-color);\n",
              "    height: 32px;\n",
              "    padding: 0;\n",
              "    width: 32px;\n",
              "  }\n",
              "\n",
              "  .colab-df-quickchart:hover {\n",
              "    background-color: var(--hover-bg-color);\n",
              "    box-shadow: 0 1px 2px rgba(60, 64, 67, 0.3), 0 1px 3px 1px rgba(60, 64, 67, 0.15);\n",
              "    fill: var(--button-hover-fill-color);\n",
              "  }\n",
              "\n",
              "  .colab-df-quickchart-complete:disabled,\n",
              "  .colab-df-quickchart-complete:disabled:hover {\n",
              "    background-color: var(--disabled-bg-color);\n",
              "    fill: var(--disabled-fill-color);\n",
              "    box-shadow: none;\n",
              "  }\n",
              "\n",
              "  .colab-df-spinner {\n",
              "    border: 2px solid var(--fill-color);\n",
              "    border-color: transparent;\n",
              "    border-bottom-color: var(--fill-color);\n",
              "    animation:\n",
              "      spin 1s steps(1) infinite;\n",
              "  }\n",
              "\n",
              "  @keyframes spin {\n",
              "    0% {\n",
              "      border-color: transparent;\n",
              "      border-bottom-color: var(--fill-color);\n",
              "      border-left-color: var(--fill-color);\n",
              "    }\n",
              "    20% {\n",
              "      border-color: transparent;\n",
              "      border-left-color: var(--fill-color);\n",
              "      border-top-color: var(--fill-color);\n",
              "    }\n",
              "    30% {\n",
              "      border-color: transparent;\n",
              "      border-left-color: var(--fill-color);\n",
              "      border-top-color: var(--fill-color);\n",
              "      border-right-color: var(--fill-color);\n",
              "    }\n",
              "    40% {\n",
              "      border-color: transparent;\n",
              "      border-right-color: var(--fill-color);\n",
              "      border-top-color: var(--fill-color);\n",
              "    }\n",
              "    60% {\n",
              "      border-color: transparent;\n",
              "      border-right-color: var(--fill-color);\n",
              "    }\n",
              "    80% {\n",
              "      border-color: transparent;\n",
              "      border-right-color: var(--fill-color);\n",
              "      border-bottom-color: var(--fill-color);\n",
              "    }\n",
              "    90% {\n",
              "      border-color: transparent;\n",
              "      border-bottom-color: var(--fill-color);\n",
              "    }\n",
              "  }\n",
              "</style>\n",
              "\n",
              "  <script>\n",
              "    async function quickchart(key) {\n",
              "      const quickchartButtonEl =\n",
              "        document.querySelector('#' + key + ' button');\n",
              "      quickchartButtonEl.disabled = true;  // To prevent multiple clicks.\n",
              "      quickchartButtonEl.classList.add('colab-df-spinner');\n",
              "      try {\n",
              "        const charts = await google.colab.kernel.invokeFunction(\n",
              "            'suggestCharts', [key], {});\n",
              "      } catch (error) {\n",
              "        console.error('Error during call to suggestCharts:', error);\n",
              "      }\n",
              "      quickchartButtonEl.classList.remove('colab-df-spinner');\n",
              "      quickchartButtonEl.classList.add('colab-df-quickchart-complete');\n",
              "    }\n",
              "    (() => {\n",
              "      let quickchartButtonEl =\n",
              "        document.querySelector('#df-d2bafecf-92ff-428f-bd21-e00a667837e8 button');\n",
              "      quickchartButtonEl.style.display =\n",
              "        google.colab.kernel.accessAllowed ? 'block' : 'none';\n",
              "    })();\n",
              "  </script>\n",
              "</div>\n",
              "    </div>\n",
              "  </div>\n"
            ]
          },
          "metadata": {},
          "execution_count": 3
        }
      ]
    },
    {
      "cell_type": "code",
      "source": [
        "# Save the data to a CSV file\n",
        "# file_path = \"fertilizer_data.csv\"\n",
        "# df.to_csv(file_path, index=False)\n",
        "# file_path"
      ],
      "metadata": {
        "id": "hbusyhQyvJuG"
      },
      "execution_count": null,
      "outputs": []
    },
    {
      "cell_type": "code",
      "source": [
        "# Fit the mixed-effects model\n",
        "# - fixed effect of \"Fertilizer\" on \"Yield\";\n",
        "# - random effects are grouped by the \"Field\", random effects are i.i.d ~ N(0, I*Group Var)\n",
        "\n",
        "np.random.seed(42)\n",
        "\n",
        "model = smf.mixedlm(\"Yield ~ 1 + Fertilizer\", df, groups=df[\"Field\"]) #Yield ~ 1 if only have intercept\n",
        "\n",
        "result_ml = model.fit()  # if reml=False: using ML instead of REML, reml=True by default\n",
        "\n",
        "print(result_ml.summary())"
      ],
      "metadata": {
        "colab": {
          "base_uri": "https://localhost:8080/"
        },
        "id": "5-hyMK1F64kO",
        "outputId": "4b761851-7d0d-425e-dac9-fbc0334176fa"
      },
      "execution_count": null,
      "outputs": [
        {
          "output_type": "stream",
          "name": "stdout",
          "text": [
            "           Mixed Linear Model Regression Results\n",
            "===========================================================\n",
            "Model:               MixedLM  Dependent Variable:  Yield   \n",
            "No. Observations:    50       Method:              REML    \n",
            "No. Groups:          5        Scale:               0.9061  \n",
            "Min. group size:     10       Log-Likelihood:      -78.6640\n",
            "Max. group size:     10       Converged:           Yes     \n",
            "Mean group size:     10.0                                  \n",
            "-----------------------------------------------------------\n",
            "                Coef.  Std.Err.    z    P>|z| [0.025 0.975]\n",
            "-----------------------------------------------------------\n",
            "Intercept       54.111    1.528  35.410 0.000 51.116 57.107\n",
            "Fertilizer[T.B] -3.440    0.269 -12.776 0.000 -3.968 -2.912\n",
            "Group Var       11.495    8.989                            \n",
            "===========================================================\n",
            "\n"
          ]
        }
      ]
    },
    {
      "cell_type": "markdown",
      "source": [
        "From above results, the estimated residual variance is 0.8914, and the variance for feild random effect is 1.697."
      ],
      "metadata": {
        "id": "WocLv42-b4-E"
      }
    },
    {
      "cell_type": "code",
      "source": [
        "# Extracting the relevant results from the summary\n",
        "results_summary = {\n",
        "    'Fixed Effects': result_ml.params,\n",
        "    'Random Effects': result_ml.random_effects,\n",
        "}\n",
        "\n",
        "results_summary"
      ],
      "metadata": {
        "colab": {
          "base_uri": "https://localhost:8080/"
        },
        "id": "fZR0PUAp-lgT",
        "outputId": "51c12144-b737-4196-fe95-408260c464c2"
      },
      "execution_count": null,
      "outputs": [
        {
          "output_type": "execute_result",
          "data": {
            "text/plain": [
              "{'Fixed Effects': Intercept          54.111384\n",
              " Fertilizer[T.B]    -3.439873\n",
              " Group Var          12.685846\n",
              " dtype: float64,\n",
              " 'Random Effects': {1: Group   -1.938795\n",
              "  dtype: float64,\n",
              "  2: Group    3.799594\n",
              "  dtype: float64,\n",
              "  3: Group   -4.756253\n",
              "  dtype: float64,\n",
              "  4: Group    2.000529\n",
              "  dtype: float64,\n",
              "  5: Group    0.894926\n",
              "  dtype: float64}}"
            ]
          },
          "metadata": {},
          "execution_count": 5
        }
      ]
    },
    {
      "cell_type": "code",
      "source": [
        "# R code:\n",
        "# # Load necessary libraries\n",
        "# library(lme4)\n",
        "# library(car)\n",
        "\n",
        "# # Load the data\n",
        "# data <- read.csv(\"fertilizer_data.csv\")\n",
        "\n",
        "# # Fit a mixed-effects model\n",
        "# model <- lmer(Yield ~ Fertilizer + (1|Field), data=data) #REML = False for ML, REML = T by default\n",
        "\n",
        "# # Display the model summary\n",
        "# summary(model)\n",
        "\n",
        "# # Generate an ANOVA table\n",
        "# anova(model)"
      ],
      "metadata": {
        "id": "VfM4u_C7x0sh"
      },
      "execution_count": null,
      "outputs": []
    },
    {
      "cell_type": "markdown",
      "source": [
        "### Solve MME by hand"
      ],
      "metadata": {
        "id": "cEy5zyJ5EfAE"
      }
    },
    {
      "cell_type": "code",
      "source": [
        "from scipy.linalg import block_diag\n",
        "\n",
        "# Define Group Var\n",
        "group_var = 11.495  # Extracted from the model summary\n",
        "sigma2e = 0.9061   # Extracted from the model summary\n",
        "my_lambda=sigma2e/group_var #sigma2e/sigma2a\n",
        "\n",
        "# Create design matrix X for fixed effects\n",
        "X = pd.get_dummies(df[['Fertilizer']], drop_first=True)  # Creating dummy variable for Fertilizer\n",
        "X.insert(0, 'Intercept', 1)  # Adding a column for the intercept\n",
        "\n",
        "# Create design matrix Z for random effects\n",
        "Z = pd.get_dummies(df['Field'])  # Creating dummy variables for each level of Field\n",
        "\n",
        "# Create the observed data vector y\n",
        "y = df['Yield']\n",
        "\n",
        "# Formulate the Mixed Model Equations (MME)\n",
        "\n",
        "G_inv = np.eye(n_fields) * my_lambda  # Inverse of the covariance matrix G for random effects\n",
        "block_11 = X.T @ X  # X'X\n",
        "block_12 = X.T @ Z  # X'Z\n",
        "block_21 = Z.T @ X  # Z'X\n",
        "block_22 = Z.T @ Z + G_inv\n",
        "\n",
        "# Use numpy.bmat to construct the block matrix\n",
        "lhs = np.bmat([[block_11, block_12], [block_21, block_22]])\n",
        "rhs = np.concatenate([X.T @ y, Z.T @ y])  # Right-hand side combined vector\n",
        "\n",
        "# Solving the Mixed Model Equations (MME)\n",
        "solution = np.linalg.solve(lhs, rhs)\n",
        "\n",
        "# Extracting the estimated fixed and random effects from the solution\n",
        "beta_estimated = solution[:X.shape[1]]  # Fixed effects estimates (Intercept and Fertilizer[T.B])\n",
        "u_estimated = solution[X.shape[1]:]  # Random effects estimates (Fields)\n",
        "\n",
        "beta_estimated, u_estimated\n"
      ],
      "metadata": {
        "colab": {
          "base_uri": "https://localhost:8080/"
        },
        "id": "-bCOFdnXAVva",
        "outputId": "9a8609bc-f3cb-4b9c-cf82-a7b405834ff8"
      },
      "execution_count": null,
      "outputs": [
        {
          "output_type": "execute_result",
          "data": {
            "text/plain": [
              "(array([54.11138359, -3.43987257]),\n",
              " array([-1.93879595,  3.7995949 , -4.75625446,  2.0005292 ,  0.89492631]))"
            ]
          },
          "metadata": {},
          "execution_count": 14
        }
      ]
    },
    {
      "cell_type": "markdown",
      "source": [
        "Compare to previous results:"
      ],
      "metadata": {
        "id": "_Go9Pw1REG-w"
      }
    },
    {
      "cell_type": "code",
      "source": [
        "results_summary"
      ],
      "metadata": {
        "colab": {
          "base_uri": "https://localhost:8080/"
        },
        "id": "ljaFz9iLEDKM",
        "outputId": "76c5b913-ee17-48aa-abed-76fb698f773e"
      },
      "execution_count": null,
      "outputs": [
        {
          "output_type": "execute_result",
          "data": {
            "text/plain": [
              "{'Fixed Effects': Intercept          54.111384\n",
              " Fertilizer[T.B]    -3.439873\n",
              " Group Var          12.685846\n",
              " dtype: float64,\n",
              " 'Random Effects': {1: Group   -1.938795\n",
              "  dtype: float64,\n",
              "  2: Group    3.799594\n",
              "  dtype: float64,\n",
              "  3: Group   -4.756253\n",
              "  dtype: float64,\n",
              "  4: Group    2.000529\n",
              "  dtype: float64,\n",
              "  5: Group    0.894926\n",
              "  dtype: float64}}"
            ]
          },
          "metadata": {},
          "execution_count": 13
        }
      ]
    },
    {
      "cell_type": "markdown",
      "source": [
        "### A more complicated example\n",
        "\n",
        "![image.png](data:image/png;base64,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)"
      ],
      "metadata": {
        "id": "SsAbNVglt_Eh"
      }
    },
    {
      "cell_type": "markdown",
      "source": [
        "## 4.8 Play with lmmonboard"
      ],
      "metadata": {
        "id": "xOKVz5xPSSNx"
      }
    },
    {
      "cell_type": "markdown",
      "source": [
        "https://lmmonboard.ucdavis.edu/myapp"
      ],
      "metadata": {
        "id": "TGm1aZ1_Sfq8"
      }
    },
    {
      "cell_type": "markdown",
      "source": [
        "# 5. Estimation of Variance Component"
      ],
      "metadata": {
        "id": "OjLnukhrQO7M"
      }
    },
    {
      "cell_type": "markdown",
      "source": [
        "It is important to note that and require knowledge of $\\mathbf{G}$ and $\\mathbf{R}$. These matrices, however, are rarely known. This is a problem without an exact solution using classical methods. The practical approach is to replace $\\mathbf{G}$ and $\\mathbf{R}$ by their estimates into the MME.\n",
        "\n",
        "* **Analysis of Variance (ANOVA)**: estimates the variance components by partitioning the total sum of squares. ANOVA approach works well for balanced data, but they are not indicated for more complex models and data structures\n",
        "* **Maximum likelihood/Restricted maximum likelihood (REML)**: currently the most popular\n",
        "* **Bayesian approach**"
      ],
      "metadata": {
        "id": "lTv1p6OZQPWx"
      }
    },
    {
      "cell_type": "markdown",
      "source": [
        "Recall our previous example:"
      ],
      "metadata": {
        "id": "wTnJENkcg9WS"
      }
    },
    {
      "cell_type": "markdown",
      "source": [
        "## 5.1 Model\n",
        "Let $y_{ij}$ denote the yield for the $i^{th}$ plot in the $j^{th}$ field, where $i = 1, \\ldots, 10$ and $j = 1, \\ldots, 5$. The mixed-effects model can be written as:\n",
        "\n",
        "$$\n",
        "y_{ij} = \\beta_0 + \\beta_1 x_{ij} + u_j + \\epsilon_{ij}\n",
        "$$\n",
        "\n",
        "where:\n",
        "- $\\beta_0$ is the intercept/overall mean.\n",
        "- $\\beta_1$ is the fixed effect of the fertilizer. It represents the difference in yield due to the use of Fertilizer B compared to Fertilizer A.\n",
        "- $x_{ij}$ is a binary indicator variable representing the fertilizer type, with $x_{ij} = 1$ if Fertilizer B is used, and $x_{ij} = 0$ if Fertilizer A is used.\n",
        "- $u_j$ is the random field effect for the $j^{th}$ field, assumed to be normally distributed, i.e., $u_j \\sim N(0, \\sigma^2_u)$, with $\\sigma^2_u$ being the variance of the random field effect.\n",
        "- $\\epsilon_{ij}$ is the random error term associated with the $i^{th}$ plot in the $j^{th}$ field, assumed to be normally distributed, i.e., $\\epsilon_{ij} \\sim N(0, \\sigma^2)$, with $\\sigma^2$ being the variance of the random error.\n",
        "\n",
        "### Model assumptions\n",
        "\n",
        "1. **Linearity**: The relationship between the yield and the fixed effects is linear.\n",
        "2. **Independence**: The observations are independent, given the random effects.\n",
        "3. **Normality of Random Effects**: The random field effects $u_j$ are assumed to be normally distributed with a mean of 0.\n",
        "4. **Normality of Residuals**: The residuals $\\epsilon_{ij}$ are assumed to be normally distributed with a mean of 0.\n",
        "5. **Homoscedasticity of Residuals**: The residuals $\\epsilon_{ij}$ have constant variance $\\sigma^2$.\n",
        "6. **Random Field Effects are Independent of Residuals**: The random field effects and the residuals are independent of each other.\n",
        "7. **Fixed and Random Effects are Additive**: The fixed effect of the fertilizer and the random field effects are additive in their impact on the yield.\n"
      ],
      "metadata": {
        "id": "2KQiC0eXSs1a"
      }
    },
    {
      "cell_type": "markdown",
      "source": [
        "## 5.2 ANOVA"
      ],
      "metadata": {
        "id": "zaJ0jTXqtNC_"
      }
    },
    {
      "cell_type": "markdown",
      "source": [
        "The total sum of squares:\n",
        "$ SS_{Total} = \\sum_{i=1}^{5} \\sum_{j=1}^{2} \\sum_{k=1}^{5} (Y_{ijk} - \\bar{Y})^2 $, for $i$th field ($i=1,...,5$), $j$th fertilizer ($j=1,2$), $k$th individual in each combination of $ij$ ($k=1,...,5$).\n",
        "\n",
        "The total sum of squares can be break down into $SS_{Total} = SS_{Error} + SS_{Fertilizer} + SS_{Field}$.\n",
        "\n",
        "\n",
        "1. Fertilizer Sum of Squares ($SS_{Fertilizer}$)\n",
        "\n",
        "$SS_{Fertilizer} =\\sum_{i=1}^{5} \\sum_{j=1}^{2} \\sum_{k=1}^{5}(\\bar{Y}_{ij.} - \\bar{Y}_{.j.})^2= \\sum_{j=1}^{2} n_j (\\bar{Y}_{.j.} - \\bar{Y})^2 $\n",
        "\n",
        "2. Field Sum of Squares ($SS_{Field}$)\n",
        "\n",
        "$SS_{Field} =\\sum_{i=1}^{5} \\sum_{j=1}^{2} \\sum_{k=1}^{5}(\\bar{Y}_{.j.} - \\bar{Y}) = \\sum_{i=1}^{5} n_i (\\bar{Y}_{i..} - \\bar{Y})^2 $\n",
        "\n",
        "3. Error Sum of Squares ( $SS_{Error}$)\n",
        "\n",
        "$SS_{Error} = \\sum_{i=1}^{5} \\sum_{j=1}^{2} \\sum_{k=1}^{5} (Y_{ijk} - \\bar{Y}_{ij.})^2  = SS_{Total} - SS_{Fertilizer} - SS_{Field} $\n",
        "\n",
        "Where $n_i=10$ is the number of observations in the $i$th field, $n_j=25$ is the number of observations of the jth fertilizer.\n",
        "\n",
        "\n"
      ],
      "metadata": {
        "id": "cukzZOdKMey1"
      }
    },
    {
      "cell_type": "markdown",
      "source": [
        "The mean squares can be calculated by dividing the sum of squares by the degrees of freedom."
      ],
      "metadata": {
        "id": "3PzpC2JGsHlq"
      }
    },
    {
      "cell_type": "markdown",
      "source": [
        "Taking the expectation of mean squares, it can be shown that in this balanced data, $$ \\hat{\\sigma_e^2}=MSE$$ and $$\\hat{\\sigma_u^2}=(MS_{field} - \\hat{\\sigma_e^2})/n_{plot}$$"
      ],
      "metadata": {
        "id": "b3XAEIKwXM6-"
      }
    },
    {
      "cell_type": "markdown",
      "source": [
        "$n_{plots}=10$ is the number of plots per field."
      ],
      "metadata": {
        "id": "lXFxvLu4xD59"
      }
    },
    {
      "cell_type": "code",
      "source": [
        "# Compute the various Sum of Squares components\n",
        "\n",
        "# Total SS, total sum of squares\n",
        "total_mean = df['Yield'].mean()\n",
        "SS_total = ((df['Yield'] - total_mean) ** 2).sum()\n",
        "\n",
        "# Between Fields SS\n",
        "field_means = df.groupby('Field')['Yield'].mean()\n",
        "SS_fields = n_plots * ((field_means - total_mean) ** 2).sum() # number of plots in each field =10\n",
        "\n",
        "# Between Fertilizers SS\n",
        "fertilizer_means = df.groupby('Fertilizer')['Yield'].mean()\n",
        "n_i = len(df) / 2  # number of plots with each fertilizer =25\n",
        "SS_fertilizers = n_i * ((fertilizer_means - total_mean) ** 2).sum()\n",
        "\n",
        "# Within Fields SS (also accounting for Fertilizer effect)\n",
        "SS_within = SS_total - SS_fields - SS_fertilizers #Residual SS, SSE\n",
        "\n",
        "SS_total, SS_fields, SS_fertilizers, SS_within"
      ],
      "metadata": {
        "colab": {
          "base_uri": "https://localhost:8080/"
        },
        "id": "aCsvOKV3cWee",
        "outputId": "a961d551-e0a4-4756-d6f6-95c7ffd961d0"
      },
      "execution_count": null,
      "outputs": [
        {
          "output_type": "execute_result",
          "data": {
            "text/plain": [
              "(651.2074535008493, 463.42869931605156, 147.9090411447327, 39.86971304006502)"
            ]
          },
          "metadata": {},
          "execution_count": 7
        }
      ]
    },
    {
      "cell_type": "code",
      "source": [
        "# Compute the degrees of freedom\n",
        "df_total = n - 1 #50-1=49\n",
        "df_fields = n_fields - 1 #k-1=5-1=4\n",
        "df_fertilizers = 2 - 1  # only two fertilizers: A and B\n",
        "df_within =  df_total - df_fields - df_fertilizers # d.f. for residual SS\n",
        "\n",
        "df_total, df_fields, df_fertilizers, df_within"
      ],
      "metadata": {
        "colab": {
          "base_uri": "https://localhost:8080/"
        },
        "id": "B6S7wXcjcWlz",
        "outputId": "f3cf0428-011a-4da9-f13f-9da578d87d38"
      },
      "execution_count": null,
      "outputs": [
        {
          "output_type": "execute_result",
          "data": {
            "text/plain": [
              "(49, 4, 1, 44)"
            ]
          },
          "metadata": {},
          "execution_count": 8
        }
      ]
    },
    {
      "cell_type": "code",
      "source": [
        "# Compute the mean squares\n",
        "MS_fields = SS_fields / df_fields\n",
        "MS_fertilizers = SS_fertilizers / df_fertilizers\n",
        "MS_within = SS_within / df_within #MSE\n",
        "\n",
        "MS_fields, MS_fertilizers, MS_within"
      ],
      "metadata": {
        "colab": {
          "base_uri": "https://localhost:8080/"
        },
        "id": "fa878ETWH0nk",
        "outputId": "694cd179-86e9-41ba-ebc3-ddf146dd1ecc"
      },
      "execution_count": null,
      "outputs": [
        {
          "output_type": "execute_result",
          "data": {
            "text/plain": [
              "(115.85717482901289, 147.9090411447327, 0.9061298418196596)"
            ]
          },
          "metadata": {},
          "execution_count": 9
        }
      ]
    },
    {
      "cell_type": "code",
      "source": [
        "# Compute the F-statistics\n",
        "F_fields = MS_fields / MS_within\n",
        "F_fertilizers = MS_fertilizers / MS_within\n",
        "F_fields, F_fertilizers"
      ],
      "metadata": {
        "colab": {
          "base_uri": "https://localhost:8080/"
        },
        "id": "LxDv4ex2cWpO",
        "outputId": "3d099fef-6319-4a96-ff61-8e085bbafa1b"
      },
      "execution_count": null,
      "outputs": [
        {
          "output_type": "execute_result",
          "data": {
            "text/plain": [
              "(127.8593524702292, 163.23161904447016)"
            ]
          },
          "metadata": {},
          "execution_count": 10
        }
      ]
    },
    {
      "cell_type": "code",
      "source": [
        "#ANOVA estimator of sigma2_e=MSE, unbiased\n",
        "sigma2_e_ANOVA = MS_within\n",
        "sigma2_e_ANOVA #unbiased"
      ],
      "metadata": {
        "colab": {
          "base_uri": "https://localhost:8080/"
        },
        "id": "8edzq59pzzpO",
        "outputId": "52501953-6666-42bf-8a35-2a49471d7005"
      },
      "execution_count": null,
      "outputs": [
        {
          "output_type": "execute_result",
          "data": {
            "text/plain": [
              "0.9061298418196596"
            ]
          },
          "metadata": {},
          "execution_count": 11
        }
      ]
    },
    {
      "cell_type": "code",
      "source": [
        "#ANOVA estimators of sigma2_u\n",
        "(MS_fields - sigma2_e_ANOVA)/n_plots #unbiased"
      ],
      "metadata": {
        "colab": {
          "base_uri": "https://localhost:8080/"
        },
        "id": "ieMv8DUq1OGU",
        "outputId": "17368ee8-0417-41b9-bcea-722c57085f82"
      },
      "execution_count": null,
      "outputs": [
        {
          "output_type": "execute_result",
          "data": {
            "text/plain": [
              "11.495104498719323"
            ]
          },
          "metadata": {},
          "execution_count": 12
        }
      ]
    },
    {
      "cell_type": "markdown",
      "source": [
        "## 5.3 ML"
      ],
      "metadata": {
        "id": "xTM-N_IxJSH1"
      }
    },
    {
      "cell_type": "markdown",
      "source": [
        "using software:"
      ],
      "metadata": {
        "id": "NqLwnQbOhHpJ"
      }
    },
    {
      "cell_type": "code",
      "source": [
        "# ML\n",
        "np.random.seed(42)\n",
        "model = smf.mixedlm(\"Yield ~ 1 + Fertilizer\", df, groups=df[\"Field\"]) #Yield ~ 1 if only have intercept\n",
        "result_ml = model.fit(reml=False)  # if reml=False: using ML instead of REML, reml=True by default\n",
        "print(result_ml.summary())"
      ],
      "metadata": {
        "colab": {
          "base_uri": "https://localhost:8080/"
        },
        "id": "Tkv36NidRgdY",
        "outputId": "88dee47a-8169-4a70-ea38-eb2b74471d5b"
      },
      "execution_count": null,
      "outputs": [
        {
          "output_type": "stream",
          "name": "stdout",
          "text": [
            "           Mixed Linear Model Regression Results\n",
            "===========================================================\n",
            "Model:               MixedLM  Dependent Variable:  Yield   \n",
            "No. Observations:    50       Method:              ML      \n",
            "No. Groups:          5        Scale:               0.8860  \n",
            "Min. group size:     10       Log-Likelihood:      -79.5464\n",
            "Max. group size:     10       Converged:           Yes     \n",
            "Mean group size:     10.0                                  \n",
            "-----------------------------------------------------------\n",
            "                Coef.  Std.Err.    z    P>|z| [0.025 0.975]\n",
            "-----------------------------------------------------------\n",
            "Intercept       54.111    1.368  39.556 0.000 51.430 56.793\n",
            "Fertilizer[T.B] -3.440    0.266 -12.921 0.000 -3.962 -2.918\n",
            "Group Var        9.179    6.564                            \n",
            "===========================================================\n",
            "\n"
          ]
        }
      ]
    },
    {
      "cell_type": "markdown",
      "source": [
        "by-hand:"
      ],
      "metadata": {
        "id": "ljfyhcB4hJdt"
      }
    },
    {
      "cell_type": "markdown",
      "source": [
        "in small sample case, MLE for variance components tend to underestimate variance components. This is due to the failure to account for a reduction in degrees of freedom associated with fixed effects."
      ],
      "metadata": {
        "id": "QyuzY-xXI-9F"
      }
    },
    {
      "cell_type": "markdown",
      "source": [
        "ML estimators of $\\sigma^2$:"
      ],
      "metadata": {
        "id": "4vCQOKLnNwfV"
      }
    },
    {
      "cell_type": "code",
      "source": [
        "sigma2_e_ML=SS_within/(n_fields*(n_plots-1)) #same as in python and R package, biased\n",
        "sigma2_e_ML"
      ],
      "metadata": {
        "colab": {
          "base_uri": "https://localhost:8080/"
        },
        "id": "eLi3LKYyzp1-",
        "outputId": "791064ab-114a-41ca-bbc0-a415bfeb1f5c"
      },
      "execution_count": null,
      "outputs": [
        {
          "output_type": "execute_result",
          "data": {
            "text/plain": [
              "0.885993623112556"
            ]
          },
          "metadata": {},
          "execution_count": 15
        }
      ]
    },
    {
      "cell_type": "markdown",
      "source": [
        "ML estimators of $\\sigma^2_u$:"
      ],
      "metadata": {
        "id": "AVkrSA5iN1M6"
      }
    },
    {
      "cell_type": "code",
      "source": [
        "(SS_fields/5-sigma2_e_ML)/10 #same as in python and R package, biased"
      ],
      "metadata": {
        "id": "TKpu8nLLK9kx",
        "colab": {
          "base_uri": "https://localhost:8080/"
        },
        "outputId": "cf9a3909-e19a-466f-b331-459bc07c5cdb"
      },
      "execution_count": null,
      "outputs": [
        {
          "output_type": "execute_result",
          "data": {
            "text/plain": [
              "9.179974624009777"
            ]
          },
          "metadata": {},
          "execution_count": 17
        }
      ]
    },
    {
      "cell_type": "markdown",
      "source": [
        "For mixed model $\\mathbf{y} = \\mathbf{X} \\boldsymbol{\\beta} + \\mathbf{Z} \\mathbf{u} + \\mathbf{e}$, where $\\mathbf{y}$ has mean $E(\\mathbf{y})=\\mathbf{X} \\boldsymbol{\\beta}$ and variance $var(\\mathbf{y})=\\mathbf{V}=\\mathbf{Z}\\mathbf{G}\\mathbf{Z}^T + \\mathbf{R}$, $var(\\mathbf{u})=\\mathbf{G}$, $var(\\mathbf{e})=\\mathbf{R}$."
      ],
      "metadata": {
        "id": "Rz1z78G0tkLm"
      }
    },
    {
      "cell_type": "markdown",
      "source": [
        "The likelihood function is proportional to:\n",
        "\n",
        "$ L(\\boldsymbol{\\beta}, \\mathbf{G}, \\mathbf{R}|\\mathbf{y} ) \\propto |\\mathbf{V}|^{-\\frac{1}{2}} \\exp \\left( -\\frac{1}{2} (\\mathbf{y} - \\mathbf{X}\\boldsymbol{\\beta})^T \\mathbf{V}^{-1} (\\mathbf{y} - \\mathbf{X}\\boldsymbol{\\beta}) \\right)$.\n",
        "\n",
        "Thus the log-likelihood is:\n",
        "\n",
        "$\\ell(\\boldsymbol{\\beta}, \\mathbf{G}, \\mathbf{R}) = -\\frac{1}{2} \\log |\\mathbf{V}| -\\frac{1}{2} (\\mathbf{y} - \\mathbf{X}\\boldsymbol{\\beta})^T \\mathbf{V}^{-1} (\\mathbf{y} - \\mathbf{X}\\boldsymbol{\\beta}) $\n",
        "\n",
        "The ML estimators for variance components are obtained by differentiating the log-likelihood with respect to the variance component and setting it to zero."
      ],
      "metadata": {
        "id": "NMqQGP3ctnm9"
      }
    },
    {
      "cell_type": "markdown",
      "source": [
        "In our example, the following solutions are obtained:"
      ],
      "metadata": {
        "id": "AiOCFa-es-oR"
      }
    },
    {
      "cell_type": "markdown",
      "source": [
        "$$\\hat{\\sigma^2_e} = \\frac{SSE}{n_{field}(n_{plot}-1)}$$"
      ],
      "metadata": {
        "id": "hhQ8JSTHs_0o"
      }
    },
    {
      "cell_type": "markdown",
      "source": [
        "$$\\hat{\\sigma^2_u} = \\frac{1}{n_{plot}}(\\frac{SS_{field}}{n_{field}}-\\hat{\\sigma^2_e})$$"
      ],
      "metadata": {
        "id": "oHNeccBTwESa"
      }
    },
    {
      "cell_type": "markdown",
      "source": [
        "$n_{field}=5$ is number of fields."
      ],
      "metadata": {
        "id": "q4FZ3m2KxWqZ"
      }
    },
    {
      "cell_type": "markdown",
      "source": [
        "## 5.4 REML"
      ],
      "metadata": {
        "id": "ACvPoKUZJOUq"
      }
    },
    {
      "cell_type": "markdown",
      "source": [
        "using software:"
      ],
      "metadata": {
        "id": "PTJ69I32hQC6"
      }
    },
    {
      "cell_type": "code",
      "source": [
        "# REML\n",
        "np.random.seed(42)\n",
        "model = smf.mixedlm(\"Yield ~ 1 + Fertilizer\", df, groups=df[\"Field\"])\n",
        "result_ml = model.fit()\n",
        "print(result_ml.summary())"
      ],
      "metadata": {
        "colab": {
          "base_uri": "https://localhost:8080/"
        },
        "id": "jijpov7qRwv4",
        "outputId": "723a684d-f304-4ccc-c0b7-8b8e04b5c2e8"
      },
      "execution_count": null,
      "outputs": [
        {
          "output_type": "stream",
          "name": "stdout",
          "text": [
            "           Mixed Linear Model Regression Results\n",
            "===========================================================\n",
            "Model:               MixedLM  Dependent Variable:  Yield   \n",
            "No. Observations:    50       Method:              REML    \n",
            "No. Groups:          5        Scale:               0.9061  \n",
            "Min. group size:     10       Log-Likelihood:      -78.6640\n",
            "Max. group size:     10       Converged:           Yes     \n",
            "Mean group size:     10.0                                  \n",
            "-----------------------------------------------------------\n",
            "                Coef.  Std.Err.    z    P>|z| [0.025 0.975]\n",
            "-----------------------------------------------------------\n",
            "Intercept       54.111    1.528  35.410 0.000 51.116 57.107\n",
            "Fertilizer[T.B] -3.440    0.269 -12.776 0.000 -3.968 -2.912\n",
            "Group Var       11.495    8.989                            \n",
            "===========================================================\n",
            "\n"
          ]
        }
      ]
    },
    {
      "cell_type": "markdown",
      "source": [
        "by-hand:"
      ],
      "metadata": {
        "id": "uAJKPTPVhPIr"
      }
    },
    {
      "cell_type": "markdown",
      "source": [
        "REML estimators of $\\sigma^2$ is same as MSE, less biased than ML"
      ],
      "metadata": {
        "id": "iISl8n-YNggR"
      }
    },
    {
      "cell_type": "code",
      "source": [
        "sigma2_e_REML=MS_within\n",
        "sigma2_e_REML"
      ],
      "metadata": {
        "id": "olASneWF1qT7",
        "colab": {
          "base_uri": "https://localhost:8080/"
        },
        "outputId": "c2fb13a6-8769-4c5b-8ce2-3286db5b20cf"
      },
      "execution_count": null,
      "outputs": [
        {
          "output_type": "execute_result",
          "data": {
            "text/plain": [
              "0.9061298418196596"
            ]
          },
          "metadata": {},
          "execution_count": 26
        }
      ]
    },
    {
      "cell_type": "markdown",
      "source": [
        "REML estimators of $\\sigma^2_u$:"
      ],
      "metadata": {
        "id": "fClJzMS4Nl-u"
      }
    },
    {
      "cell_type": "code",
      "source": [
        "sigma2_u_REML=(SS_fields/4-sigma2_e_REML)/10\n",
        "sigma2_u_REML"
      ],
      "metadata": {
        "id": "OIMJ_9jO3JB-",
        "colab": {
          "base_uri": "https://localhost:8080/"
        },
        "outputId": "77961892-2e30-48cf-c3b2-43db97d97ff3"
      },
      "execution_count": null,
      "outputs": [
        {
          "output_type": "execute_result",
          "data": {
            "text/plain": [
              "11.495104498719323"
            ]
          },
          "metadata": {},
          "execution_count": 28
        }
      ]
    },
    {
      "cell_type": "markdown",
      "source": [
        "\n",
        "\n",
        "For mixed model $\\mathbf{y} = \\mathbf{X} \\boldsymbol{\\beta} + \\mathbf{Z} \\mathbf{u} + \\mathbf{e}$, where $\\mathbf{y}$ has mean $E(\\mathbf{y})=\\mathbf{X} \\boldsymbol{\\beta}$ and variance $var(\\mathbf{y})=\\mathbf{V}=\\mathbf{Z}\\mathbf{G}\\mathbf{Z}^T + \\mathbf{R}$, $var(\\mathbf{u})=\\mathbf{G}$, $var(\\mathbf{e})=\\mathbf{R}$. The MLE for variances is often criticized for \"failing to account for the loss of degrees of freedom needed to estimate $\\boldsymbol{\\beta}$.”\n",
        "\n",
        "Restricted (or residual) maximum likelihood approach\n",
        "(REML) corrects the bias associated with ML\n",
        "estimates by taking into account the degrees of\n",
        "freedom used for estimating the fixed effects.\n",
        "\n",
        "In detail, REML maximizes the likelihood function of a set of\n",
        "error contrasts $\\mathbf{d} = \\mathbf{L}^T \\mathbf{y}$, where $\\mathbf{L}$ is a $n \\times (n - p)$ (p is rank of $\\mathbf{X}$) full-rank matrix with columns orthogonal to the columns of the incidence matrix $\\mathbf{X}$. That is, $\\mathbf{L}^T \\mathbf{X}=\\mathbf{0}$, $rank(\\mathbf{L})=n-p$, and\n",
        "$$\\mathbf{L}^T \\mathbf{y}=\\mathbf{L}^T\\mathbf{Z} \\mathbf{u} + \\mathbf{L}^T\\mathbf{e}$$\n",
        "\n",
        "The vector $\\mathbf{d}=\\mathbf{L}^T \\mathbf{y}$ follows a multivariate normal\n",
        "distribution with mean $\\mathbf{0}$ and variance $\\mathbf{L}^T \\mathbf{V} \\mathbf{L} = \\mathbf{L}^T (\\mathbf{Z}\\mathbf{G}\\mathbf{Z}^T + \\mathbf{R})\\mathbf{L}$. Now\n",
        "the distribution of $\\mathbf{d}$ does not depend on $\\boldsymbol{\\beta}$."
      ],
      "metadata": {
        "id": "j81mYDE7ifJD"
      }
    },
    {
      "cell_type": "markdown",
      "source": [
        "The REML estimators for variance components are obtained by differentiating the log-likelihood with respect to the variance component and setting it to zero."
      ],
      "metadata": {
        "id": "epya9rCr2VpA"
      }
    },
    {
      "cell_type": "markdown",
      "source": [
        "In our example, the following solutions are obtained:"
      ],
      "metadata": {
        "id": "SmlIhLGx2Xjn"
      }
    },
    {
      "cell_type": "markdown",
      "source": [
        "$$\\hat{\\sigma^2_e} = MSE$$"
      ],
      "metadata": {
        "id": "x_QKPJQk27Nc"
      }
    },
    {
      "cell_type": "markdown",
      "source": [
        "$$\\hat{\\sigma^2_u} = \\frac{1}{n_{plot}}(\\frac{SS_{field}}{n_{field}-1}-\\hat{\\sigma^2_e})$$"
      ],
      "metadata": {
        "id": "kO9P5ZDe27QH"
      }
    },
    {
      "cell_type": "markdown",
      "source": [
        "# 6. Learn with ChatGPT"
      ],
      "metadata": {
        "id": "7FVStGzjdWGl"
      }
    },
    {
      "cell_type": "markdown",
      "source": [
        "## Examples\n",
        "https://chat.openai.com/"
      ],
      "metadata": {
        "id": "hbywzt5WaIMo"
      }
    },
    {
      "cell_type": "markdown",
      "source": [
        "> Could you explain multiple linear regression to me? Please include the mathematical model, its underlying assumptions, and a Python example for clarity\n",
        "\n",
        "> Could you represent the model in matrix notation and provide a derivation for the equations used to estimate beta?\n",
        "\n",
        ">"
      ],
      "metadata": {
        "id": "vR7UaDIGdcl1"
      }
    },
    {
      "cell_type": "markdown",
      "source": [
        "> For the linear mixed model, how to estimate variances using ANOVA, ML, and REML, respectively? what are the advantages and disadvantages? which method should I choose for my data?"
      ],
      "metadata": {
        "id": "o9wLPj07OJZK"
      }
    },
    {
      "cell_type": "markdown",
      "source": [
        "\n",
        "---"
      ],
      "metadata": {
        "id": "JOqt5-pSvjI3"
      }
    },
    {
      "cell_type": "markdown",
      "source": [
        "### A more complicated example\n",
        "\n",
        "Question:\n",
        "> what does this mean\n",
        "\n",
        "> Blocks: The experimental units are divided into groups or blocks. Each block consists of units that are more homogeneous or similar in some way. The idea is to control for variability within blocks so that it doesn’t confound the effects of the treatments.\n",
        "\n",
        "ChatGPT:\n",
        "\n",
        "When conducting an experiment, the goal is often to determine the effect of different treatments on an outcome of interest. However, there can be other factors (besides the treatments) that also influence the outcome. If these factors vary across experimental units, they can add variability to the results, making it harder to detect the effect of the treatments.\n",
        "\n",
        "In a Randomized Complete Block Design (RCBD), the experimental units are grouped into \"blocks\" to control for this variability. Each block consists of units that are similar to each other in some way, which is related to these other factors that might influence the outcome.\n",
        "\n",
        "**Example to Illustrate**:\n",
        "\n",
        "**Context**: Imagine you are conducting an experiment to test the effectiveness of different fertilizers on plant growth.\n",
        "\n",
        "**Potential Issue**: The experimental field has a gradient in sunlight exposure, with one side getting more sunlight than the other. Sunlight exposure could affect plant growth.\n",
        "\n",
        "**Solution with Blocks**:\n",
        "- **Blocks**: Divide the field into sections (blocks) where each section gets a similar amount of sunlight. So, all plots within a block have approximately the same sunlight exposure.\n",
        "- Within each block, every fertilizer (treatment) is applied to a different plot.\n",
        "- The order or assignment of fertilizers to plots within each block is done randomly.\n",
        "\n",
        "### What This Achieves:\n",
        "\n",
        "- **Controls for Sunlight Variability**: By organizing the experiment this way, you make sure that the variability in sunlight exposure does not confound (mix up with) the fertilizer effects. Each fertilizer is tested across the whole range of sunlight conditions present in the field.\n",
        "\n",
        "- **More Accurate Comparison**: This makes the comparison between fertilizers more accurate because you are reducing the impact of sunlight variability on the results.\n",
        "\n",
        "- **Increased Precision**: The experiment becomes more sensitive to differences between fertilizers, potentially leading to more precise and reliable results.\n",
        "\n",
        "In summary, by using blocks of more homogeneous units, you are controlling for the effects of other factors (like sunlight in the example), ensuring that any differences you observe are more likely due to the treatments themselves, not due to these other factors.\n",
        "\n",
        "Question:\n",
        "> why cannot I fit sunlight as a variable in the model\n",
        "\n",
        "ChatGPT\n",
        "\n",
        "You can certainly fit sunlight as a variable in your model if you have measured it and if it makes sense in the context of your study. Incorporating sunlight as a covariate in a regression model, for instance, would allow you to directly estimate its effect on plant growth and adjust the treatment (fertilizer) effects accordingly.\n",
        "\n",
        "However, there are reasons you might choose to use a block design instead:\n",
        "\n",
        "### 1. **Precision**:\n",
        "- **Blocked Design**: By grouping similar sunlight exposure levels together, you are controlling for sunlight at the design stage. This can lead to more precise estimates of the treatment effects, especially if sunlight is a major source of variability.\n",
        "- **Covariate Adjustment**: If you include sunlight as a covariate in a regression model, you are controlling for it at the analysis stage. This is also a valid approach, but it might be less powerful than a blocked design if sunlight is a major source of variability and is not perfectly linearly related to the outcome.\n",
        "\n",
        "### 2. **Unmeasured Variability**:\n",
        "- Sometimes, the variable of interest (sunlight, in this case) is not perfectly measurable, or there might be other unmeasured variables that correlate with it. Blocking can help control for both measured and unmeasured sources of variability.\n",
        "\n",
        "### 3. **Simplicity**:\n",
        "- A blocked design can sometimes lead to a simpler analysis, especially in experiments where measuring the covariate precisely is difficult or costly.\n",
        "\n",
        "### 4. **Non-linearity and Interaction**:\n",
        "- The relationship between sunlight and plant growth might be complex (non-linear or having interactions with other variables). Blocking on sunlight can sometimes provide a robust way to control for its effects without having to model this complexity explicitly.\n",
        "\n",
        "### In Summary:\n",
        "- **If you have good measurements**: If you have good, precise measurements of sunlight and are confident that you can model its relationship with plant growth accurately, including it as a covariate can be a good approach.\n",
        "  \n",
        "- **If sunlight varies a lot**: If sunlight varies a lot across your experimental units and is a major source of variability, and/or if it is difficult to measure accurately, using a block design might be more effective.\n",
        "\n",
        "- **Combined Approach**: In some cases, researchers might use a combination of both strategies: they might block on a major source of variability to control for it at the design stage, and then include additional covariates in the analysis stage to adjust for other sources of variability. This can provide a balance between the robustness of the block design and the flexibility of the covariate adjustment approach.\n",
        "\n",
        "Ultimately, the choice between using a blocked design and including a variable as a covariate in a model depends on the specifics of the experimental situation, the nature of the variables, and the goals of the analysis."
      ],
      "metadata": {
        "id": "4KZxtZzwRaIT"
      }
    },
    {
      "cell_type": "markdown",
      "source": [
        "# Acknowledgment"
      ],
      "metadata": {
        "id": "gNyqaCpLvlFa"
      }
    },
    {
      "cell_type": "markdown",
      "source": [
        "\n",
        "\n",
        "\n",
        "Reference:\n",
        "1. STAT 510 Lecture Notes, Iowa State University\n",
        "2. STAT 206 Lecture Notes, University of California, Davis\n",
        "3. SISG - Introduction to Mixed Model, Guilherme J. M. Rosa, University of Wisconsin-Madison\n",
        "4. lmmonboard: https://lmmonboard.ucdavis.edu/myapp, Hao Cheng, Chunpeng James Chen\n",
        "\n",
        "Contributors:\n",
        "* Hao Cheng (qtlcheng@ucdavis.edu), University of California, Davis\n",
        "* Tianjing Zhao (tzhao9@unl.edu), University of Nebraska-Lincoln\n",
        "* GPT-4"
      ],
      "metadata": {
        "id": "6WYcn2XulZ2F"
      }
    }
  ]
}